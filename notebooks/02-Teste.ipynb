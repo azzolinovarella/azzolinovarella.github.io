{
 "cells": [
  {
   "cell_type": "code",
   "execution_count": 36,
   "metadata": {},
   "outputs": [
    {
     "name": "stdout",
     "output_type": "stream",
     "text": [
      "A: 8.8%\n",
      "B: 15.4%\n",
      "C: 25.8%\n",
      "D: 15.5%\n",
      "F: 29.0%\n",
      "O: 5.5%\n"
     ]
    }
   ],
   "source": [
    "import time\n",
    "import os\n",
    "from selenium import webdriver\n",
    "from selenium.webdriver.chrome.options import Options\n",
    "from selenium.webdriver.common.by import By\n",
    "from selenium.webdriver.support.ui import WebDriverWait\n",
    "from selenium.webdriver.support import expected_conditions as EC\n",
    "from dotenv import load_dotenv\n",
    "\n",
    "load_dotenv()\n",
    "\n",
    "SCREEN_WIDTH = 1470\n",
    "SCREEN_HEIGHT = 956\n",
    "HEADLESS = True\n",
    "MAX_TIME_TO_WAIT = 20\n",
    "\n",
    "# Cria o driver e ajusta para que a tela do navegador fique do lado esquerdo\n",
    "options = Options()\n",
    "options.add_argument('--disable-gpu')  # Desabilita a aceleração de GPU (opcional)\n",
    "if HEADLESS: options.add_argument('--headless')  # Ativa o modo headless\n",
    "driver = webdriver.Chrome(options=options)\n",
    "if not HEADLESS:\n",
    "    driver.set_window_position(0, 0)\n",
    "    driver.set_window_size(SCREEN_WIDTH // 2, SCREEN_HEIGHT)  # Para ficar do lado esquerdo\n",
    "driver.get('https://ufabcnext.com/')\n",
    "\n",
    "# Localiza botão do Facebook e clica\n",
    "facebook_button = WebDriverWait(driver, MAX_TIME_TO_WAIT).until(\n",
    "    EC.element_to_be_clickable((By.CLASS_NAME, 'facebook-button'))\n",
    ")\n",
    "facebook_button.click()\n",
    "\n",
    "# Escreve o e-mail e RA\n",
    "input_email = WebDriverWait(driver, MAX_TIME_TO_WAIT).until(\n",
    "    EC.presence_of_element_located((By.ID, 'input-0'))\n",
    ")\n",
    "input_email.send_keys(os.environ['EMAIL'])\n",
    "input_ra = driver.find_element(by=By.ID, value='input-2')  # Não necessário usar o WebDriverWait -> Se já encontrou um, o outro tem que estar lá também \n",
    "input_ra.send_keys(os.environ['RA'])\n",
    "submit_button = driver.find_element(by=By.CSS_SELECTOR, value='button[type=\"submit\"]')\n",
    "submit_button.click()\n",
    "\n",
    "# Procura por uma matéria em específico\n",
    "subjects_input = WebDriverWait(driver, MAX_TIME_TO_WAIT).until(\n",
    "    EC.presence_of_element_located((By.ID, 'input-20'))\n",
    ")\n",
    "subjects_input.send_keys('bases matem')\n",
    "option = WebDriverWait(driver, 10).until(\n",
    "    EC.element_to_be_clickable((By.XPATH, \"//div[contains(@class, 'v-list-item')][contains(., 'bases matemáticas')]\"))\n",
    ")\n",
    "option.click()\n",
    "\n",
    "# Puxa os valores e imprime na tela\n",
    "grades_percentage = WebDriverWait(driver, MAX_TIME_TO_WAIT).until(\n",
    "    EC.visibility_of_all_elements_located((By.CLASS_NAME, 'highcharts-text-outline'))\n",
    ")\n",
    "for gp in grades_percentage:\n",
    "    gp_text = gp.text\n",
    "    grade, percentual = gp_text.split(':')[:2]  # Pega o 0 e 1\n",
    "    percentual = percentual.split('%')[0].strip()\n",
    "\n",
    "    print(f'{grade}: {percentual}%')\n",
    "    \n",
    "time.sleep(5)\n",
    "driver.quit()"
   ]
  }
 ],
 "metadata": {
  "kernelspec": {
   "display_name": "githubpages-env",
   "language": "python",
   "name": "python3"
  },
  "language_info": {
   "codemirror_mode": {
    "name": "ipython",
    "version": 3
   },
   "file_extension": ".py",
   "mimetype": "text/x-python",
   "name": "python",
   "nbconvert_exporter": "python",
   "pygments_lexer": "ipython3",
   "version": "3.12.0"
  }
 },
 "nbformat": 4,
 "nbformat_minor": 2
}
