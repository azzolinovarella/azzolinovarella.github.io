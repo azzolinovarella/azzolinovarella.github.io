{
 "cells": [
  {
   "cell_type": "markdown",
   "metadata": {},
   "source": [
    "# 01 - Gerador de Gráficos\n",
    "\n",
    "Este notebook busca consumir os dados gerados das notas obtidas nas graduações e na pós-graduação para gerar os gráficos disponibilizados na página."
   ]
  },
  {
   "cell_type": "markdown",
   "metadata": {},
   "source": [
    "## Importações"
   ]
  },
  {
   "cell_type": "code",
   "execution_count": 1,
   "metadata": {},
   "outputs": [],
   "source": [
    "import pandas as pd\n",
    "import plotly.graph_objects as go"
   ]
  },
  {
   "cell_type": "markdown",
   "metadata": {},
   "source": [
    "## Constantes"
   ]
  },
  {
   "cell_type": "code",
   "execution_count": null,
   "metadata": {},
   "outputs": [],
   "source": [
    "# TODO"
   ]
  },
  {
   "cell_type": "markdown",
   "metadata": {},
   "source": [
    "## Scripts"
   ]
  },
  {
   "cell_type": "markdown",
   "metadata": {},
   "source": [
    "### UFABC"
   ]
  },
  {
   "cell_type": "code",
   "execution_count": 59,
   "metadata": {},
   "outputs": [
    {
     "data": {
      "text/html": [
       "<div>\n",
       "<style scoped>\n",
       "    .dataframe tbody tr th:only-of-type {\n",
       "        vertical-align: middle;\n",
       "    }\n",
       "\n",
       "    .dataframe tbody tr th {\n",
       "        vertical-align: top;\n",
       "    }\n",
       "\n",
       "    .dataframe thead th {\n",
       "        text-align: right;\n",
       "    }\n",
       "</style>\n",
       "<table border=\"1\" class=\"dataframe\">\n",
       "  <thead>\n",
       "    <tr style=\"text-align: right;\">\n",
       "      <th></th>\n",
       "      <th>QUADRIMESTRE</th>\n",
       "      <th>CÓDIGO</th>\n",
       "      <th>DISCIPLINA</th>\n",
       "      <th>RESULTADO</th>\n",
       "    </tr>\n",
       "  </thead>\n",
       "  <tbody>\n",
       "    <tr>\n",
       "      <th>0</th>\n",
       "      <td>2017.2</td>\n",
       "      <td>BCS0001-15</td>\n",
       "      <td>BASE EXPERIMENTAL DAS CIÊNCIAS NATURAIS</td>\n",
       "      <td>A</td>\n",
       "    </tr>\n",
       "    <tr>\n",
       "      <th>1</th>\n",
       "      <td>2017.2</td>\n",
       "      <td>BIS0005-15</td>\n",
       "      <td>BASES COMPUTACIONAIS DA CIÊNCIA</td>\n",
       "      <td>A</td>\n",
       "    </tr>\n",
       "    <tr>\n",
       "      <th>2</th>\n",
       "      <td>2017.2</td>\n",
       "      <td>BIJ0207-15</td>\n",
       "      <td>BASES CONCEITUAIS DA ENERGIA</td>\n",
       "      <td>A</td>\n",
       "    </tr>\n",
       "    <tr>\n",
       "      <th>3</th>\n",
       "      <td>2017.2</td>\n",
       "      <td>BIS0003-15</td>\n",
       "      <td>BASES MATEMÁTICAS</td>\n",
       "      <td>C</td>\n",
       "    </tr>\n",
       "    <tr>\n",
       "      <th>4</th>\n",
       "      <td>2017.2</td>\n",
       "      <td>BIK0102-15</td>\n",
       "      <td>ESTRUTURA DA MATÉRIA</td>\n",
       "      <td>A</td>\n",
       "    </tr>\n",
       "    <tr>\n",
       "      <th>...</th>\n",
       "      <td>...</td>\n",
       "      <td>...</td>\n",
       "      <td>...</td>\n",
       "      <td>...</td>\n",
       "    </tr>\n",
       "    <tr>\n",
       "      <th>76</th>\n",
       "      <td>2023.2</td>\n",
       "      <td>ESTO015-17</td>\n",
       "      <td>MECÂNICA DOS FLUIDOS I</td>\n",
       "      <td>B</td>\n",
       "    </tr>\n",
       "    <tr>\n",
       "      <th>77</th>\n",
       "      <td>2023.2</td>\n",
       "      <td>ESTA903-17</td>\n",
       "      <td>TRABALHO DE GRADUAÇÃO II EM ENGENHARIA DE INST...</td>\n",
       "      <td>A</td>\n",
       "    </tr>\n",
       "    <tr>\n",
       "      <th>78</th>\n",
       "      <td>2023.3</td>\n",
       "      <td>ESTA008-17</td>\n",
       "      <td>SISTEMAS DE CONTROLE II</td>\n",
       "      <td>A</td>\n",
       "    </tr>\n",
       "    <tr>\n",
       "      <th>79</th>\n",
       "      <td>2023.3</td>\n",
       "      <td>ESTA022-17</td>\n",
       "      <td>TEORIA DE ACIONAMENTOS ELÉTRICOS</td>\n",
       "      <td>A</td>\n",
       "    </tr>\n",
       "    <tr>\n",
       "      <th>80</th>\n",
       "      <td>2023.3</td>\n",
       "      <td>ESTA904-17</td>\n",
       "      <td>TRABALHO DE GRADUAÇÃO III EM ENGENHARIA DE INS...</td>\n",
       "      <td>A</td>\n",
       "    </tr>\n",
       "  </tbody>\n",
       "</table>\n",
       "<p>81 rows × 4 columns</p>\n",
       "</div>"
      ],
      "text/plain": [
       "    QUADRIMESTRE      CÓDIGO  \\\n",
       "0         2017.2  BCS0001-15   \n",
       "1         2017.2  BIS0005-15   \n",
       "2         2017.2  BIJ0207-15   \n",
       "3         2017.2  BIS0003-15   \n",
       "4         2017.2  BIK0102-15   \n",
       "..           ...         ...   \n",
       "76        2023.2  ESTO015-17   \n",
       "77        2023.2  ESTA903-17   \n",
       "78        2023.3  ESTA008-17   \n",
       "79        2023.3  ESTA022-17   \n",
       "80        2023.3  ESTA904-17   \n",
       "\n",
       "                                           DISCIPLINA RESULTADO  \n",
       "0             BASE EXPERIMENTAL DAS CIÊNCIAS NATURAIS         A  \n",
       "1                     BASES COMPUTACIONAIS DA CIÊNCIA         A  \n",
       "2                        BASES CONCEITUAIS DA ENERGIA         A  \n",
       "3                                   BASES MATEMÁTICAS         C  \n",
       "4                                ESTRUTURA DA MATÉRIA         A  \n",
       "..                                                ...       ...  \n",
       "76                             MECÂNICA DOS FLUIDOS I         B  \n",
       "77  TRABALHO DE GRADUAÇÃO II EM ENGENHARIA DE INST...         A  \n",
       "78                            SISTEMAS DE CONTROLE II         A  \n",
       "79                   TEORIA DE ACIONAMENTOS ELÉTRICOS         A  \n",
       "80  TRABALHO DE GRADUAÇÃO III EM ENGENHARIA DE INS...         A  \n",
       "\n",
       "[81 rows x 4 columns]"
      ]
     },
     "execution_count": 59,
     "metadata": {},
     "output_type": "execute_result"
    }
   ],
   "source": [
    "df_ufabc_grades = pd.read_excel('./data/notas-ufabc.xlsx')\n",
    "df_ufabc_grades"
   ]
  },
  {
   "cell_type": "code",
   "execution_count": 60,
   "metadata": {},
   "outputs": [
    {
     "data": {
      "text/html": [
       "<div>\n",
       "<style scoped>\n",
       "    .dataframe tbody tr th:only-of-type {\n",
       "        vertical-align: middle;\n",
       "    }\n",
       "\n",
       "    .dataframe tbody tr th {\n",
       "        vertical-align: top;\n",
       "    }\n",
       "\n",
       "    .dataframe thead th {\n",
       "        text-align: right;\n",
       "    }\n",
       "</style>\n",
       "<table border=\"1\" class=\"dataframe\">\n",
       "  <thead>\n",
       "    <tr style=\"text-align: right;\">\n",
       "      <th></th>\n",
       "      <th>SIGLA</th>\n",
       "      <th>DISCIPLINA</th>\n",
       "      <th>TPI</th>\n",
       "      <th>RECOMENDAÇÃO</th>\n",
       "      <th>OBJETIVOS</th>\n",
       "      <th>EMENTA</th>\n",
       "      <th>BIBLIOGRAFIA BÁSICA</th>\n",
       "      <th>BIBLIOGRAFIA COMPLEMENTAR</th>\n",
       "    </tr>\n",
       "  </thead>\n",
       "  <tbody>\n",
       "    <tr>\n",
       "      <th>0</th>\n",
       "      <td>ESHR022-14</td>\n",
       "      <td>Abordagens Tradicionais das Relações Internaci...</td>\n",
       "      <td>4-0-4</td>\n",
       "      <td>Não há</td>\n",
       "      <td>NaN</td>\n",
       "      <td>Contextualização histórica da emergência das t...</td>\n",
       "      <td>CARR, Edward Hallett. Vinte anos de crise 1919...</td>\n",
       "      <td>ARON, Raymond. Paz e Guerra entre as Nações. S...</td>\n",
       "    </tr>\n",
       "    <tr>\n",
       "      <th>1</th>\n",
       "      <td>ESZM035-17</td>\n",
       "      <td>Aditivação de Polímeros</td>\n",
       "      <td>4-0-4</td>\n",
       "      <td>Síntese de Polímeros; Materiais Poliméricos</td>\n",
       "      <td>Adquirir habilidades sobre o entendimento dos ...</td>\n",
       "      <td>Tipos de aditivos e métodos para obtenção de f...</td>\n",
       "      <td>BART, J.C.J. Additives in Polymer: industrial ...</td>\n",
       "      <td>CANEVAROLO JR, S. V., Ciência dos Polímeros, A...</td>\n",
       "    </tr>\n",
       "    <tr>\n",
       "      <th>2</th>\n",
       "      <td>ESZP041-14</td>\n",
       "      <td>Administração Pública e Reforma do Estado em P...</td>\n",
       "      <td>4-0-4</td>\n",
       "      <td>Não há</td>\n",
       "      <td>A disciplina visa apresentar aos alunos a vari...</td>\n",
       "      <td>Estado, política e administração pública; Cris...</td>\n",
       "      <td>BRESSER-PEREIRA, L. C. (1998). Reforma do esta...</td>\n",
       "      <td>ABRUCIO, Fernando Luiz; LOUREIRO, Maria Rita (...</td>\n",
       "    </tr>\n",
       "    <tr>\n",
       "      <th>3</th>\n",
       "      <td>ESTS016-17</td>\n",
       "      <td>Aerodinâmica I</td>\n",
       "      <td>4-0-5</td>\n",
       "      <td>Dinâmica de Gases</td>\n",
       "      <td>Familiarizar o aluno com a física associada à ...</td>\n",
       "      <td>Força de Sustenção e arrasto; Teoria do perfil...</td>\n",
       "      <td>ANDERSON, J. D. Fundamentals of Aerodynamics. ...</td>\n",
       "      <td>BARNARD, R. H. Road Vehicle Aerodynamic Design...</td>\n",
       "    </tr>\n",
       "    <tr>\n",
       "      <th>4</th>\n",
       "      <td>ESZS019-17</td>\n",
       "      <td>Aerodinâmica II</td>\n",
       "      <td>4-0-5</td>\n",
       "      <td>Aerodinâmica I</td>\n",
       "      <td>Familiarizar o aluno com a física de escoament...</td>\n",
       "      <td>Física do escoamento subsônico e hipersônico. ...</td>\n",
       "      <td>ANDERSON J. D. Hypersonic and High Temperature...</td>\n",
       "      <td>CHATTOT, J. J. Computational Aerodynamics and ...</td>\n",
       "    </tr>\n",
       "    <tr>\n",
       "      <th>...</th>\n",
       "      <td>...</td>\n",
       "      <td>...</td>\n",
       "      <td>...</td>\n",
       "      <td>...</td>\n",
       "      <td>...</td>\n",
       "      <td>...</td>\n",
       "      <td>...</td>\n",
       "      <td>...</td>\n",
       "    </tr>\n",
       "    <tr>\n",
       "      <th>1183</th>\n",
       "      <td>ESZA019-17</td>\n",
       "      <td>Visão Computacional</td>\n",
       "      <td>3-1-4</td>\n",
       "      <td>Fundamentos de Robótica</td>\n",
       "      <td>Compreender como se realizam diversas possibil...</td>\n",
       "      <td>Formação da imagem; extração de atributos; vis...</td>\n",
       "      <td>BORENSTEIN, J.; EVERETT, H. R.; FENG, Liqang; ...</td>\n",
       "      <td>JONES, Joseph L. Mobile Robots - Inspiration t...</td>\n",
       "    </tr>\n",
       "    <tr>\n",
       "      <th>1184</th>\n",
       "      <td>MCZA031-13</td>\n",
       "      <td>Web Semântica</td>\n",
       "      <td>4-0-4</td>\n",
       "      <td>Inteligência Artificial</td>\n",
       "      <td>NaN</td>\n",
       "      <td>Introdução à Web Semântica (WS). Linguagens pa...</td>\n",
       "      <td>HITZLER, P., KRÖTZSCH, M., RUDOLPH, S. Foundat...</td>\n",
       "      <td>ANTONIOU, G.; GROTH, P.; VAN HARMELEN, F.; HOE...</td>\n",
       "    </tr>\n",
       "    <tr>\n",
       "      <th>1185</th>\n",
       "      <td>NHT1063-15</td>\n",
       "      <td>Zoologia de Invertebrados I</td>\n",
       "      <td>2-4-3</td>\n",
       "      <td>Sistemática e Biogeografia</td>\n",
       "      <td>NaN</td>\n",
       "      <td>Fundamentos de sistemática; Origem de Metazoa ...</td>\n",
       "      <td>BRUSCA, Richard C.; BRUSCA, Gary J. Invertebra...</td>\n",
       "      <td>AMORIM, Dalton de Souza. Fundamentos de sistem...</td>\n",
       "    </tr>\n",
       "    <tr>\n",
       "      <th>1186</th>\n",
       "      <td>NHT1064-15</td>\n",
       "      <td>Zoologia de Invertebrados II</td>\n",
       "      <td>2-4-3</td>\n",
       "      <td>Sistemática e Biogeografia; Zoologia de Invert...</td>\n",
       "      <td>NaN</td>\n",
       "      <td>Plano-básico de Deuterostomia; Filogenia de Ec...</td>\n",
       "      <td>BRUSCA, Richard C.; BRUSCA, Gary J. Invertebra...</td>\n",
       "      <td>AMORIM, Dalton de Souza. Fundamentos de sistem...</td>\n",
       "    </tr>\n",
       "    <tr>\n",
       "      <th>1187</th>\n",
       "      <td>NHT1065-15</td>\n",
       "      <td>Zoologia de Vertebrados</td>\n",
       "      <td>4-2-3</td>\n",
       "      <td>Sistemática e Biogeografia; Zoologia de Invert...</td>\n",
       "      <td>NaN</td>\n",
       "      <td>Filogenia de Chordata (Urochordata, Cephalocho...</td>\n",
       "      <td>BRUSCA, Richard C.; BRUSCA, Gary J. Invertebra...</td>\n",
       "      <td>AMORIM, Dalton de Souza. Fundamentos de sistem...</td>\n",
       "    </tr>\n",
       "  </tbody>\n",
       "</table>\n",
       "<p>1188 rows × 8 columns</p>\n",
       "</div>"
      ],
      "text/plain": [
       "           SIGLA                                         DISCIPLINA    TPI  \\\n",
       "0     ESHR022-14  Abordagens Tradicionais das Relações Internaci...  4-0-4   \n",
       "1     ESZM035-17                            Aditivação de Polímeros  4-0-4   \n",
       "2     ESZP041-14  Administração Pública e Reforma do Estado em P...  4-0-4   \n",
       "3     ESTS016-17                                     Aerodinâmica I  4-0-5   \n",
       "4     ESZS019-17                                    Aerodinâmica II  4-0-5   \n",
       "...          ...                                                ...    ...   \n",
       "1183  ESZA019-17                                Visão Computacional  3-1-4   \n",
       "1184  MCZA031-13                                      Web Semântica  4-0-4   \n",
       "1185  NHT1063-15                        Zoologia de Invertebrados I  2-4-3   \n",
       "1186  NHT1064-15                       Zoologia de Invertebrados II  2-4-3   \n",
       "1187  NHT1065-15                            Zoologia de Vertebrados  4-2-3   \n",
       "\n",
       "                                           RECOMENDAÇÃO  \\\n",
       "0                                                Não há   \n",
       "1           Síntese de Polímeros; Materiais Poliméricos   \n",
       "2                                                Não há   \n",
       "3                                     Dinâmica de Gases   \n",
       "4                                        Aerodinâmica I   \n",
       "...                                                 ...   \n",
       "1183                            Fundamentos de Robótica   \n",
       "1184                            Inteligência Artificial   \n",
       "1185                         Sistemática e Biogeografia   \n",
       "1186  Sistemática e Biogeografia; Zoologia de Invert...   \n",
       "1187  Sistemática e Biogeografia; Zoologia de Invert...   \n",
       "\n",
       "                                              OBJETIVOS  \\\n",
       "0                                                   NaN   \n",
       "1     Adquirir habilidades sobre o entendimento dos ...   \n",
       "2     A disciplina visa apresentar aos alunos a vari...   \n",
       "3     Familiarizar o aluno com a física associada à ...   \n",
       "4     Familiarizar o aluno com a física de escoament...   \n",
       "...                                                 ...   \n",
       "1183  Compreender como se realizam diversas possibil...   \n",
       "1184                                                NaN   \n",
       "1185                                                NaN   \n",
       "1186                                                NaN   \n",
       "1187                                                NaN   \n",
       "\n",
       "                                                 EMENTA  \\\n",
       "0     Contextualização histórica da emergência das t...   \n",
       "1     Tipos de aditivos e métodos para obtenção de f...   \n",
       "2     Estado, política e administração pública; Cris...   \n",
       "3     Força de Sustenção e arrasto; Teoria do perfil...   \n",
       "4     Física do escoamento subsônico e hipersônico. ...   \n",
       "...                                                 ...   \n",
       "1183  Formação da imagem; extração de atributos; vis...   \n",
       "1184  Introdução à Web Semântica (WS). Linguagens pa...   \n",
       "1185  Fundamentos de sistemática; Origem de Metazoa ...   \n",
       "1186  Plano-básico de Deuterostomia; Filogenia de Ec...   \n",
       "1187  Filogenia de Chordata (Urochordata, Cephalocho...   \n",
       "\n",
       "                                    BIBLIOGRAFIA BÁSICA  \\\n",
       "0     CARR, Edward Hallett. Vinte anos de crise 1919...   \n",
       "1     BART, J.C.J. Additives in Polymer: industrial ...   \n",
       "2     BRESSER-PEREIRA, L. C. (1998). Reforma do esta...   \n",
       "3     ANDERSON, J. D. Fundamentals of Aerodynamics. ...   \n",
       "4     ANDERSON J. D. Hypersonic and High Temperature...   \n",
       "...                                                 ...   \n",
       "1183  BORENSTEIN, J.; EVERETT, H. R.; FENG, Liqang; ...   \n",
       "1184  HITZLER, P., KRÖTZSCH, M., RUDOLPH, S. Foundat...   \n",
       "1185  BRUSCA, Richard C.; BRUSCA, Gary J. Invertebra...   \n",
       "1186  BRUSCA, Richard C.; BRUSCA, Gary J. Invertebra...   \n",
       "1187  BRUSCA, Richard C.; BRUSCA, Gary J. Invertebra...   \n",
       "\n",
       "                              BIBLIOGRAFIA COMPLEMENTAR  \n",
       "0     ARON, Raymond. Paz e Guerra entre as Nações. S...  \n",
       "1     CANEVAROLO JR, S. V., Ciência dos Polímeros, A...  \n",
       "2     ABRUCIO, Fernando Luiz; LOUREIRO, Maria Rita (...  \n",
       "3     BARNARD, R. H. Road Vehicle Aerodynamic Design...  \n",
       "4     CHATTOT, J. J. Computational Aerodynamics and ...  \n",
       "...                                                 ...  \n",
       "1183  JONES, Joseph L. Mobile Robots - Inspiration t...  \n",
       "1184  ANTONIOU, G.; GROTH, P.; VAN HARMELEN, F.; HOE...  \n",
       "1185  AMORIM, Dalton de Souza. Fundamentos de sistem...  \n",
       "1186  AMORIM, Dalton de Souza. Fundamentos de sistem...  \n",
       "1187  AMORIM, Dalton de Souza. Fundamentos de sistem...  \n",
       "\n",
       "[1188 rows x 8 columns]"
      ]
     },
     "execution_count": 60,
     "metadata": {},
     "output_type": "execute_result"
    }
   ],
   "source": [
    "df_ufabc_creds = pd.read_excel('./data/catalogo-disciplinas-ufabc-2017.xlsx')\n",
    "df_ufabc_creds"
   ]
  },
  {
   "cell_type": "code",
   "execution_count": 61,
   "metadata": {},
   "outputs": [
    {
     "data": {
      "text/html": [
       "<div>\n",
       "<style scoped>\n",
       "    .dataframe tbody tr th:only-of-type {\n",
       "        vertical-align: middle;\n",
       "    }\n",
       "\n",
       "    .dataframe tbody tr th {\n",
       "        vertical-align: top;\n",
       "    }\n",
       "\n",
       "    .dataframe thead th {\n",
       "        text-align: right;\n",
       "    }\n",
       "</style>\n",
       "<table border=\"1\" class=\"dataframe\">\n",
       "  <thead>\n",
       "    <tr style=\"text-align: right;\">\n",
       "      <th></th>\n",
       "      <th>SIGLA</th>\n",
       "      <th>TPI</th>\n",
       "    </tr>\n",
       "  </thead>\n",
       "  <tbody>\n",
       "    <tr>\n",
       "      <th>0</th>\n",
       "      <td>ESHR022-14</td>\n",
       "      <td>4-0-4</td>\n",
       "    </tr>\n",
       "    <tr>\n",
       "      <th>1</th>\n",
       "      <td>ESZM035-17</td>\n",
       "      <td>4-0-4</td>\n",
       "    </tr>\n",
       "    <tr>\n",
       "      <th>2</th>\n",
       "      <td>ESZP041-14</td>\n",
       "      <td>4-0-4</td>\n",
       "    </tr>\n",
       "    <tr>\n",
       "      <th>3</th>\n",
       "      <td>ESTS016-17</td>\n",
       "      <td>4-0-5</td>\n",
       "    </tr>\n",
       "    <tr>\n",
       "      <th>4</th>\n",
       "      <td>ESZS019-17</td>\n",
       "      <td>4-0-5</td>\n",
       "    </tr>\n",
       "    <tr>\n",
       "      <th>...</th>\n",
       "      <td>...</td>\n",
       "      <td>...</td>\n",
       "    </tr>\n",
       "    <tr>\n",
       "      <th>1183</th>\n",
       "      <td>ESZA019-17</td>\n",
       "      <td>3-1-4</td>\n",
       "    </tr>\n",
       "    <tr>\n",
       "      <th>1184</th>\n",
       "      <td>MCZA031-13</td>\n",
       "      <td>4-0-4</td>\n",
       "    </tr>\n",
       "    <tr>\n",
       "      <th>1185</th>\n",
       "      <td>NHT1063-15</td>\n",
       "      <td>2-4-3</td>\n",
       "    </tr>\n",
       "    <tr>\n",
       "      <th>1186</th>\n",
       "      <td>NHT1064-15</td>\n",
       "      <td>2-4-3</td>\n",
       "    </tr>\n",
       "    <tr>\n",
       "      <th>1187</th>\n",
       "      <td>NHT1065-15</td>\n",
       "      <td>4-2-3</td>\n",
       "    </tr>\n",
       "  </tbody>\n",
       "</table>\n",
       "<p>1188 rows × 2 columns</p>\n",
       "</div>"
      ],
      "text/plain": [
       "           SIGLA    TPI\n",
       "0     ESHR022-14  4-0-4\n",
       "1     ESZM035-17  4-0-4\n",
       "2     ESZP041-14  4-0-4\n",
       "3     ESTS016-17  4-0-5\n",
       "4     ESZS019-17  4-0-5\n",
       "...          ...    ...\n",
       "1183  ESZA019-17  3-1-4\n",
       "1184  MCZA031-13  4-0-4\n",
       "1185  NHT1063-15  2-4-3\n",
       "1186  NHT1064-15  2-4-3\n",
       "1187  NHT1065-15  4-2-3\n",
       "\n",
       "[1188 rows x 2 columns]"
      ]
     },
     "execution_count": 61,
     "metadata": {},
     "output_type": "execute_result"
    }
   ],
   "source": [
    "df_ufabc_creds = df_ufabc_creds[['SIGLA', 'TPI']]\n",
    "df_ufabc_creds"
   ]
  },
  {
   "cell_type": "code",
   "execution_count": 62,
   "metadata": {},
   "outputs": [
    {
     "data": {
      "text/html": [
       "<div>\n",
       "<style scoped>\n",
       "    .dataframe tbody tr th:only-of-type {\n",
       "        vertical-align: middle;\n",
       "    }\n",
       "\n",
       "    .dataframe tbody tr th {\n",
       "        vertical-align: top;\n",
       "    }\n",
       "\n",
       "    .dataframe thead th {\n",
       "        text-align: right;\n",
       "    }\n",
       "</style>\n",
       "<table border=\"1\" class=\"dataframe\">\n",
       "  <thead>\n",
       "    <tr style=\"text-align: right;\">\n",
       "      <th></th>\n",
       "      <th>QUADRIMESTRE</th>\n",
       "      <th>CÓDIGO</th>\n",
       "      <th>DISCIPLINA</th>\n",
       "      <th>RESULTADO</th>\n",
       "      <th>TPI</th>\n",
       "    </tr>\n",
       "  </thead>\n",
       "  <tbody>\n",
       "    <tr>\n",
       "      <th>0</th>\n",
       "      <td>2017.2</td>\n",
       "      <td>BCS0001-15</td>\n",
       "      <td>BASE EXPERIMENTAL DAS CIÊNCIAS NATURAIS</td>\n",
       "      <td>A</td>\n",
       "      <td>0-3-2</td>\n",
       "    </tr>\n",
       "    <tr>\n",
       "      <th>1</th>\n",
       "      <td>2017.2</td>\n",
       "      <td>BIS0005-15</td>\n",
       "      <td>BASES COMPUTACIONAIS DA CIÊNCIA</td>\n",
       "      <td>A</td>\n",
       "      <td>0-2-2</td>\n",
       "    </tr>\n",
       "    <tr>\n",
       "      <th>2</th>\n",
       "      <td>2017.2</td>\n",
       "      <td>BIJ0207-15</td>\n",
       "      <td>BASES CONCEITUAIS DA ENERGIA</td>\n",
       "      <td>A</td>\n",
       "      <td>2-0-4</td>\n",
       "    </tr>\n",
       "    <tr>\n",
       "      <th>3</th>\n",
       "      <td>2017.2</td>\n",
       "      <td>BIS0003-15</td>\n",
       "      <td>BASES MATEMÁTICAS</td>\n",
       "      <td>C</td>\n",
       "      <td>4-0-5</td>\n",
       "    </tr>\n",
       "    <tr>\n",
       "      <th>4</th>\n",
       "      <td>2017.2</td>\n",
       "      <td>BIK0102-15</td>\n",
       "      <td>ESTRUTURA DA MATÉRIA</td>\n",
       "      <td>A</td>\n",
       "      <td>3-0-4</td>\n",
       "    </tr>\n",
       "    <tr>\n",
       "      <th>...</th>\n",
       "      <td>...</td>\n",
       "      <td>...</td>\n",
       "      <td>...</td>\n",
       "      <td>...</td>\n",
       "      <td>...</td>\n",
       "    </tr>\n",
       "    <tr>\n",
       "      <th>76</th>\n",
       "      <td>2023.2</td>\n",
       "      <td>ESTO015-17</td>\n",
       "      <td>MECÂNICA DOS FLUIDOS I</td>\n",
       "      <td>B</td>\n",
       "      <td>4-0-5</td>\n",
       "    </tr>\n",
       "    <tr>\n",
       "      <th>77</th>\n",
       "      <td>2023.2</td>\n",
       "      <td>ESTA903-17</td>\n",
       "      <td>TRABALHO DE GRADUAÇÃO II EM ENGENHARIA DE INST...</td>\n",
       "      <td>A</td>\n",
       "      <td>0-2-4</td>\n",
       "    </tr>\n",
       "    <tr>\n",
       "      <th>78</th>\n",
       "      <td>2023.3</td>\n",
       "      <td>ESTA008-17</td>\n",
       "      <td>SISTEMAS DE CONTROLE II</td>\n",
       "      <td>A</td>\n",
       "      <td>3-2-4</td>\n",
       "    </tr>\n",
       "    <tr>\n",
       "      <th>79</th>\n",
       "      <td>2023.3</td>\n",
       "      <td>ESTA022-17</td>\n",
       "      <td>TEORIA DE ACIONAMENTOS ELÉTRICOS</td>\n",
       "      <td>A</td>\n",
       "      <td>4-0-4</td>\n",
       "    </tr>\n",
       "    <tr>\n",
       "      <th>80</th>\n",
       "      <td>2023.3</td>\n",
       "      <td>ESTA904-17</td>\n",
       "      <td>TRABALHO DE GRADUAÇÃO III EM ENGENHARIA DE INS...</td>\n",
       "      <td>A</td>\n",
       "      <td>0-2-4</td>\n",
       "    </tr>\n",
       "  </tbody>\n",
       "</table>\n",
       "<p>81 rows × 5 columns</p>\n",
       "</div>"
      ],
      "text/plain": [
       "    QUADRIMESTRE      CÓDIGO  \\\n",
       "0         2017.2  BCS0001-15   \n",
       "1         2017.2  BIS0005-15   \n",
       "2         2017.2  BIJ0207-15   \n",
       "3         2017.2  BIS0003-15   \n",
       "4         2017.2  BIK0102-15   \n",
       "..           ...         ...   \n",
       "76        2023.2  ESTO015-17   \n",
       "77        2023.2  ESTA903-17   \n",
       "78        2023.3  ESTA008-17   \n",
       "79        2023.3  ESTA022-17   \n",
       "80        2023.3  ESTA904-17   \n",
       "\n",
       "                                           DISCIPLINA RESULTADO    TPI  \n",
       "0             BASE EXPERIMENTAL DAS CIÊNCIAS NATURAIS         A  0-3-2  \n",
       "1                     BASES COMPUTACIONAIS DA CIÊNCIA         A  0-2-2  \n",
       "2                        BASES CONCEITUAIS DA ENERGIA         A  2-0-4  \n",
       "3                                   BASES MATEMÁTICAS         C  4-0-5  \n",
       "4                                ESTRUTURA DA MATÉRIA         A  3-0-4  \n",
       "..                                                ...       ...    ...  \n",
       "76                             MECÂNICA DOS FLUIDOS I         B  4-0-5  \n",
       "77  TRABALHO DE GRADUAÇÃO II EM ENGENHARIA DE INST...         A  0-2-4  \n",
       "78                            SISTEMAS DE CONTROLE II         A  3-2-4  \n",
       "79                   TEORIA DE ACIONAMENTOS ELÉTRICOS         A  4-0-4  \n",
       "80  TRABALHO DE GRADUAÇÃO III EM ENGENHARIA DE INS...         A  0-2-4  \n",
       "\n",
       "[81 rows x 5 columns]"
      ]
     },
     "execution_count": 62,
     "metadata": {},
     "output_type": "execute_result"
    }
   ],
   "source": [
    "df_ufabc = df_ufabc_grades.join(df_ufabc_creds.set_index('SIGLA'), on='CÓDIGO', how='left')\n",
    "df_ufabc"
   ]
  },
  {
   "cell_type": "code",
   "execution_count": 63,
   "metadata": {},
   "outputs": [
    {
     "data": {
      "text/html": [
       "<div>\n",
       "<style scoped>\n",
       "    .dataframe tbody tr th:only-of-type {\n",
       "        vertical-align: middle;\n",
       "    }\n",
       "\n",
       "    .dataframe tbody tr th {\n",
       "        vertical-align: top;\n",
       "    }\n",
       "\n",
       "    .dataframe thead th {\n",
       "        text-align: right;\n",
       "    }\n",
       "</style>\n",
       "<table border=\"1\" class=\"dataframe\">\n",
       "  <thead>\n",
       "    <tr style=\"text-align: right;\">\n",
       "      <th></th>\n",
       "      <th>QUADRIMESTRE</th>\n",
       "      <th>CÓDIGO</th>\n",
       "      <th>DISCIPLINA</th>\n",
       "      <th>RESULTADO</th>\n",
       "      <th>TPI</th>\n",
       "    </tr>\n",
       "  </thead>\n",
       "  <tbody>\n",
       "  </tbody>\n",
       "</table>\n",
       "</div>"
      ],
      "text/plain": [
       "Empty DataFrame\n",
       "Columns: [QUADRIMESTRE, CÓDIGO, DISCIPLINA, RESULTADO, TPI]\n",
       "Index: []"
      ]
     },
     "execution_count": 63,
     "metadata": {},
     "output_type": "execute_result"
    }
   ],
   "source": [
    "df_ufabc[df_ufabc.isna().any(axis=1)]"
   ]
  },
  {
   "cell_type": "code",
   "execution_count": 65,
   "metadata": {},
   "outputs": [
    {
     "data": {
      "text/html": [
       "<div>\n",
       "<style scoped>\n",
       "    .dataframe tbody tr th:only-of-type {\n",
       "        vertical-align: middle;\n",
       "    }\n",
       "\n",
       "    .dataframe tbody tr th {\n",
       "        vertical-align: top;\n",
       "    }\n",
       "\n",
       "    .dataframe thead th {\n",
       "        text-align: right;\n",
       "    }\n",
       "</style>\n",
       "<table border=\"1\" class=\"dataframe\">\n",
       "  <thead>\n",
       "    <tr style=\"text-align: right;\">\n",
       "      <th></th>\n",
       "      <th>QUADRIMESTRE</th>\n",
       "      <th>CÓDIGO</th>\n",
       "      <th>DISCIPLINA</th>\n",
       "      <th>RESULTADO</th>\n",
       "      <th>TPI</th>\n",
       "      <th>CRÉDITOS</th>\n",
       "    </tr>\n",
       "  </thead>\n",
       "  <tbody>\n",
       "    <tr>\n",
       "      <th>0</th>\n",
       "      <td>2017.2</td>\n",
       "      <td>BCS0001-15</td>\n",
       "      <td>BASE EXPERIMENTAL DAS CIÊNCIAS NATURAIS</td>\n",
       "      <td>A</td>\n",
       "      <td>0-3-2</td>\n",
       "      <td>3</td>\n",
       "    </tr>\n",
       "    <tr>\n",
       "      <th>1</th>\n",
       "      <td>2017.2</td>\n",
       "      <td>BIS0005-15</td>\n",
       "      <td>BASES COMPUTACIONAIS DA CIÊNCIA</td>\n",
       "      <td>A</td>\n",
       "      <td>0-2-2</td>\n",
       "      <td>2</td>\n",
       "    </tr>\n",
       "    <tr>\n",
       "      <th>2</th>\n",
       "      <td>2017.2</td>\n",
       "      <td>BIJ0207-15</td>\n",
       "      <td>BASES CONCEITUAIS DA ENERGIA</td>\n",
       "      <td>A</td>\n",
       "      <td>2-0-4</td>\n",
       "      <td>2</td>\n",
       "    </tr>\n",
       "    <tr>\n",
       "      <th>3</th>\n",
       "      <td>2017.2</td>\n",
       "      <td>BIS0003-15</td>\n",
       "      <td>BASES MATEMÁTICAS</td>\n",
       "      <td>C</td>\n",
       "      <td>4-0-5</td>\n",
       "      <td>4</td>\n",
       "    </tr>\n",
       "    <tr>\n",
       "      <th>4</th>\n",
       "      <td>2017.2</td>\n",
       "      <td>BIK0102-15</td>\n",
       "      <td>ESTRUTURA DA MATÉRIA</td>\n",
       "      <td>A</td>\n",
       "      <td>3-0-4</td>\n",
       "      <td>3</td>\n",
       "    </tr>\n",
       "    <tr>\n",
       "      <th>...</th>\n",
       "      <td>...</td>\n",
       "      <td>...</td>\n",
       "      <td>...</td>\n",
       "      <td>...</td>\n",
       "      <td>...</td>\n",
       "      <td>...</td>\n",
       "    </tr>\n",
       "    <tr>\n",
       "      <th>76</th>\n",
       "      <td>2023.2</td>\n",
       "      <td>ESTO015-17</td>\n",
       "      <td>MECÂNICA DOS FLUIDOS I</td>\n",
       "      <td>B</td>\n",
       "      <td>4-0-5</td>\n",
       "      <td>4</td>\n",
       "    </tr>\n",
       "    <tr>\n",
       "      <th>77</th>\n",
       "      <td>2023.2</td>\n",
       "      <td>ESTA903-17</td>\n",
       "      <td>TRABALHO DE GRADUAÇÃO II EM ENGENHARIA DE INST...</td>\n",
       "      <td>A</td>\n",
       "      <td>0-2-4</td>\n",
       "      <td>2</td>\n",
       "    </tr>\n",
       "    <tr>\n",
       "      <th>78</th>\n",
       "      <td>2023.3</td>\n",
       "      <td>ESTA008-17</td>\n",
       "      <td>SISTEMAS DE CONTROLE II</td>\n",
       "      <td>A</td>\n",
       "      <td>3-2-4</td>\n",
       "      <td>5</td>\n",
       "    </tr>\n",
       "    <tr>\n",
       "      <th>79</th>\n",
       "      <td>2023.3</td>\n",
       "      <td>ESTA022-17</td>\n",
       "      <td>TEORIA DE ACIONAMENTOS ELÉTRICOS</td>\n",
       "      <td>A</td>\n",
       "      <td>4-0-4</td>\n",
       "      <td>4</td>\n",
       "    </tr>\n",
       "    <tr>\n",
       "      <th>80</th>\n",
       "      <td>2023.3</td>\n",
       "      <td>ESTA904-17</td>\n",
       "      <td>TRABALHO DE GRADUAÇÃO III EM ENGENHARIA DE INS...</td>\n",
       "      <td>A</td>\n",
       "      <td>0-2-4</td>\n",
       "      <td>2</td>\n",
       "    </tr>\n",
       "  </tbody>\n",
       "</table>\n",
       "<p>81 rows × 6 columns</p>\n",
       "</div>"
      ],
      "text/plain": [
       "    QUADRIMESTRE      CÓDIGO  \\\n",
       "0         2017.2  BCS0001-15   \n",
       "1         2017.2  BIS0005-15   \n",
       "2         2017.2  BIJ0207-15   \n",
       "3         2017.2  BIS0003-15   \n",
       "4         2017.2  BIK0102-15   \n",
       "..           ...         ...   \n",
       "76        2023.2  ESTO015-17   \n",
       "77        2023.2  ESTA903-17   \n",
       "78        2023.3  ESTA008-17   \n",
       "79        2023.3  ESTA022-17   \n",
       "80        2023.3  ESTA904-17   \n",
       "\n",
       "                                           DISCIPLINA RESULTADO    TPI  \\\n",
       "0             BASE EXPERIMENTAL DAS CIÊNCIAS NATURAIS         A  0-3-2   \n",
       "1                     BASES COMPUTACIONAIS DA CIÊNCIA         A  0-2-2   \n",
       "2                        BASES CONCEITUAIS DA ENERGIA         A  2-0-4   \n",
       "3                                   BASES MATEMÁTICAS         C  4-0-5   \n",
       "4                                ESTRUTURA DA MATÉRIA         A  3-0-4   \n",
       "..                                                ...       ...    ...   \n",
       "76                             MECÂNICA DOS FLUIDOS I         B  4-0-5   \n",
       "77  TRABALHO DE GRADUAÇÃO II EM ENGENHARIA DE INST...         A  0-2-4   \n",
       "78                            SISTEMAS DE CONTROLE II         A  3-2-4   \n",
       "79                   TEORIA DE ACIONAMENTOS ELÉTRICOS         A  4-0-4   \n",
       "80  TRABALHO DE GRADUAÇÃO III EM ENGENHARIA DE INS...         A  0-2-4   \n",
       "\n",
       "    CRÉDITOS  \n",
       "0          3  \n",
       "1          2  \n",
       "2          2  \n",
       "3          4  \n",
       "4          3  \n",
       "..       ...  \n",
       "76         4  \n",
       "77         2  \n",
       "78         5  \n",
       "79         4  \n",
       "80         2  \n",
       "\n",
       "[81 rows x 6 columns]"
      ]
     },
     "execution_count": 65,
     "metadata": {},
     "output_type": "execute_result"
    }
   ],
   "source": [
    "df_ufabc['CRÉDITOS'] = df_ufabc['TPI'].apply(lambda s: int(s.split('-')[0]) + int(s.split('-')[1]))\n",
    "df_ufabc"
   ]
  },
  {
   "cell_type": "code",
   "execution_count": 2,
   "metadata": {},
   "outputs": [
    {
     "data": {
      "application/vnd.plotly.v1+json": {
       "config": {
        "plotlyServerURL": "https://plot.ly"
       },
       "data": [
        {
         "type": "scatter",
         "x": [
          0,
          1
         ],
         "y": [
          0,
          1
         ]
        }
       ],
       "layout": {
        "template": {
         "data": {
          "bar": [
           {
            "error_x": {
             "color": "#2a3f5f"
            },
            "error_y": {
             "color": "#2a3f5f"
            },
            "marker": {
             "line": {
              "color": "#E5ECF6",
              "width": 0.5
             },
             "pattern": {
              "fillmode": "overlay",
              "size": 10,
              "solidity": 0.2
             }
            },
            "type": "bar"
           }
          ],
          "barpolar": [
           {
            "marker": {
             "line": {
              "color": "#E5ECF6",
              "width": 0.5
             },
             "pattern": {
              "fillmode": "overlay",
              "size": 10,
              "solidity": 0.2
             }
            },
            "type": "barpolar"
           }
          ],
          "carpet": [
           {
            "aaxis": {
             "endlinecolor": "#2a3f5f",
             "gridcolor": "white",
             "linecolor": "white",
             "minorgridcolor": "white",
             "startlinecolor": "#2a3f5f"
            },
            "baxis": {
             "endlinecolor": "#2a3f5f",
             "gridcolor": "white",
             "linecolor": "white",
             "minorgridcolor": "white",
             "startlinecolor": "#2a3f5f"
            },
            "type": "carpet"
           }
          ],
          "choropleth": [
           {
            "colorbar": {
             "outlinewidth": 0,
             "ticks": ""
            },
            "type": "choropleth"
           }
          ],
          "contour": [
           {
            "colorbar": {
             "outlinewidth": 0,
             "ticks": ""
            },
            "colorscale": [
             [
              0,
              "#0d0887"
             ],
             [
              0.1111111111111111,
              "#46039f"
             ],
             [
              0.2222222222222222,
              "#7201a8"
             ],
             [
              0.3333333333333333,
              "#9c179e"
             ],
             [
              0.4444444444444444,
              "#bd3786"
             ],
             [
              0.5555555555555556,
              "#d8576b"
             ],
             [
              0.6666666666666666,
              "#ed7953"
             ],
             [
              0.7777777777777778,
              "#fb9f3a"
             ],
             [
              0.8888888888888888,
              "#fdca26"
             ],
             [
              1,
              "#f0f921"
             ]
            ],
            "type": "contour"
           }
          ],
          "contourcarpet": [
           {
            "colorbar": {
             "outlinewidth": 0,
             "ticks": ""
            },
            "type": "contourcarpet"
           }
          ],
          "heatmap": [
           {
            "colorbar": {
             "outlinewidth": 0,
             "ticks": ""
            },
            "colorscale": [
             [
              0,
              "#0d0887"
             ],
             [
              0.1111111111111111,
              "#46039f"
             ],
             [
              0.2222222222222222,
              "#7201a8"
             ],
             [
              0.3333333333333333,
              "#9c179e"
             ],
             [
              0.4444444444444444,
              "#bd3786"
             ],
             [
              0.5555555555555556,
              "#d8576b"
             ],
             [
              0.6666666666666666,
              "#ed7953"
             ],
             [
              0.7777777777777778,
              "#fb9f3a"
             ],
             [
              0.8888888888888888,
              "#fdca26"
             ],
             [
              1,
              "#f0f921"
             ]
            ],
            "type": "heatmap"
           }
          ],
          "heatmapgl": [
           {
            "colorbar": {
             "outlinewidth": 0,
             "ticks": ""
            },
            "colorscale": [
             [
              0,
              "#0d0887"
             ],
             [
              0.1111111111111111,
              "#46039f"
             ],
             [
              0.2222222222222222,
              "#7201a8"
             ],
             [
              0.3333333333333333,
              "#9c179e"
             ],
             [
              0.4444444444444444,
              "#bd3786"
             ],
             [
              0.5555555555555556,
              "#d8576b"
             ],
             [
              0.6666666666666666,
              "#ed7953"
             ],
             [
              0.7777777777777778,
              "#fb9f3a"
             ],
             [
              0.8888888888888888,
              "#fdca26"
             ],
             [
              1,
              "#f0f921"
             ]
            ],
            "type": "heatmapgl"
           }
          ],
          "histogram": [
           {
            "marker": {
             "pattern": {
              "fillmode": "overlay",
              "size": 10,
              "solidity": 0.2
             }
            },
            "type": "histogram"
           }
          ],
          "histogram2d": [
           {
            "colorbar": {
             "outlinewidth": 0,
             "ticks": ""
            },
            "colorscale": [
             [
              0,
              "#0d0887"
             ],
             [
              0.1111111111111111,
              "#46039f"
             ],
             [
              0.2222222222222222,
              "#7201a8"
             ],
             [
              0.3333333333333333,
              "#9c179e"
             ],
             [
              0.4444444444444444,
              "#bd3786"
             ],
             [
              0.5555555555555556,
              "#d8576b"
             ],
             [
              0.6666666666666666,
              "#ed7953"
             ],
             [
              0.7777777777777778,
              "#fb9f3a"
             ],
             [
              0.8888888888888888,
              "#fdca26"
             ],
             [
              1,
              "#f0f921"
             ]
            ],
            "type": "histogram2d"
           }
          ],
          "histogram2dcontour": [
           {
            "colorbar": {
             "outlinewidth": 0,
             "ticks": ""
            },
            "colorscale": [
             [
              0,
              "#0d0887"
             ],
             [
              0.1111111111111111,
              "#46039f"
             ],
             [
              0.2222222222222222,
              "#7201a8"
             ],
             [
              0.3333333333333333,
              "#9c179e"
             ],
             [
              0.4444444444444444,
              "#bd3786"
             ],
             [
              0.5555555555555556,
              "#d8576b"
             ],
             [
              0.6666666666666666,
              "#ed7953"
             ],
             [
              0.7777777777777778,
              "#fb9f3a"
             ],
             [
              0.8888888888888888,
              "#fdca26"
             ],
             [
              1,
              "#f0f921"
             ]
            ],
            "type": "histogram2dcontour"
           }
          ],
          "mesh3d": [
           {
            "colorbar": {
             "outlinewidth": 0,
             "ticks": ""
            },
            "type": "mesh3d"
           }
          ],
          "parcoords": [
           {
            "line": {
             "colorbar": {
              "outlinewidth": 0,
              "ticks": ""
             }
            },
            "type": "parcoords"
           }
          ],
          "pie": [
           {
            "automargin": true,
            "type": "pie"
           }
          ],
          "scatter": [
           {
            "fillpattern": {
             "fillmode": "overlay",
             "size": 10,
             "solidity": 0.2
            },
            "type": "scatter"
           }
          ],
          "scatter3d": [
           {
            "line": {
             "colorbar": {
              "outlinewidth": 0,
              "ticks": ""
             }
            },
            "marker": {
             "colorbar": {
              "outlinewidth": 0,
              "ticks": ""
             }
            },
            "type": "scatter3d"
           }
          ],
          "scattercarpet": [
           {
            "marker": {
             "colorbar": {
              "outlinewidth": 0,
              "ticks": ""
             }
            },
            "type": "scattercarpet"
           }
          ],
          "scattergeo": [
           {
            "marker": {
             "colorbar": {
              "outlinewidth": 0,
              "ticks": ""
             }
            },
            "type": "scattergeo"
           }
          ],
          "scattergl": [
           {
            "marker": {
             "colorbar": {
              "outlinewidth": 0,
              "ticks": ""
             }
            },
            "type": "scattergl"
           }
          ],
          "scattermapbox": [
           {
            "marker": {
             "colorbar": {
              "outlinewidth": 0,
              "ticks": ""
             }
            },
            "type": "scattermapbox"
           }
          ],
          "scatterpolar": [
           {
            "marker": {
             "colorbar": {
              "outlinewidth": 0,
              "ticks": ""
             }
            },
            "type": "scatterpolar"
           }
          ],
          "scatterpolargl": [
           {
            "marker": {
             "colorbar": {
              "outlinewidth": 0,
              "ticks": ""
             }
            },
            "type": "scatterpolargl"
           }
          ],
          "scatterternary": [
           {
            "marker": {
             "colorbar": {
              "outlinewidth": 0,
              "ticks": ""
             }
            },
            "type": "scatterternary"
           }
          ],
          "surface": [
           {
            "colorbar": {
             "outlinewidth": 0,
             "ticks": ""
            },
            "colorscale": [
             [
              0,
              "#0d0887"
             ],
             [
              0.1111111111111111,
              "#46039f"
             ],
             [
              0.2222222222222222,
              "#7201a8"
             ],
             [
              0.3333333333333333,
              "#9c179e"
             ],
             [
              0.4444444444444444,
              "#bd3786"
             ],
             [
              0.5555555555555556,
              "#d8576b"
             ],
             [
              0.6666666666666666,
              "#ed7953"
             ],
             [
              0.7777777777777778,
              "#fb9f3a"
             ],
             [
              0.8888888888888888,
              "#fdca26"
             ],
             [
              1,
              "#f0f921"
             ]
            ],
            "type": "surface"
           }
          ],
          "table": [
           {
            "cells": {
             "fill": {
              "color": "#EBF0F8"
             },
             "line": {
              "color": "white"
             }
            },
            "header": {
             "fill": {
              "color": "#C8D4E3"
             },
             "line": {
              "color": "white"
             }
            },
            "type": "table"
           }
          ]
         },
         "layout": {
          "annotationdefaults": {
           "arrowcolor": "#2a3f5f",
           "arrowhead": 0,
           "arrowwidth": 1
          },
          "autotypenumbers": "strict",
          "coloraxis": {
           "colorbar": {
            "outlinewidth": 0,
            "ticks": ""
           }
          },
          "colorscale": {
           "diverging": [
            [
             0,
             "#8e0152"
            ],
            [
             0.1,
             "#c51b7d"
            ],
            [
             0.2,
             "#de77ae"
            ],
            [
             0.3,
             "#f1b6da"
            ],
            [
             0.4,
             "#fde0ef"
            ],
            [
             0.5,
             "#f7f7f7"
            ],
            [
             0.6,
             "#e6f5d0"
            ],
            [
             0.7,
             "#b8e186"
            ],
            [
             0.8,
             "#7fbc41"
            ],
            [
             0.9,
             "#4d9221"
            ],
            [
             1,
             "#276419"
            ]
           ],
           "sequential": [
            [
             0,
             "#0d0887"
            ],
            [
             0.1111111111111111,
             "#46039f"
            ],
            [
             0.2222222222222222,
             "#7201a8"
            ],
            [
             0.3333333333333333,
             "#9c179e"
            ],
            [
             0.4444444444444444,
             "#bd3786"
            ],
            [
             0.5555555555555556,
             "#d8576b"
            ],
            [
             0.6666666666666666,
             "#ed7953"
            ],
            [
             0.7777777777777778,
             "#fb9f3a"
            ],
            [
             0.8888888888888888,
             "#fdca26"
            ],
            [
             1,
             "#f0f921"
            ]
           ],
           "sequentialminus": [
            [
             0,
             "#0d0887"
            ],
            [
             0.1111111111111111,
             "#46039f"
            ],
            [
             0.2222222222222222,
             "#7201a8"
            ],
            [
             0.3333333333333333,
             "#9c179e"
            ],
            [
             0.4444444444444444,
             "#bd3786"
            ],
            [
             0.5555555555555556,
             "#d8576b"
            ],
            [
             0.6666666666666666,
             "#ed7953"
            ],
            [
             0.7777777777777778,
             "#fb9f3a"
            ],
            [
             0.8888888888888888,
             "#fdca26"
            ],
            [
             1,
             "#f0f921"
            ]
           ]
          },
          "colorway": [
           "#636efa",
           "#EF553B",
           "#00cc96",
           "#ab63fa",
           "#FFA15A",
           "#19d3f3",
           "#FF6692",
           "#B6E880",
           "#FF97FF",
           "#FECB52"
          ],
          "font": {
           "color": "#2a3f5f"
          },
          "geo": {
           "bgcolor": "white",
           "lakecolor": "white",
           "landcolor": "#E5ECF6",
           "showlakes": true,
           "showland": true,
           "subunitcolor": "white"
          },
          "hoverlabel": {
           "align": "left"
          },
          "hovermode": "closest",
          "mapbox": {
           "style": "light"
          },
          "paper_bgcolor": "white",
          "plot_bgcolor": "#E5ECF6",
          "polar": {
           "angularaxis": {
            "gridcolor": "white",
            "linecolor": "white",
            "ticks": ""
           },
           "bgcolor": "#E5ECF6",
           "radialaxis": {
            "gridcolor": "white",
            "linecolor": "white",
            "ticks": ""
           }
          },
          "scene": {
           "xaxis": {
            "backgroundcolor": "#E5ECF6",
            "gridcolor": "white",
            "gridwidth": 2,
            "linecolor": "white",
            "showbackground": true,
            "ticks": "",
            "zerolinecolor": "white"
           },
           "yaxis": {
            "backgroundcolor": "#E5ECF6",
            "gridcolor": "white",
            "gridwidth": 2,
            "linecolor": "white",
            "showbackground": true,
            "ticks": "",
            "zerolinecolor": "white"
           },
           "zaxis": {
            "backgroundcolor": "#E5ECF6",
            "gridcolor": "white",
            "gridwidth": 2,
            "linecolor": "white",
            "showbackground": true,
            "ticks": "",
            "zerolinecolor": "white"
           }
          },
          "shapedefaults": {
           "line": {
            "color": "#2a3f5f"
           }
          },
          "ternary": {
           "aaxis": {
            "gridcolor": "white",
            "linecolor": "white",
            "ticks": ""
           },
           "baxis": {
            "gridcolor": "white",
            "linecolor": "white",
            "ticks": ""
           },
           "bgcolor": "#E5ECF6",
           "caxis": {
            "gridcolor": "white",
            "linecolor": "white",
            "ticks": ""
           }
          },
          "title": {
           "x": 0.05
          },
          "xaxis": {
           "automargin": true,
           "gridcolor": "white",
           "linecolor": "white",
           "ticks": "",
           "title": {
            "standoff": 15
           },
           "zerolinecolor": "white",
           "zerolinewidth": 2
          },
          "yaxis": {
           "automargin": true,
           "gridcolor": "white",
           "linecolor": "white",
           "ticks": "",
           "title": {
            "standoff": 15
           },
           "zerolinecolor": "white",
           "zerolinewidth": 2
          }
         }
        }
       }
      }
     },
     "metadata": {},
     "output_type": "display_data"
    }
   ],
   "source": [
    "# Exemplo\n",
    "fig = go.Figure()\n",
    "fig.add_trace(go.Scatter(x=[0, 1], y=[0, 1]))\n",
    "fig.show()"
   ]
  },
  {
   "cell_type": "code",
   "execution_count": 3,
   "metadata": {},
   "outputs": [],
   "source": [
    "fig.write_html('../figs/example.html')"
   ]
  },
  {
   "cell_type": "markdown",
   "metadata": {},
   "source": [
    "#### CIn-UFPE"
   ]
  },
  {
   "cell_type": "code",
   "execution_count": null,
   "metadata": {},
   "outputs": [],
   "source": [
    "# TODO"
   ]
  }
 ],
 "metadata": {
  "kernelspec": {
   "display_name": "githubpages-env",
   "language": "python",
   "name": "python3"
  },
  "language_info": {
   "codemirror_mode": {
    "name": "ipython",
    "version": 3
   },
   "file_extension": ".py",
   "mimetype": "text/x-python",
   "name": "python",
   "nbconvert_exporter": "python",
   "pygments_lexer": "ipython3",
   "version": "3.12.0"
  }
 },
 "nbformat": 4,
 "nbformat_minor": 2
}
