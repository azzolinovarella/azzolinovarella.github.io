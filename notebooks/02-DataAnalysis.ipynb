{
 "cells": [
  {
   "cell_type": "markdown",
   "metadata": {},
   "source": [
    "# 02 - Análise de Dados\n",
    "\n",
    "Este notebook busca consumir os dados gerados das notas obtidas nas graduações e na pós-graduação para gerar os gráficos disponibilizados na página."
   ]
  },
  {
   "cell_type": "markdown",
   "metadata": {},
   "source": [
    "## Importações"
   ]
  },
  {
   "cell_type": "code",
   "execution_count": 510,
   "metadata": {},
   "outputs": [],
   "source": [
    "import pandas as pd\n",
    "import numpy as np\n",
    "import plotly.graph_objects as go\n",
    "import plotly.io as pio\n",
    "from plotly.subplots import make_subplots"
   ]
  },
  {
   "cell_type": "markdown",
   "metadata": {},
   "source": [
    "## Constantes e sets"
   ]
  },
  {
   "cell_type": "code",
   "execution_count": 511,
   "metadata": {},
   "outputs": [],
   "source": [
    "GRADES_COLOR_MAP = {\n",
    "    'A': '#60D394',\n",
    "    'B': '#AAF683',\n",
    "    'C': '#FFD97D',\n",
    "    'D': '#FF9B85',\n",
    "    'F': '#EE6055' \n",
    "}\n",
    "\n",
    "# HEATMAP_PALETTE = 'RdYlGn'\n",
    "# HEATMAP_PALETTE = 'RdBu'\n",
    "# HEATMAP_PALETTE = 'RdBu_r'\n",
    "# HEATMAP_PALETTE = 'RdBu_r'\n",
    "# HEATMAP_PALETTE = 'RdBu'\n",
    "# HEATMAP_PALETTE = 'Reds'\n",
    "HEATMAP_PALETTE = 'Blues'\n",
    "# HEATMAP_PALETTE = 'Magma_r'\n",
    "# HEATMAP_PALETTE = 'OrRd'\n",
    "\n",
    "BLUE =  '#73A1B2'\n",
    "GREEN = '#6E8658'\n",
    "BROWN = '#57473A'\n",
    "\n",
    "SUBPLOT_TITLES = ['Meus conceitos<br>&nbsp;', 'Projeção estimada<br>pela média', 'Projeção estimada<br>pela moda']\n",
    "\n",
    "# template = 'plotly'  # Padrão\n",
    "template = 'plotly_white'  # Fundo branco. Melhor para embarcar no html?\n",
    "\n",
    "pio.templates.default = template \n",
    "pio.templates[template].layout.font.family = 'Helvetica, sans-serif'  # Para usar a mesma fonte da página html\n",
    "pio.templates[template].layout.font.color = 'rgb(99, 99, 99)'  # Mesma cor do HTML"
   ]
  },
  {
   "cell_type": "markdown",
   "metadata": {},
   "source": [
    "## Scripts"
   ]
  },
  {
   "cell_type": "markdown",
   "metadata": {},
   "source": [
    "### Análise dos dados da UFABC"
   ]
  },
  {
   "cell_type": "markdown",
   "metadata": {},
   "source": [
    "#### Leitura dos dados"
   ]
  },
  {
   "cell_type": "markdown",
   "metadata": {},
   "source": [
    "Como primeiro passo, vamos fazer a leitura da base de dados das minhas notas (obtidas pela consulta ao Sigaa) e depois para as notas médias dos alunos que seguiram a mesma trajetória."
   ]
  },
  {
   "cell_type": "code",
   "execution_count": 512,
   "metadata": {},
   "outputs": [
    {
     "data": {
      "text/html": [
       "<div>\n",
       "<style scoped>\n",
       "    .dataframe tbody tr th:only-of-type {\n",
       "        vertical-align: middle;\n",
       "    }\n",
       "\n",
       "    .dataframe tbody tr th {\n",
       "        vertical-align: top;\n",
       "    }\n",
       "\n",
       "    .dataframe thead th {\n",
       "        text-align: right;\n",
       "    }\n",
       "</style>\n",
       "<table border=\"1\" class=\"dataframe\">\n",
       "  <thead>\n",
       "    <tr style=\"text-align: right;\">\n",
       "      <th></th>\n",
       "      <th>Ano</th>\n",
       "      <th>Código</th>\n",
       "      <th>Disciplina</th>\n",
       "      <th>Resultado</th>\n",
       "      <th>Situação</th>\n",
       "    </tr>\n",
       "  </thead>\n",
       "  <tbody>\n",
       "    <tr>\n",
       "      <th>0</th>\n",
       "      <td>2017.2</td>\n",
       "      <td>BIL0304-15</td>\n",
       "      <td>EVOLUÇÃO E DIVERSIFICAÇÃO DA VIDA NA TERRA</td>\n",
       "      <td>C</td>\n",
       "      <td>APROVADO</td>\n",
       "    </tr>\n",
       "    <tr>\n",
       "      <th>1</th>\n",
       "      <td>2017.2</td>\n",
       "      <td>BCS0001-15</td>\n",
       "      <td>BASE EXPERIMENTAL DAS CIÊNCIAS NATURAIS</td>\n",
       "      <td>A</td>\n",
       "      <td>APROVADO</td>\n",
       "    </tr>\n",
       "    <tr>\n",
       "      <th>2</th>\n",
       "      <td>2017.2</td>\n",
       "      <td>BIS0005-15</td>\n",
       "      <td>BASES COMPUTACIONAIS DA CIÊNCIA</td>\n",
       "      <td>A</td>\n",
       "      <td>APROVADO</td>\n",
       "    </tr>\n",
       "    <tr>\n",
       "      <th>3</th>\n",
       "      <td>2017.2</td>\n",
       "      <td>BIK0102-15</td>\n",
       "      <td>ESTRUTURA DA MATÉRIA</td>\n",
       "      <td>A</td>\n",
       "      <td>APROVADO</td>\n",
       "    </tr>\n",
       "    <tr>\n",
       "      <th>4</th>\n",
       "      <td>2017.2</td>\n",
       "      <td>BIS0003-15</td>\n",
       "      <td>BASES MATEMÁTICAS</td>\n",
       "      <td>C</td>\n",
       "      <td>APROVADO</td>\n",
       "    </tr>\n",
       "    <tr>\n",
       "      <th>...</th>\n",
       "      <td>...</td>\n",
       "      <td>...</td>\n",
       "      <td>...</td>\n",
       "      <td>...</td>\n",
       "      <td>...</td>\n",
       "    </tr>\n",
       "    <tr>\n",
       "      <th>73</th>\n",
       "      <td>2023.2</td>\n",
       "      <td>ESTA017-17</td>\n",
       "      <td>LABORATÓRIO DE MÁQUINAS ELÉTRICAS</td>\n",
       "      <td>A</td>\n",
       "      <td>APROVADO</td>\n",
       "    </tr>\n",
       "    <tr>\n",
       "      <th>74</th>\n",
       "      <td>2023.2</td>\n",
       "      <td>ESTA011-17</td>\n",
       "      <td>AUTOMAÇÃO DE SISTEMAS INDUSTRIAIS</td>\n",
       "      <td>A</td>\n",
       "      <td>APROVADO</td>\n",
       "    </tr>\n",
       "    <tr>\n",
       "      <th>75</th>\n",
       "      <td>2023.3</td>\n",
       "      <td>ESTA904-17</td>\n",
       "      <td>TRABALHO DE GRADUAÇÃO III EM ENGENHARIA DE INS...</td>\n",
       "      <td>A</td>\n",
       "      <td>APROVADO</td>\n",
       "    </tr>\n",
       "    <tr>\n",
       "      <th>76</th>\n",
       "      <td>2023.3</td>\n",
       "      <td>ESTA022-17</td>\n",
       "      <td>TEORIA DE ACIONAMENTOS ELÉTRICOS</td>\n",
       "      <td>A</td>\n",
       "      <td>APROVADO</td>\n",
       "    </tr>\n",
       "    <tr>\n",
       "      <th>77</th>\n",
       "      <td>2023.3</td>\n",
       "      <td>ESTA008-17</td>\n",
       "      <td>SISTEMAS DE CONTROLE II</td>\n",
       "      <td>A</td>\n",
       "      <td>APROVADO</td>\n",
       "    </tr>\n",
       "  </tbody>\n",
       "</table>\n",
       "<p>78 rows × 5 columns</p>\n",
       "</div>"
      ],
      "text/plain": [
       "       Ano      Código                                         Disciplina  \\\n",
       "0   2017.2  BIL0304-15         EVOLUÇÃO E DIVERSIFICAÇÃO DA VIDA NA TERRA   \n",
       "1   2017.2  BCS0001-15            BASE EXPERIMENTAL DAS CIÊNCIAS NATURAIS   \n",
       "2   2017.2  BIS0005-15                    BASES COMPUTACIONAIS DA CIÊNCIA   \n",
       "3   2017.2  BIK0102-15                               ESTRUTURA DA MATÉRIA   \n",
       "4   2017.2  BIS0003-15                                  BASES MATEMÁTICAS   \n",
       "..     ...         ...                                                ...   \n",
       "73  2023.2  ESTA017-17                  LABORATÓRIO DE MÁQUINAS ELÉTRICAS   \n",
       "74  2023.2  ESTA011-17                  AUTOMAÇÃO DE SISTEMAS INDUSTRIAIS   \n",
       "75  2023.3  ESTA904-17  TRABALHO DE GRADUAÇÃO III EM ENGENHARIA DE INS...   \n",
       "76  2023.3  ESTA022-17                   TEORIA DE ACIONAMENTOS ELÉTRICOS   \n",
       "77  2023.3  ESTA008-17                            SISTEMAS DE CONTROLE II   \n",
       "\n",
       "   Resultado  Situação  \n",
       "0          C  APROVADO  \n",
       "1          A  APROVADO  \n",
       "2          A  APROVADO  \n",
       "3          A  APROVADO  \n",
       "4          C  APROVADO  \n",
       "..       ...       ...  \n",
       "73         A  APROVADO  \n",
       "74         A  APROVADO  \n",
       "75         A  APROVADO  \n",
       "76         A  APROVADO  \n",
       "77         A  APROVADO  \n",
       "\n",
       "[78 rows x 5 columns]"
      ]
     },
     "execution_count": 512,
     "metadata": {},
     "output_type": "execute_result"
    }
   ],
   "source": [
    "df_ufabc = pd.read_csv('./data/notas-ufabc.csv', dtype={'Ano': str}, sep=';')\n",
    "df_ufabc"
   ]
  },
  {
   "cell_type": "markdown",
   "metadata": {},
   "source": [
    "Para enriquecermos nossa base de dados e podermos fazer análises referentes ao CR, precisamosadicionar informações como o número de créditos. Como esta informação não está disponível no Sigaa, vamos consultar uma base externa do [Catálogo de Disciplinas da UFABC](https://prograd.ufabc.edu.br/catalogos-de-disciplinas) (em específico a [edição de 2017](https://prograd.ufabc.edu.br/pdf/catalogo_disciplinas_graduacao_2017_2018_v2.xlsx)). Assim, vamos realizar a leitura dos dados."
   ]
  },
  {
   "cell_type": "code",
   "execution_count": 513,
   "metadata": {},
   "outputs": [
    {
     "data": {
      "text/html": [
       "<div>\n",
       "<style scoped>\n",
       "    .dataframe tbody tr th:only-of-type {\n",
       "        vertical-align: middle;\n",
       "    }\n",
       "\n",
       "    .dataframe tbody tr th {\n",
       "        vertical-align: top;\n",
       "    }\n",
       "\n",
       "    .dataframe thead th {\n",
       "        text-align: right;\n",
       "    }\n",
       "</style>\n",
       "<table border=\"1\" class=\"dataframe\">\n",
       "  <thead>\n",
       "    <tr style=\"text-align: right;\">\n",
       "      <th></th>\n",
       "      <th>SIGLA</th>\n",
       "      <th>DISCIPLINA</th>\n",
       "      <th>TPI</th>\n",
       "      <th>RECOMENDAÇÃO</th>\n",
       "      <th>OBJETIVOS</th>\n",
       "      <th>EMENTA</th>\n",
       "      <th>BIBLIOGRAFIA BÁSICA</th>\n",
       "      <th>BIBLIOGRAFIA COMPLEMENTAR</th>\n",
       "    </tr>\n",
       "  </thead>\n",
       "  <tbody>\n",
       "    <tr>\n",
       "      <th>0</th>\n",
       "      <td>ESHR022-14</td>\n",
       "      <td>Abordagens Tradicionais das Relações Internaci...</td>\n",
       "      <td>4-0-4</td>\n",
       "      <td>Não há</td>\n",
       "      <td>NaN</td>\n",
       "      <td>Contextualização histórica da emergência das t...</td>\n",
       "      <td>CARR, Edward Hallett. Vinte anos de crise 1919...</td>\n",
       "      <td>ARON, Raymond. Paz e Guerra entre as Nações. S...</td>\n",
       "    </tr>\n",
       "    <tr>\n",
       "      <th>1</th>\n",
       "      <td>ESZM035-17</td>\n",
       "      <td>Aditivação de Polímeros</td>\n",
       "      <td>4-0-4</td>\n",
       "      <td>Síntese de Polímeros; Materiais Poliméricos</td>\n",
       "      <td>Adquirir habilidades sobre o entendimento dos ...</td>\n",
       "      <td>Tipos de aditivos e métodos para obtenção de f...</td>\n",
       "      <td>BART, J.C.J. Additives in Polymer: industrial ...</td>\n",
       "      <td>CANEVAROLO JR, S. V., Ciência dos Polímeros, A...</td>\n",
       "    </tr>\n",
       "    <tr>\n",
       "      <th>2</th>\n",
       "      <td>ESZP041-14</td>\n",
       "      <td>Administração Pública e Reforma do Estado em P...</td>\n",
       "      <td>4-0-4</td>\n",
       "      <td>Não há</td>\n",
       "      <td>A disciplina visa apresentar aos alunos a vari...</td>\n",
       "      <td>Estado, política e administração pública; Cris...</td>\n",
       "      <td>BRESSER-PEREIRA, L. C. (1998). Reforma do esta...</td>\n",
       "      <td>ABRUCIO, Fernando Luiz; LOUREIRO, Maria Rita (...</td>\n",
       "    </tr>\n",
       "    <tr>\n",
       "      <th>3</th>\n",
       "      <td>ESTS016-17</td>\n",
       "      <td>Aerodinâmica I</td>\n",
       "      <td>4-0-5</td>\n",
       "      <td>Dinâmica de Gases</td>\n",
       "      <td>Familiarizar o aluno com a física associada à ...</td>\n",
       "      <td>Força de Sustenção e arrasto; Teoria do perfil...</td>\n",
       "      <td>ANDERSON, J. D. Fundamentals of Aerodynamics. ...</td>\n",
       "      <td>BARNARD, R. H. Road Vehicle Aerodynamic Design...</td>\n",
       "    </tr>\n",
       "    <tr>\n",
       "      <th>4</th>\n",
       "      <td>ESZS019-17</td>\n",
       "      <td>Aerodinâmica II</td>\n",
       "      <td>4-0-5</td>\n",
       "      <td>Aerodinâmica I</td>\n",
       "      <td>Familiarizar o aluno com a física de escoament...</td>\n",
       "      <td>Física do escoamento subsônico e hipersônico. ...</td>\n",
       "      <td>ANDERSON J. D. Hypersonic and High Temperature...</td>\n",
       "      <td>CHATTOT, J. J. Computational Aerodynamics and ...</td>\n",
       "    </tr>\n",
       "    <tr>\n",
       "      <th>...</th>\n",
       "      <td>...</td>\n",
       "      <td>...</td>\n",
       "      <td>...</td>\n",
       "      <td>...</td>\n",
       "      <td>...</td>\n",
       "      <td>...</td>\n",
       "      <td>...</td>\n",
       "      <td>...</td>\n",
       "    </tr>\n",
       "    <tr>\n",
       "      <th>1183</th>\n",
       "      <td>ESZA019-17</td>\n",
       "      <td>Visão Computacional</td>\n",
       "      <td>3-1-4</td>\n",
       "      <td>Fundamentos de Robótica</td>\n",
       "      <td>Compreender como se realizam diversas possibil...</td>\n",
       "      <td>Formação da imagem; extração de atributos; vis...</td>\n",
       "      <td>BORENSTEIN, J.; EVERETT, H. R.; FENG, Liqang; ...</td>\n",
       "      <td>JONES, Joseph L. Mobile Robots - Inspiration t...</td>\n",
       "    </tr>\n",
       "    <tr>\n",
       "      <th>1184</th>\n",
       "      <td>MCZA031-13</td>\n",
       "      <td>Web Semântica</td>\n",
       "      <td>4-0-4</td>\n",
       "      <td>Inteligência Artificial</td>\n",
       "      <td>NaN</td>\n",
       "      <td>Introdução à Web Semântica (WS). Linguagens pa...</td>\n",
       "      <td>HITZLER, P., KRÖTZSCH, M., RUDOLPH, S. Foundat...</td>\n",
       "      <td>ANTONIOU, G.; GROTH, P.; VAN HARMELEN, F.; HOE...</td>\n",
       "    </tr>\n",
       "    <tr>\n",
       "      <th>1185</th>\n",
       "      <td>NHT1063-15</td>\n",
       "      <td>Zoologia de Invertebrados I</td>\n",
       "      <td>2-4-3</td>\n",
       "      <td>Sistemática e Biogeografia</td>\n",
       "      <td>NaN</td>\n",
       "      <td>Fundamentos de sistemática; Origem de Metazoa ...</td>\n",
       "      <td>BRUSCA, Richard C.; BRUSCA, Gary J. Invertebra...</td>\n",
       "      <td>AMORIM, Dalton de Souza. Fundamentos de sistem...</td>\n",
       "    </tr>\n",
       "    <tr>\n",
       "      <th>1186</th>\n",
       "      <td>NHT1064-15</td>\n",
       "      <td>Zoologia de Invertebrados II</td>\n",
       "      <td>2-4-3</td>\n",
       "      <td>Sistemática e Biogeografia; Zoologia de Invert...</td>\n",
       "      <td>NaN</td>\n",
       "      <td>Plano-básico de Deuterostomia; Filogenia de Ec...</td>\n",
       "      <td>BRUSCA, Richard C.; BRUSCA, Gary J. Invertebra...</td>\n",
       "      <td>AMORIM, Dalton de Souza. Fundamentos de sistem...</td>\n",
       "    </tr>\n",
       "    <tr>\n",
       "      <th>1187</th>\n",
       "      <td>NHT1065-15</td>\n",
       "      <td>Zoologia de Vertebrados</td>\n",
       "      <td>4-2-3</td>\n",
       "      <td>Sistemática e Biogeografia; Zoologia de Invert...</td>\n",
       "      <td>NaN</td>\n",
       "      <td>Filogenia de Chordata (Urochordata, Cephalocho...</td>\n",
       "      <td>BRUSCA, Richard C.; BRUSCA, Gary J. Invertebra...</td>\n",
       "      <td>AMORIM, Dalton de Souza. Fundamentos de sistem...</td>\n",
       "    </tr>\n",
       "  </tbody>\n",
       "</table>\n",
       "<p>1188 rows × 8 columns</p>\n",
       "</div>"
      ],
      "text/plain": [
       "           SIGLA                                         DISCIPLINA    TPI  \\\n",
       "0     ESHR022-14  Abordagens Tradicionais das Relações Internaci...  4-0-4   \n",
       "1     ESZM035-17                            Aditivação de Polímeros  4-0-4   \n",
       "2     ESZP041-14  Administração Pública e Reforma do Estado em P...  4-0-4   \n",
       "3     ESTS016-17                                     Aerodinâmica I  4-0-5   \n",
       "4     ESZS019-17                                    Aerodinâmica II  4-0-5   \n",
       "...          ...                                                ...    ...   \n",
       "1183  ESZA019-17                                Visão Computacional  3-1-4   \n",
       "1184  MCZA031-13                                      Web Semântica  4-0-4   \n",
       "1185  NHT1063-15                        Zoologia de Invertebrados I  2-4-3   \n",
       "1186  NHT1064-15                       Zoologia de Invertebrados II  2-4-3   \n",
       "1187  NHT1065-15                            Zoologia de Vertebrados  4-2-3   \n",
       "\n",
       "                                           RECOMENDAÇÃO  \\\n",
       "0                                                Não há   \n",
       "1           Síntese de Polímeros; Materiais Poliméricos   \n",
       "2                                                Não há   \n",
       "3                                     Dinâmica de Gases   \n",
       "4                                        Aerodinâmica I   \n",
       "...                                                 ...   \n",
       "1183                            Fundamentos de Robótica   \n",
       "1184                            Inteligência Artificial   \n",
       "1185                         Sistemática e Biogeografia   \n",
       "1186  Sistemática e Biogeografia; Zoologia de Invert...   \n",
       "1187  Sistemática e Biogeografia; Zoologia de Invert...   \n",
       "\n",
       "                                              OBJETIVOS  \\\n",
       "0                                                   NaN   \n",
       "1     Adquirir habilidades sobre o entendimento dos ...   \n",
       "2     A disciplina visa apresentar aos alunos a vari...   \n",
       "3     Familiarizar o aluno com a física associada à ...   \n",
       "4     Familiarizar o aluno com a física de escoament...   \n",
       "...                                                 ...   \n",
       "1183  Compreender como se realizam diversas possibil...   \n",
       "1184                                                NaN   \n",
       "1185                                                NaN   \n",
       "1186                                                NaN   \n",
       "1187                                                NaN   \n",
       "\n",
       "                                                 EMENTA  \\\n",
       "0     Contextualização histórica da emergência das t...   \n",
       "1     Tipos de aditivos e métodos para obtenção de f...   \n",
       "2     Estado, política e administração pública; Cris...   \n",
       "3     Força de Sustenção e arrasto; Teoria do perfil...   \n",
       "4     Física do escoamento subsônico e hipersônico. ...   \n",
       "...                                                 ...   \n",
       "1183  Formação da imagem; extração de atributos; vis...   \n",
       "1184  Introdução à Web Semântica (WS). Linguagens pa...   \n",
       "1185  Fundamentos de sistemática; Origem de Metazoa ...   \n",
       "1186  Plano-básico de Deuterostomia; Filogenia de Ec...   \n",
       "1187  Filogenia de Chordata (Urochordata, Cephalocho...   \n",
       "\n",
       "                                    BIBLIOGRAFIA BÁSICA  \\\n",
       "0     CARR, Edward Hallett. Vinte anos de crise 1919...   \n",
       "1     BART, J.C.J. Additives in Polymer: industrial ...   \n",
       "2     BRESSER-PEREIRA, L. C. (1998). Reforma do esta...   \n",
       "3     ANDERSON, J. D. Fundamentals of Aerodynamics. ...   \n",
       "4     ANDERSON J. D. Hypersonic and High Temperature...   \n",
       "...                                                 ...   \n",
       "1183  BORENSTEIN, J.; EVERETT, H. R.; FENG, Liqang; ...   \n",
       "1184  HITZLER, P., KRÖTZSCH, M., RUDOLPH, S. Foundat...   \n",
       "1185  BRUSCA, Richard C.; BRUSCA, Gary J. Invertebra...   \n",
       "1186  BRUSCA, Richard C.; BRUSCA, Gary J. Invertebra...   \n",
       "1187  BRUSCA, Richard C.; BRUSCA, Gary J. Invertebra...   \n",
       "\n",
       "                              BIBLIOGRAFIA COMPLEMENTAR  \n",
       "0     ARON, Raymond. Paz e Guerra entre as Nações. S...  \n",
       "1     CANEVAROLO JR, S. V., Ciência dos Polímeros, A...  \n",
       "2     ABRUCIO, Fernando Luiz; LOUREIRO, Maria Rita (...  \n",
       "3     BARNARD, R. H. Road Vehicle Aerodynamic Design...  \n",
       "4     CHATTOT, J. J. Computational Aerodynamics and ...  \n",
       "...                                                 ...  \n",
       "1183  JONES, Joseph L. Mobile Robots - Inspiration t...  \n",
       "1184  ANTONIOU, G.; GROTH, P.; VAN HARMELEN, F.; HOE...  \n",
       "1185  AMORIM, Dalton de Souza. Fundamentos de sistem...  \n",
       "1186  AMORIM, Dalton de Souza. Fundamentos de sistem...  \n",
       "1187  AMORIM, Dalton de Souza. Fundamentos de sistem...  \n",
       "\n",
       "[1188 rows x 8 columns]"
      ]
     },
     "execution_count": 513,
     "metadata": {},
     "output_type": "execute_result"
    }
   ],
   "source": [
    "df_ufabc_creds = pd.read_excel('./data/catalogo_disciplinas_graduacao_2017_2018_v2.xlsx')\n",
    "df_ufabc_creds"
   ]
  },
  {
   "cell_type": "markdown",
   "metadata": {},
   "source": [
    "Para a nossa análise, só será necessário ter conhecimento da sigla e do TPI, informação essa que traz o número de créditos (soma de T e P)."
   ]
  },
  {
   "cell_type": "code",
   "execution_count": 514,
   "metadata": {},
   "outputs": [
    {
     "name": "stderr",
     "output_type": "stream",
     "text": [
      "/var/folders/b1/0p0jycgj6llcx6cqndttv6180000gn/T/ipykernel_24212/375302389.py:2: SettingWithCopyWarning:\n",
      "\n",
      "\n",
      "A value is trying to be set on a copy of a slice from a DataFrame.\n",
      "Try using .loc[row_indexer,col_indexer] = value instead\n",
      "\n",
      "See the caveats in the documentation: https://pandas.pydata.org/pandas-docs/stable/user_guide/indexing.html#returning-a-view-versus-a-copy\n",
      "\n"
     ]
    },
    {
     "data": {
      "text/html": [
       "<div>\n",
       "<style scoped>\n",
       "    .dataframe tbody tr th:only-of-type {\n",
       "        vertical-align: middle;\n",
       "    }\n",
       "\n",
       "    .dataframe tbody tr th {\n",
       "        vertical-align: top;\n",
       "    }\n",
       "\n",
       "    .dataframe thead th {\n",
       "        text-align: right;\n",
       "    }\n",
       "</style>\n",
       "<table border=\"1\" class=\"dataframe\">\n",
       "  <thead>\n",
       "    <tr style=\"text-align: right;\">\n",
       "      <th></th>\n",
       "      <th>SIGLA</th>\n",
       "      <th>TPI</th>\n",
       "      <th>Créditos</th>\n",
       "    </tr>\n",
       "  </thead>\n",
       "  <tbody>\n",
       "    <tr>\n",
       "      <th>0</th>\n",
       "      <td>ESHR022-14</td>\n",
       "      <td>4-0-4</td>\n",
       "      <td>4</td>\n",
       "    </tr>\n",
       "    <tr>\n",
       "      <th>1</th>\n",
       "      <td>ESZM035-17</td>\n",
       "      <td>4-0-4</td>\n",
       "      <td>4</td>\n",
       "    </tr>\n",
       "    <tr>\n",
       "      <th>2</th>\n",
       "      <td>ESZP041-14</td>\n",
       "      <td>4-0-4</td>\n",
       "      <td>4</td>\n",
       "    </tr>\n",
       "    <tr>\n",
       "      <th>3</th>\n",
       "      <td>ESTS016-17</td>\n",
       "      <td>4-0-5</td>\n",
       "      <td>4</td>\n",
       "    </tr>\n",
       "    <tr>\n",
       "      <th>4</th>\n",
       "      <td>ESZS019-17</td>\n",
       "      <td>4-0-5</td>\n",
       "      <td>4</td>\n",
       "    </tr>\n",
       "    <tr>\n",
       "      <th>...</th>\n",
       "      <td>...</td>\n",
       "      <td>...</td>\n",
       "      <td>...</td>\n",
       "    </tr>\n",
       "    <tr>\n",
       "      <th>1183</th>\n",
       "      <td>ESZA019-17</td>\n",
       "      <td>3-1-4</td>\n",
       "      <td>4</td>\n",
       "    </tr>\n",
       "    <tr>\n",
       "      <th>1184</th>\n",
       "      <td>MCZA031-13</td>\n",
       "      <td>4-0-4</td>\n",
       "      <td>4</td>\n",
       "    </tr>\n",
       "    <tr>\n",
       "      <th>1185</th>\n",
       "      <td>NHT1063-15</td>\n",
       "      <td>2-4-3</td>\n",
       "      <td>6</td>\n",
       "    </tr>\n",
       "    <tr>\n",
       "      <th>1186</th>\n",
       "      <td>NHT1064-15</td>\n",
       "      <td>2-4-3</td>\n",
       "      <td>6</td>\n",
       "    </tr>\n",
       "    <tr>\n",
       "      <th>1187</th>\n",
       "      <td>NHT1065-15</td>\n",
       "      <td>4-2-3</td>\n",
       "      <td>6</td>\n",
       "    </tr>\n",
       "  </tbody>\n",
       "</table>\n",
       "<p>1188 rows × 3 columns</p>\n",
       "</div>"
      ],
      "text/plain": [
       "           SIGLA    TPI  Créditos\n",
       "0     ESHR022-14  4-0-4         4\n",
       "1     ESZM035-17  4-0-4         4\n",
       "2     ESZP041-14  4-0-4         4\n",
       "3     ESTS016-17  4-0-5         4\n",
       "4     ESZS019-17  4-0-5         4\n",
       "...          ...    ...       ...\n",
       "1183  ESZA019-17  3-1-4         4\n",
       "1184  MCZA031-13  4-0-4         4\n",
       "1185  NHT1063-15  2-4-3         6\n",
       "1186  NHT1064-15  2-4-3         6\n",
       "1187  NHT1065-15  4-2-3         6\n",
       "\n",
       "[1188 rows x 3 columns]"
      ]
     },
     "execution_count": 514,
     "metadata": {},
     "output_type": "execute_result"
    }
   ],
   "source": [
    "df_ufabc_creds = df_ufabc_creds[['SIGLA', 'TPI']]\n",
    "df_ufabc_creds['Créditos'] = df_ufabc_creds['TPI'].apply(lambda s: int(s.split('-')[0]) + int(s.split('-')[1]))\n",
    "df_ufabc_creds"
   ]
  },
  {
   "cell_type": "markdown",
   "metadata": {},
   "source": [
    "Feito isso, podemos juntar as bases e ver se há alguma matéria que não teve correspondência."
   ]
  },
  {
   "cell_type": "code",
   "execution_count": 515,
   "metadata": {},
   "outputs": [
    {
     "data": {
      "text/html": [
       "<div>\n",
       "<style scoped>\n",
       "    .dataframe tbody tr th:only-of-type {\n",
       "        vertical-align: middle;\n",
       "    }\n",
       "\n",
       "    .dataframe tbody tr th {\n",
       "        vertical-align: top;\n",
       "    }\n",
       "\n",
       "    .dataframe thead th {\n",
       "        text-align: right;\n",
       "    }\n",
       "</style>\n",
       "<table border=\"1\" class=\"dataframe\">\n",
       "  <thead>\n",
       "    <tr style=\"text-align: right;\">\n",
       "      <th></th>\n",
       "      <th>Ano</th>\n",
       "      <th>Código</th>\n",
       "      <th>Disciplina</th>\n",
       "      <th>Resultado</th>\n",
       "      <th>Situação</th>\n",
       "      <th>TPI</th>\n",
       "      <th>Créditos</th>\n",
       "    </tr>\n",
       "  </thead>\n",
       "  <tbody>\n",
       "    <tr>\n",
       "      <th>0</th>\n",
       "      <td>2017.2</td>\n",
       "      <td>BIL0304-15</td>\n",
       "      <td>EVOLUÇÃO E DIVERSIFICAÇÃO DA VIDA NA TERRA</td>\n",
       "      <td>C</td>\n",
       "      <td>APROVADO</td>\n",
       "      <td>3-0-4</td>\n",
       "      <td>3</td>\n",
       "    </tr>\n",
       "    <tr>\n",
       "      <th>1</th>\n",
       "      <td>2017.2</td>\n",
       "      <td>BCS0001-15</td>\n",
       "      <td>BASE EXPERIMENTAL DAS CIÊNCIAS NATURAIS</td>\n",
       "      <td>A</td>\n",
       "      <td>APROVADO</td>\n",
       "      <td>0-3-2</td>\n",
       "      <td>3</td>\n",
       "    </tr>\n",
       "    <tr>\n",
       "      <th>2</th>\n",
       "      <td>2017.2</td>\n",
       "      <td>BIS0005-15</td>\n",
       "      <td>BASES COMPUTACIONAIS DA CIÊNCIA</td>\n",
       "      <td>A</td>\n",
       "      <td>APROVADO</td>\n",
       "      <td>0-2-2</td>\n",
       "      <td>2</td>\n",
       "    </tr>\n",
       "    <tr>\n",
       "      <th>3</th>\n",
       "      <td>2017.2</td>\n",
       "      <td>BIK0102-15</td>\n",
       "      <td>ESTRUTURA DA MATÉRIA</td>\n",
       "      <td>A</td>\n",
       "      <td>APROVADO</td>\n",
       "      <td>3-0-4</td>\n",
       "      <td>3</td>\n",
       "    </tr>\n",
       "    <tr>\n",
       "      <th>4</th>\n",
       "      <td>2017.2</td>\n",
       "      <td>BIS0003-15</td>\n",
       "      <td>BASES MATEMÁTICAS</td>\n",
       "      <td>C</td>\n",
       "      <td>APROVADO</td>\n",
       "      <td>4-0-5</td>\n",
       "      <td>4</td>\n",
       "    </tr>\n",
       "    <tr>\n",
       "      <th>...</th>\n",
       "      <td>...</td>\n",
       "      <td>...</td>\n",
       "      <td>...</td>\n",
       "      <td>...</td>\n",
       "      <td>...</td>\n",
       "      <td>...</td>\n",
       "      <td>...</td>\n",
       "    </tr>\n",
       "    <tr>\n",
       "      <th>73</th>\n",
       "      <td>2023.2</td>\n",
       "      <td>ESTA017-17</td>\n",
       "      <td>LABORATÓRIO DE MÁQUINAS ELÉTRICAS</td>\n",
       "      <td>A</td>\n",
       "      <td>APROVADO</td>\n",
       "      <td>0-2-4</td>\n",
       "      <td>2</td>\n",
       "    </tr>\n",
       "    <tr>\n",
       "      <th>74</th>\n",
       "      <td>2023.2</td>\n",
       "      <td>ESTA011-17</td>\n",
       "      <td>AUTOMAÇÃO DE SISTEMAS INDUSTRIAIS</td>\n",
       "      <td>A</td>\n",
       "      <td>APROVADO</td>\n",
       "      <td>1-3-4</td>\n",
       "      <td>4</td>\n",
       "    </tr>\n",
       "    <tr>\n",
       "      <th>75</th>\n",
       "      <td>2023.3</td>\n",
       "      <td>ESTA904-17</td>\n",
       "      <td>TRABALHO DE GRADUAÇÃO III EM ENGENHARIA DE INS...</td>\n",
       "      <td>A</td>\n",
       "      <td>APROVADO</td>\n",
       "      <td>0-2-4</td>\n",
       "      <td>2</td>\n",
       "    </tr>\n",
       "    <tr>\n",
       "      <th>76</th>\n",
       "      <td>2023.3</td>\n",
       "      <td>ESTA022-17</td>\n",
       "      <td>TEORIA DE ACIONAMENTOS ELÉTRICOS</td>\n",
       "      <td>A</td>\n",
       "      <td>APROVADO</td>\n",
       "      <td>4-0-4</td>\n",
       "      <td>4</td>\n",
       "    </tr>\n",
       "    <tr>\n",
       "      <th>77</th>\n",
       "      <td>2023.3</td>\n",
       "      <td>ESTA008-17</td>\n",
       "      <td>SISTEMAS DE CONTROLE II</td>\n",
       "      <td>A</td>\n",
       "      <td>APROVADO</td>\n",
       "      <td>3-2-4</td>\n",
       "      <td>5</td>\n",
       "    </tr>\n",
       "  </tbody>\n",
       "</table>\n",
       "<p>78 rows × 7 columns</p>\n",
       "</div>"
      ],
      "text/plain": [
       "       Ano      Código                                         Disciplina  \\\n",
       "0   2017.2  BIL0304-15         EVOLUÇÃO E DIVERSIFICAÇÃO DA VIDA NA TERRA   \n",
       "1   2017.2  BCS0001-15            BASE EXPERIMENTAL DAS CIÊNCIAS NATURAIS   \n",
       "2   2017.2  BIS0005-15                    BASES COMPUTACIONAIS DA CIÊNCIA   \n",
       "3   2017.2  BIK0102-15                               ESTRUTURA DA MATÉRIA   \n",
       "4   2017.2  BIS0003-15                                  BASES MATEMÁTICAS   \n",
       "..     ...         ...                                                ...   \n",
       "73  2023.2  ESTA017-17                  LABORATÓRIO DE MÁQUINAS ELÉTRICAS   \n",
       "74  2023.2  ESTA011-17                  AUTOMAÇÃO DE SISTEMAS INDUSTRIAIS   \n",
       "75  2023.3  ESTA904-17  TRABALHO DE GRADUAÇÃO III EM ENGENHARIA DE INS...   \n",
       "76  2023.3  ESTA022-17                   TEORIA DE ACIONAMENTOS ELÉTRICOS   \n",
       "77  2023.3  ESTA008-17                            SISTEMAS DE CONTROLE II   \n",
       "\n",
       "   Resultado  Situação    TPI  Créditos  \n",
       "0          C  APROVADO  3-0-4         3  \n",
       "1          A  APROVADO  0-3-2         3  \n",
       "2          A  APROVADO  0-2-2         2  \n",
       "3          A  APROVADO  3-0-4         3  \n",
       "4          C  APROVADO  4-0-5         4  \n",
       "..       ...       ...    ...       ...  \n",
       "73         A  APROVADO  0-2-4         2  \n",
       "74         A  APROVADO  1-3-4         4  \n",
       "75         A  APROVADO  0-2-4         2  \n",
       "76         A  APROVADO  4-0-4         4  \n",
       "77         A  APROVADO  3-2-4         5  \n",
       "\n",
       "[78 rows x 7 columns]"
      ]
     },
     "execution_count": 515,
     "metadata": {},
     "output_type": "execute_result"
    }
   ],
   "source": [
    "df_ufabc = df_ufabc.join(df_ufabc_creds.set_index('SIGLA'), on='Código', how='left')\n",
    "df_ufabc"
   ]
  },
  {
   "cell_type": "code",
   "execution_count": 516,
   "metadata": {},
   "outputs": [
    {
     "data": {
      "text/html": [
       "<div>\n",
       "<style scoped>\n",
       "    .dataframe tbody tr th:only-of-type {\n",
       "        vertical-align: middle;\n",
       "    }\n",
       "\n",
       "    .dataframe tbody tr th {\n",
       "        vertical-align: top;\n",
       "    }\n",
       "\n",
       "    .dataframe thead th {\n",
       "        text-align: right;\n",
       "    }\n",
       "</style>\n",
       "<table border=\"1\" class=\"dataframe\">\n",
       "  <thead>\n",
       "    <tr style=\"text-align: right;\">\n",
       "      <th></th>\n",
       "      <th>Ano</th>\n",
       "      <th>Código</th>\n",
       "      <th>Disciplina</th>\n",
       "      <th>Resultado</th>\n",
       "      <th>Situação</th>\n",
       "      <th>TPI</th>\n",
       "      <th>Créditos</th>\n",
       "    </tr>\n",
       "  </thead>\n",
       "  <tbody>\n",
       "  </tbody>\n",
       "</table>\n",
       "</div>"
      ],
      "text/plain": [
       "Empty DataFrame\n",
       "Columns: [Ano, Código, Disciplina, Resultado, Situação, TPI, Créditos]\n",
       "Index: []"
      ]
     },
     "execution_count": 516,
     "metadata": {},
     "output_type": "execute_result"
    }
   ],
   "source": [
    "df_ufabc[df_ufabc.isna().any(axis=1)]"
   ]
  },
  {
   "cell_type": "markdown",
   "metadata": {},
   "source": [
    "Feito isso, para conseguirmos comparar o desempenho com base nos valores médios dos demais alunos, vamos fazer a leitura da base de dados obtida pelo scraping do next."
   ]
  },
  {
   "cell_type": "code",
   "execution_count": 517,
   "metadata": {},
   "outputs": [
    {
     "data": {
      "text/html": [
       "<div>\n",
       "<style scoped>\n",
       "    .dataframe tbody tr th:only-of-type {\n",
       "        vertical-align: middle;\n",
       "    }\n",
       "\n",
       "    .dataframe tbody tr th {\n",
       "        vertical-align: top;\n",
       "    }\n",
       "\n",
       "    .dataframe thead th {\n",
       "        text-align: right;\n",
       "    }\n",
       "</style>\n",
       "<table border=\"1\" class=\"dataframe\">\n",
       "  <thead>\n",
       "    <tr style=\"text-align: right;\">\n",
       "      <th></th>\n",
       "      <th>Disciplina</th>\n",
       "      <th>A</th>\n",
       "      <th>B</th>\n",
       "      <th>C</th>\n",
       "      <th>D</th>\n",
       "      <th>F</th>\n",
       "      <th>Nota provável</th>\n",
       "      <th>Conceito provável</th>\n",
       "      <th>Conceito moda</th>\n",
       "    </tr>\n",
       "  </thead>\n",
       "  <tbody>\n",
       "    <tr>\n",
       "      <th>0</th>\n",
       "      <td>EVOLUÇÃO E DIVERSIFICAÇÃO DA VIDA NA TERRA</td>\n",
       "      <td>31.0</td>\n",
       "      <td>43.1</td>\n",
       "      <td>17.4</td>\n",
       "      <td>4.8</td>\n",
       "      <td>3.7</td>\n",
       "      <td>2.929000</td>\n",
       "      <td>B</td>\n",
       "      <td>B</td>\n",
       "    </tr>\n",
       "    <tr>\n",
       "      <th>1</th>\n",
       "      <td>BASE EXPERIMENTAL DAS CIÊNCIAS NATURAIS</td>\n",
       "      <td>84.6</td>\n",
       "      <td>15.4</td>\n",
       "      <td>0.0</td>\n",
       "      <td>0.0</td>\n",
       "      <td>0.0</td>\n",
       "      <td>3.846000</td>\n",
       "      <td>A</td>\n",
       "      <td>A</td>\n",
       "    </tr>\n",
       "    <tr>\n",
       "      <th>2</th>\n",
       "      <td>BASES COMPUTACIONAIS DA CIÊNCIA</td>\n",
       "      <td>39.2</td>\n",
       "      <td>26.9</td>\n",
       "      <td>18.3</td>\n",
       "      <td>7.2</td>\n",
       "      <td>8.4</td>\n",
       "      <td>2.813000</td>\n",
       "      <td>B</td>\n",
       "      <td>A</td>\n",
       "    </tr>\n",
       "    <tr>\n",
       "      <th>3</th>\n",
       "      <td>ESTRUTURA DA MATÉRIA</td>\n",
       "      <td>17.5</td>\n",
       "      <td>29.5</td>\n",
       "      <td>31.4</td>\n",
       "      <td>10.4</td>\n",
       "      <td>11.3</td>\n",
       "      <td>2.314685</td>\n",
       "      <td>C</td>\n",
       "      <td>C</td>\n",
       "    </tr>\n",
       "    <tr>\n",
       "      <th>4</th>\n",
       "      <td>BASES MATEMÁTICAS</td>\n",
       "      <td>8.7</td>\n",
       "      <td>15.4</td>\n",
       "      <td>25.8</td>\n",
       "      <td>15.5</td>\n",
       "      <td>34.5</td>\n",
       "      <td>1.482482</td>\n",
       "      <td>D</td>\n",
       "      <td>F</td>\n",
       "    </tr>\n",
       "    <tr>\n",
       "      <th>...</th>\n",
       "      <td>...</td>\n",
       "      <td>...</td>\n",
       "      <td>...</td>\n",
       "      <td>...</td>\n",
       "      <td>...</td>\n",
       "      <td>...</td>\n",
       "      <td>...</td>\n",
       "      <td>...</td>\n",
       "      <td>...</td>\n",
       "    </tr>\n",
       "    <tr>\n",
       "      <th>73</th>\n",
       "      <td>AUTOMAÇÃO DE SISTEMAS INDUSTRIAIS</td>\n",
       "      <td>36.4</td>\n",
       "      <td>35.9</td>\n",
       "      <td>19.0</td>\n",
       "      <td>5.2</td>\n",
       "      <td>3.5</td>\n",
       "      <td>2.965000</td>\n",
       "      <td>B</td>\n",
       "      <td>A</td>\n",
       "    </tr>\n",
       "    <tr>\n",
       "      <th>74</th>\n",
       "      <td>TRABALHO DE GRADUAÇÃO III EM ENGENHARIA DE INS...</td>\n",
       "      <td>60.0</td>\n",
       "      <td>26.7</td>\n",
       "      <td>0.0</td>\n",
       "      <td>0.0</td>\n",
       "      <td>13.3</td>\n",
       "      <td>3.201000</td>\n",
       "      <td>A</td>\n",
       "      <td>A</td>\n",
       "    </tr>\n",
       "    <tr>\n",
       "      <th>75</th>\n",
       "      <td>TEORIA DE ACIONAMENTOS ELÉTRICOS</td>\n",
       "      <td>26.1</td>\n",
       "      <td>30.4</td>\n",
       "      <td>22.1</td>\n",
       "      <td>9.3</td>\n",
       "      <td>12.0</td>\n",
       "      <td>2.493493</td>\n",
       "      <td>B</td>\n",
       "      <td>B</td>\n",
       "    </tr>\n",
       "    <tr>\n",
       "      <th>76</th>\n",
       "      <td>SISTEMAS DE CONTROLE II</td>\n",
       "      <td>6.4</td>\n",
       "      <td>32.1</td>\n",
       "      <td>34.6</td>\n",
       "      <td>15.4</td>\n",
       "      <td>11.6</td>\n",
       "      <td>2.062937</td>\n",
       "      <td>C</td>\n",
       "      <td>C</td>\n",
       "    </tr>\n",
       "    <tr>\n",
       "      <th>77</th>\n",
       "      <td>INSTRUMENTAÇÃO E METROLOGIA ÓPTICA</td>\n",
       "      <td>31.9</td>\n",
       "      <td>25.9</td>\n",
       "      <td>30.4</td>\n",
       "      <td>4.4</td>\n",
       "      <td>7.4</td>\n",
       "      <td>1.925000</td>\n",
       "      <td>C</td>\n",
       "      <td>A</td>\n",
       "    </tr>\n",
       "  </tbody>\n",
       "</table>\n",
       "<p>78 rows × 9 columns</p>\n",
       "</div>"
      ],
      "text/plain": [
       "                                           Disciplina     A     B     C     D  \\\n",
       "0          EVOLUÇÃO E DIVERSIFICAÇÃO DA VIDA NA TERRA  31.0  43.1  17.4   4.8   \n",
       "1             BASE EXPERIMENTAL DAS CIÊNCIAS NATURAIS  84.6  15.4   0.0   0.0   \n",
       "2                     BASES COMPUTACIONAIS DA CIÊNCIA  39.2  26.9  18.3   7.2   \n",
       "3                                ESTRUTURA DA MATÉRIA  17.5  29.5  31.4  10.4   \n",
       "4                                   BASES MATEMÁTICAS   8.7  15.4  25.8  15.5   \n",
       "..                                                ...   ...   ...   ...   ...   \n",
       "73                  AUTOMAÇÃO DE SISTEMAS INDUSTRIAIS  36.4  35.9  19.0   5.2   \n",
       "74  TRABALHO DE GRADUAÇÃO III EM ENGENHARIA DE INS...  60.0  26.7   0.0   0.0   \n",
       "75                   TEORIA DE ACIONAMENTOS ELÉTRICOS  26.1  30.4  22.1   9.3   \n",
       "76                            SISTEMAS DE CONTROLE II   6.4  32.1  34.6  15.4   \n",
       "77                 INSTRUMENTAÇÃO E METROLOGIA ÓPTICA  31.9  25.9  30.4   4.4   \n",
       "\n",
       "       F  Nota provável Conceito provável Conceito moda  \n",
       "0    3.7       2.929000                 B             B  \n",
       "1    0.0       3.846000                 A             A  \n",
       "2    8.4       2.813000                 B             A  \n",
       "3   11.3       2.314685                 C             C  \n",
       "4   34.5       1.482482                 D             F  \n",
       "..   ...            ...               ...           ...  \n",
       "73   3.5       2.965000                 B             A  \n",
       "74  13.3       3.201000                 A             A  \n",
       "75  12.0       2.493493                 B             B  \n",
       "76  11.6       2.062937                 C             C  \n",
       "77   7.4       1.925000                 C             A  \n",
       "\n",
       "[78 rows x 9 columns]"
      ]
     },
     "execution_count": 517,
     "metadata": {},
     "output_type": "execute_result"
    }
   ],
   "source": [
    "df_next = pd.read_csv('./data/notas-next.csv', dtype={'Ano': str}, sep=';')\n",
    "df_next"
   ]
  },
  {
   "cell_type": "markdown",
   "metadata": {},
   "source": [
    "Para facilitar, vamos cruzar com a base de dados do Sigaa para obter os códigos e o CR."
   ]
  },
  {
   "cell_type": "code",
   "execution_count": 518,
   "metadata": {},
   "outputs": [
    {
     "data": {
      "text/html": [
       "<div>\n",
       "<style scoped>\n",
       "    .dataframe tbody tr th:only-of-type {\n",
       "        vertical-align: middle;\n",
       "    }\n",
       "\n",
       "    .dataframe tbody tr th {\n",
       "        vertical-align: top;\n",
       "    }\n",
       "\n",
       "    .dataframe thead th {\n",
       "        text-align: right;\n",
       "    }\n",
       "</style>\n",
       "<table border=\"1\" class=\"dataframe\">\n",
       "  <thead>\n",
       "    <tr style=\"text-align: right;\">\n",
       "      <th></th>\n",
       "      <th>Disciplina</th>\n",
       "      <th>A</th>\n",
       "      <th>B</th>\n",
       "      <th>C</th>\n",
       "      <th>D</th>\n",
       "      <th>F</th>\n",
       "      <th>Nota provável</th>\n",
       "      <th>Conceito provável</th>\n",
       "      <th>Conceito moda</th>\n",
       "      <th>Código</th>\n",
       "      <th>Créditos</th>\n",
       "      <th>Ano</th>\n",
       "    </tr>\n",
       "  </thead>\n",
       "  <tbody>\n",
       "    <tr>\n",
       "      <th>0</th>\n",
       "      <td>EVOLUÇÃO E DIVERSIFICAÇÃO DA VIDA NA TERRA</td>\n",
       "      <td>31.0</td>\n",
       "      <td>43.1</td>\n",
       "      <td>17.4</td>\n",
       "      <td>4.8</td>\n",
       "      <td>3.7</td>\n",
       "      <td>2.929000</td>\n",
       "      <td>B</td>\n",
       "      <td>B</td>\n",
       "      <td>BIL0304-15</td>\n",
       "      <td>3</td>\n",
       "      <td>2017.2</td>\n",
       "    </tr>\n",
       "    <tr>\n",
       "      <th>1</th>\n",
       "      <td>BASE EXPERIMENTAL DAS CIÊNCIAS NATURAIS</td>\n",
       "      <td>84.6</td>\n",
       "      <td>15.4</td>\n",
       "      <td>0.0</td>\n",
       "      <td>0.0</td>\n",
       "      <td>0.0</td>\n",
       "      <td>3.846000</td>\n",
       "      <td>A</td>\n",
       "      <td>A</td>\n",
       "      <td>BCS0001-15</td>\n",
       "      <td>3</td>\n",
       "      <td>2017.2</td>\n",
       "    </tr>\n",
       "    <tr>\n",
       "      <th>2</th>\n",
       "      <td>BASES COMPUTACIONAIS DA CIÊNCIA</td>\n",
       "      <td>39.2</td>\n",
       "      <td>26.9</td>\n",
       "      <td>18.3</td>\n",
       "      <td>7.2</td>\n",
       "      <td>8.4</td>\n",
       "      <td>2.813000</td>\n",
       "      <td>B</td>\n",
       "      <td>A</td>\n",
       "      <td>BIS0005-15</td>\n",
       "      <td>2</td>\n",
       "      <td>2017.2</td>\n",
       "    </tr>\n",
       "    <tr>\n",
       "      <th>3</th>\n",
       "      <td>ESTRUTURA DA MATÉRIA</td>\n",
       "      <td>17.5</td>\n",
       "      <td>29.5</td>\n",
       "      <td>31.4</td>\n",
       "      <td>10.4</td>\n",
       "      <td>11.3</td>\n",
       "      <td>2.314685</td>\n",
       "      <td>C</td>\n",
       "      <td>C</td>\n",
       "      <td>BIK0102-15</td>\n",
       "      <td>3</td>\n",
       "      <td>2017.2</td>\n",
       "    </tr>\n",
       "    <tr>\n",
       "      <th>4</th>\n",
       "      <td>BASES MATEMÁTICAS</td>\n",
       "      <td>8.7</td>\n",
       "      <td>15.4</td>\n",
       "      <td>25.8</td>\n",
       "      <td>15.5</td>\n",
       "      <td>34.5</td>\n",
       "      <td>1.482482</td>\n",
       "      <td>D</td>\n",
       "      <td>F</td>\n",
       "      <td>BIS0003-15</td>\n",
       "      <td>4</td>\n",
       "      <td>2017.2</td>\n",
       "    </tr>\n",
       "    <tr>\n",
       "      <th>...</th>\n",
       "      <td>...</td>\n",
       "      <td>...</td>\n",
       "      <td>...</td>\n",
       "      <td>...</td>\n",
       "      <td>...</td>\n",
       "      <td>...</td>\n",
       "      <td>...</td>\n",
       "      <td>...</td>\n",
       "      <td>...</td>\n",
       "      <td>...</td>\n",
       "      <td>...</td>\n",
       "      <td>...</td>\n",
       "    </tr>\n",
       "    <tr>\n",
       "      <th>73</th>\n",
       "      <td>AUTOMAÇÃO DE SISTEMAS INDUSTRIAIS</td>\n",
       "      <td>36.4</td>\n",
       "      <td>35.9</td>\n",
       "      <td>19.0</td>\n",
       "      <td>5.2</td>\n",
       "      <td>3.5</td>\n",
       "      <td>2.965000</td>\n",
       "      <td>B</td>\n",
       "      <td>A</td>\n",
       "      <td>ESTA011-17</td>\n",
       "      <td>4</td>\n",
       "      <td>2023.2</td>\n",
       "    </tr>\n",
       "    <tr>\n",
       "      <th>74</th>\n",
       "      <td>TRABALHO DE GRADUAÇÃO III EM ENGENHARIA DE INS...</td>\n",
       "      <td>60.0</td>\n",
       "      <td>26.7</td>\n",
       "      <td>0.0</td>\n",
       "      <td>0.0</td>\n",
       "      <td>13.3</td>\n",
       "      <td>3.201000</td>\n",
       "      <td>A</td>\n",
       "      <td>A</td>\n",
       "      <td>ESTA904-17</td>\n",
       "      <td>2</td>\n",
       "      <td>2023.3</td>\n",
       "    </tr>\n",
       "    <tr>\n",
       "      <th>75</th>\n",
       "      <td>TEORIA DE ACIONAMENTOS ELÉTRICOS</td>\n",
       "      <td>26.1</td>\n",
       "      <td>30.4</td>\n",
       "      <td>22.1</td>\n",
       "      <td>9.3</td>\n",
       "      <td>12.0</td>\n",
       "      <td>2.493493</td>\n",
       "      <td>B</td>\n",
       "      <td>B</td>\n",
       "      <td>ESTA022-17</td>\n",
       "      <td>4</td>\n",
       "      <td>2023.3</td>\n",
       "    </tr>\n",
       "    <tr>\n",
       "      <th>76</th>\n",
       "      <td>SISTEMAS DE CONTROLE II</td>\n",
       "      <td>6.4</td>\n",
       "      <td>32.1</td>\n",
       "      <td>34.6</td>\n",
       "      <td>15.4</td>\n",
       "      <td>11.6</td>\n",
       "      <td>2.062937</td>\n",
       "      <td>C</td>\n",
       "      <td>C</td>\n",
       "      <td>ESTA008-17</td>\n",
       "      <td>5</td>\n",
       "      <td>2023.3</td>\n",
       "    </tr>\n",
       "    <tr>\n",
       "      <th>77</th>\n",
       "      <td>INSTRUMENTAÇÃO E METROLOGIA ÓPTICA</td>\n",
       "      <td>31.9</td>\n",
       "      <td>25.9</td>\n",
       "      <td>30.4</td>\n",
       "      <td>4.4</td>\n",
       "      <td>7.4</td>\n",
       "      <td>1.925000</td>\n",
       "      <td>C</td>\n",
       "      <td>A</td>\n",
       "      <td>ESZA013-17</td>\n",
       "      <td>4</td>\n",
       "      <td>2022.3</td>\n",
       "    </tr>\n",
       "  </tbody>\n",
       "</table>\n",
       "<p>78 rows × 12 columns</p>\n",
       "</div>"
      ],
      "text/plain": [
       "                                           Disciplina     A     B     C     D  \\\n",
       "0          EVOLUÇÃO E DIVERSIFICAÇÃO DA VIDA NA TERRA  31.0  43.1  17.4   4.8   \n",
       "1             BASE EXPERIMENTAL DAS CIÊNCIAS NATURAIS  84.6  15.4   0.0   0.0   \n",
       "2                     BASES COMPUTACIONAIS DA CIÊNCIA  39.2  26.9  18.3   7.2   \n",
       "3                                ESTRUTURA DA MATÉRIA  17.5  29.5  31.4  10.4   \n",
       "4                                   BASES MATEMÁTICAS   8.7  15.4  25.8  15.5   \n",
       "..                                                ...   ...   ...   ...   ...   \n",
       "73                  AUTOMAÇÃO DE SISTEMAS INDUSTRIAIS  36.4  35.9  19.0   5.2   \n",
       "74  TRABALHO DE GRADUAÇÃO III EM ENGENHARIA DE INS...  60.0  26.7   0.0   0.0   \n",
       "75                   TEORIA DE ACIONAMENTOS ELÉTRICOS  26.1  30.4  22.1   9.3   \n",
       "76                            SISTEMAS DE CONTROLE II   6.4  32.1  34.6  15.4   \n",
       "77                 INSTRUMENTAÇÃO E METROLOGIA ÓPTICA  31.9  25.9  30.4   4.4   \n",
       "\n",
       "       F  Nota provável Conceito provável Conceito moda      Código  Créditos  \\\n",
       "0    3.7       2.929000                 B             B  BIL0304-15         3   \n",
       "1    0.0       3.846000                 A             A  BCS0001-15         3   \n",
       "2    8.4       2.813000                 B             A  BIS0005-15         2   \n",
       "3   11.3       2.314685                 C             C  BIK0102-15         3   \n",
       "4   34.5       1.482482                 D             F  BIS0003-15         4   \n",
       "..   ...            ...               ...           ...         ...       ...   \n",
       "73   3.5       2.965000                 B             A  ESTA011-17         4   \n",
       "74  13.3       3.201000                 A             A  ESTA904-17         2   \n",
       "75  12.0       2.493493                 B             B  ESTA022-17         4   \n",
       "76  11.6       2.062937                 C             C  ESTA008-17         5   \n",
       "77   7.4       1.925000                 C             A  ESZA013-17         4   \n",
       "\n",
       "       Ano  \n",
       "0   2017.2  \n",
       "1   2017.2  \n",
       "2   2017.2  \n",
       "3   2017.2  \n",
       "4   2017.2  \n",
       "..     ...  \n",
       "73  2023.2  \n",
       "74  2023.3  \n",
       "75  2023.3  \n",
       "76  2023.3  \n",
       "77  2022.3  \n",
       "\n",
       "[78 rows x 12 columns]"
      ]
     },
     "execution_count": 518,
     "metadata": {},
     "output_type": "execute_result"
    }
   ],
   "source": [
    "df_next = df_next.join(df_ufabc.set_index('Disciplina')[['Código', 'Créditos', 'Ano']], on='Disciplina', how='left')\n",
    "df_next"
   ]
  },
  {
   "cell_type": "code",
   "execution_count": 519,
   "metadata": {},
   "outputs": [
    {
     "data": {
      "text/html": [
       "<div>\n",
       "<style scoped>\n",
       "    .dataframe tbody tr th:only-of-type {\n",
       "        vertical-align: middle;\n",
       "    }\n",
       "\n",
       "    .dataframe tbody tr th {\n",
       "        vertical-align: top;\n",
       "    }\n",
       "\n",
       "    .dataframe thead th {\n",
       "        text-align: right;\n",
       "    }\n",
       "</style>\n",
       "<table border=\"1\" class=\"dataframe\">\n",
       "  <thead>\n",
       "    <tr style=\"text-align: right;\">\n",
       "      <th></th>\n",
       "      <th>Disciplina</th>\n",
       "      <th>A</th>\n",
       "      <th>B</th>\n",
       "      <th>C</th>\n",
       "      <th>D</th>\n",
       "      <th>F</th>\n",
       "      <th>Nota provável</th>\n",
       "      <th>Conceito provável</th>\n",
       "      <th>Conceito moda</th>\n",
       "      <th>Código</th>\n",
       "      <th>Créditos</th>\n",
       "      <th>Ano</th>\n",
       "    </tr>\n",
       "  </thead>\n",
       "  <tbody>\n",
       "  </tbody>\n",
       "</table>\n",
       "</div>"
      ],
      "text/plain": [
       "Empty DataFrame\n",
       "Columns: [Disciplina, A, B, C, D, F, Nota provável, Conceito provável, Conceito moda, Código, Créditos, Ano]\n",
       "Index: []"
      ]
     },
     "execution_count": 519,
     "metadata": {},
     "output_type": "execute_result"
    }
   ],
   "source": [
    "df_next[df_next.isna().any(axis=1)]"
   ]
  },
  {
   "cell_type": "markdown",
   "metadata": {},
   "source": [
    "#### Comparação da proporções dos conceitos"
   ]
  },
  {
   "cell_type": "markdown",
   "metadata": {},
   "source": [
    "Como primeiro passo, vamos verificar a proporção de notas e fazer uma comparação com aquelas verificadas no next."
   ]
  },
  {
   "cell_type": "code",
   "execution_count": 520,
   "metadata": {},
   "outputs": [
    {
     "name": "stdout",
     "output_type": "stream",
     "text": [
      "Resultado\n",
      "A    0.717949\n",
      "B    0.243590\n",
      "C    0.038462\n",
      "D    0.000000\n",
      "F    0.000000\n",
      "Name: proportion, dtype: float64\n",
      "\n",
      "Conceito provável\n",
      "A    0.179487\n",
      "B    0.371795\n",
      "C    0.346154\n",
      "D    0.102564\n",
      "F    0.000000\n",
      "Name: proportion, dtype: float64\n",
      "\n",
      "Conceito moda\n",
      "A    0.423077\n",
      "B    0.179487\n",
      "C    0.217949\n",
      "D    0.012821\n",
      "F    0.166667\n",
      "Name: proportion, dtype: float64\n"
     ]
    }
   ],
   "source": [
    "ufabc_grade_prop = df_ufabc['Resultado'].value_counts(normalize=True).reindex(['A', 'B', 'C', 'D', 'F'], fill_value=0.0)  # Para garantir que tenha todas as notas\n",
    "next_prob_grade_prop = df_next['Conceito provável'].value_counts(normalize=True).reindex(['A', 'B', 'C', 'D', 'F'], fill_value=0.0)\n",
    "next_mode_grade_prop = df_next['Conceito moda'].value_counts(normalize=True).reindex(['A', 'B', 'C', 'D', 'F'], fill_value=0.0)\n",
    "\n",
    "print(ufabc_grade_prop, end='\\n\\n')\n",
    "print(next_prob_grade_prop, end='\\n\\n')\n",
    "print(next_mode_grade_prop)"
   ]
  },
  {
   "cell_type": "markdown",
   "metadata": {},
   "source": [
    "Podemos fazer esta comparação tanto por meio de gráfico de barras, como por meio de gráfico de pizza:"
   ]
  },
  {
   "cell_type": "code",
   "execution_count": 567,
   "metadata": {},
   "outputs": [
    {
     "data": {
      "application/vnd.plotly.v1+json": {
       "config": {
        "plotlyServerURL": "https://plot.ly"
       },
       "data": [
        {
         "hovertemplate": "Conceito %{x}<br>%{y:.2%}",
         "marker": {
          "color": [
           "#60D394",
           "#AAF683",
           "#FFD97D",
           "#FF9B85",
           "#EE6055"
          ]
         },
         "name": "Meus conceitos<br>&nbsp;",
         "showlegend": false,
         "type": "bar",
         "x": [
          "A",
          "B",
          "C",
          "D",
          "F"
         ],
         "xaxis": "x",
         "y": [
          0.717948717948718,
          0.24358974358974358,
          0.038461538461538464,
          0,
          0
         ],
         "yaxis": "y",
         "yhoverformat": ".2%"
        },
        {
         "hovertemplate": "Conceito %{x}<br>%{y:.2%}",
         "marker": {
          "color": [
           "#60D394",
           "#AAF683",
           "#FFD97D",
           "#FF9B85",
           "#EE6055"
          ]
         },
         "name": "Projeção estimada<br>pela média",
         "showlegend": false,
         "type": "bar",
         "x": [
          "A",
          "B",
          "C",
          "D",
          "F"
         ],
         "xaxis": "x2",
         "y": [
          0.1794871794871795,
          0.3717948717948718,
          0.34615384615384615,
          0.10256410256410256,
          0
         ],
         "yaxis": "y2",
         "yhoverformat": ".2%"
        },
        {
         "hovertemplate": "Conceito %{x}<br>%{y:.2%}",
         "marker": {
          "color": [
           "#60D394",
           "#AAF683",
           "#FFD97D",
           "#FF9B85",
           "#EE6055"
          ]
         },
         "name": "Projeção estimada<br>pela moda",
         "showlegend": false,
         "type": "bar",
         "x": [
          "A",
          "B",
          "C",
          "D",
          "F"
         ],
         "xaxis": "x3",
         "y": [
          0.4230769230769231,
          0.1794871794871795,
          0.21794871794871795,
          0.01282051282051282,
          0.16666666666666666
         ],
         "yaxis": "y3",
         "yhoverformat": ".2%"
        }
       ],
       "layout": {
        "annotations": [
         {
          "font": {
           "size": 16
          },
          "showarrow": false,
          "text": "Meus conceitos<br>&nbsp;",
          "x": 0.14444444444444446,
          "xanchor": "center",
          "xref": "paper",
          "y": 1,
          "yanchor": "bottom",
          "yref": "paper"
         },
         {
          "font": {
           "size": 16
          },
          "showarrow": false,
          "text": "Projeção estimada<br>pela média",
          "x": 0.5,
          "xanchor": "center",
          "xref": "paper",
          "y": 1,
          "yanchor": "bottom",
          "yref": "paper"
         },
         {
          "font": {
           "size": 16
          },
          "showarrow": false,
          "text": "Projeção estimada<br>pela moda",
          "x": 0.8555555555555556,
          "xanchor": "center",
          "xref": "paper",
          "y": 1,
          "yanchor": "bottom",
          "yref": "paper"
         },
         {
          "font": {
           "size": 16
          },
          "showarrow": false,
          "text": "Conceitos",
          "x": 0.5,
          "xanchor": "center",
          "xref": "paper",
          "y": 0,
          "yanchor": "top",
          "yref": "paper",
          "yshift": -30
         }
        ],
        "height": 500,
        "margin": {
         "b": 70,
         "t": 70
        },
        "template": {
         "data": {
          "bar": [
           {
            "error_x": {
             "color": "#2a3f5f"
            },
            "error_y": {
             "color": "#2a3f5f"
            },
            "marker": {
             "line": {
              "color": "white",
              "width": 0.5
             },
             "pattern": {
              "fillmode": "overlay",
              "size": 10,
              "solidity": 0.2
             }
            },
            "type": "bar"
           }
          ],
          "barpolar": [
           {
            "marker": {
             "line": {
              "color": "white",
              "width": 0.5
             },
             "pattern": {
              "fillmode": "overlay",
              "size": 10,
              "solidity": 0.2
             }
            },
            "type": "barpolar"
           }
          ],
          "carpet": [
           {
            "aaxis": {
             "endlinecolor": "#2a3f5f",
             "gridcolor": "#C8D4E3",
             "linecolor": "#C8D4E3",
             "minorgridcolor": "#C8D4E3",
             "startlinecolor": "#2a3f5f"
            },
            "baxis": {
             "endlinecolor": "#2a3f5f",
             "gridcolor": "#C8D4E3",
             "linecolor": "#C8D4E3",
             "minorgridcolor": "#C8D4E3",
             "startlinecolor": "#2a3f5f"
            },
            "type": "carpet"
           }
          ],
          "choropleth": [
           {
            "colorbar": {
             "outlinewidth": 0,
             "ticks": ""
            },
            "type": "choropleth"
           }
          ],
          "contour": [
           {
            "colorbar": {
             "outlinewidth": 0,
             "ticks": ""
            },
            "colorscale": [
             [
              0,
              "#0d0887"
             ],
             [
              0.1111111111111111,
              "#46039f"
             ],
             [
              0.2222222222222222,
              "#7201a8"
             ],
             [
              0.3333333333333333,
              "#9c179e"
             ],
             [
              0.4444444444444444,
              "#bd3786"
             ],
             [
              0.5555555555555556,
              "#d8576b"
             ],
             [
              0.6666666666666666,
              "#ed7953"
             ],
             [
              0.7777777777777778,
              "#fb9f3a"
             ],
             [
              0.8888888888888888,
              "#fdca26"
             ],
             [
              1,
              "#f0f921"
             ]
            ],
            "type": "contour"
           }
          ],
          "contourcarpet": [
           {
            "colorbar": {
             "outlinewidth": 0,
             "ticks": ""
            },
            "type": "contourcarpet"
           }
          ],
          "heatmap": [
           {
            "colorbar": {
             "outlinewidth": 0,
             "ticks": ""
            },
            "colorscale": [
             [
              0,
              "#0d0887"
             ],
             [
              0.1111111111111111,
              "#46039f"
             ],
             [
              0.2222222222222222,
              "#7201a8"
             ],
             [
              0.3333333333333333,
              "#9c179e"
             ],
             [
              0.4444444444444444,
              "#bd3786"
             ],
             [
              0.5555555555555556,
              "#d8576b"
             ],
             [
              0.6666666666666666,
              "#ed7953"
             ],
             [
              0.7777777777777778,
              "#fb9f3a"
             ],
             [
              0.8888888888888888,
              "#fdca26"
             ],
             [
              1,
              "#f0f921"
             ]
            ],
            "type": "heatmap"
           }
          ],
          "heatmapgl": [
           {
            "colorbar": {
             "outlinewidth": 0,
             "ticks": ""
            },
            "colorscale": [
             [
              0,
              "#0d0887"
             ],
             [
              0.1111111111111111,
              "#46039f"
             ],
             [
              0.2222222222222222,
              "#7201a8"
             ],
             [
              0.3333333333333333,
              "#9c179e"
             ],
             [
              0.4444444444444444,
              "#bd3786"
             ],
             [
              0.5555555555555556,
              "#d8576b"
             ],
             [
              0.6666666666666666,
              "#ed7953"
             ],
             [
              0.7777777777777778,
              "#fb9f3a"
             ],
             [
              0.8888888888888888,
              "#fdca26"
             ],
             [
              1,
              "#f0f921"
             ]
            ],
            "type": "heatmapgl"
           }
          ],
          "histogram": [
           {
            "marker": {
             "pattern": {
              "fillmode": "overlay",
              "size": 10,
              "solidity": 0.2
             }
            },
            "type": "histogram"
           }
          ],
          "histogram2d": [
           {
            "colorbar": {
             "outlinewidth": 0,
             "ticks": ""
            },
            "colorscale": [
             [
              0,
              "#0d0887"
             ],
             [
              0.1111111111111111,
              "#46039f"
             ],
             [
              0.2222222222222222,
              "#7201a8"
             ],
             [
              0.3333333333333333,
              "#9c179e"
             ],
             [
              0.4444444444444444,
              "#bd3786"
             ],
             [
              0.5555555555555556,
              "#d8576b"
             ],
             [
              0.6666666666666666,
              "#ed7953"
             ],
             [
              0.7777777777777778,
              "#fb9f3a"
             ],
             [
              0.8888888888888888,
              "#fdca26"
             ],
             [
              1,
              "#f0f921"
             ]
            ],
            "type": "histogram2d"
           }
          ],
          "histogram2dcontour": [
           {
            "colorbar": {
             "outlinewidth": 0,
             "ticks": ""
            },
            "colorscale": [
             [
              0,
              "#0d0887"
             ],
             [
              0.1111111111111111,
              "#46039f"
             ],
             [
              0.2222222222222222,
              "#7201a8"
             ],
             [
              0.3333333333333333,
              "#9c179e"
             ],
             [
              0.4444444444444444,
              "#bd3786"
             ],
             [
              0.5555555555555556,
              "#d8576b"
             ],
             [
              0.6666666666666666,
              "#ed7953"
             ],
             [
              0.7777777777777778,
              "#fb9f3a"
             ],
             [
              0.8888888888888888,
              "#fdca26"
             ],
             [
              1,
              "#f0f921"
             ]
            ],
            "type": "histogram2dcontour"
           }
          ],
          "mesh3d": [
           {
            "colorbar": {
             "outlinewidth": 0,
             "ticks": ""
            },
            "type": "mesh3d"
           }
          ],
          "parcoords": [
           {
            "line": {
             "colorbar": {
              "outlinewidth": 0,
              "ticks": ""
             }
            },
            "type": "parcoords"
           }
          ],
          "pie": [
           {
            "automargin": true,
            "type": "pie"
           }
          ],
          "scatter": [
           {
            "fillpattern": {
             "fillmode": "overlay",
             "size": 10,
             "solidity": 0.2
            },
            "type": "scatter"
           }
          ],
          "scatter3d": [
           {
            "line": {
             "colorbar": {
              "outlinewidth": 0,
              "ticks": ""
             }
            },
            "marker": {
             "colorbar": {
              "outlinewidth": 0,
              "ticks": ""
             }
            },
            "type": "scatter3d"
           }
          ],
          "scattercarpet": [
           {
            "marker": {
             "colorbar": {
              "outlinewidth": 0,
              "ticks": ""
             }
            },
            "type": "scattercarpet"
           }
          ],
          "scattergeo": [
           {
            "marker": {
             "colorbar": {
              "outlinewidth": 0,
              "ticks": ""
             }
            },
            "type": "scattergeo"
           }
          ],
          "scattergl": [
           {
            "marker": {
             "colorbar": {
              "outlinewidth": 0,
              "ticks": ""
             }
            },
            "type": "scattergl"
           }
          ],
          "scattermapbox": [
           {
            "marker": {
             "colorbar": {
              "outlinewidth": 0,
              "ticks": ""
             }
            },
            "type": "scattermapbox"
           }
          ],
          "scatterpolar": [
           {
            "marker": {
             "colorbar": {
              "outlinewidth": 0,
              "ticks": ""
             }
            },
            "type": "scatterpolar"
           }
          ],
          "scatterpolargl": [
           {
            "marker": {
             "colorbar": {
              "outlinewidth": 0,
              "ticks": ""
             }
            },
            "type": "scatterpolargl"
           }
          ],
          "scatterternary": [
           {
            "marker": {
             "colorbar": {
              "outlinewidth": 0,
              "ticks": ""
             }
            },
            "type": "scatterternary"
           }
          ],
          "surface": [
           {
            "colorbar": {
             "outlinewidth": 0,
             "ticks": ""
            },
            "colorscale": [
             [
              0,
              "#0d0887"
             ],
             [
              0.1111111111111111,
              "#46039f"
             ],
             [
              0.2222222222222222,
              "#7201a8"
             ],
             [
              0.3333333333333333,
              "#9c179e"
             ],
             [
              0.4444444444444444,
              "#bd3786"
             ],
             [
              0.5555555555555556,
              "#d8576b"
             ],
             [
              0.6666666666666666,
              "#ed7953"
             ],
             [
              0.7777777777777778,
              "#fb9f3a"
             ],
             [
              0.8888888888888888,
              "#fdca26"
             ],
             [
              1,
              "#f0f921"
             ]
            ],
            "type": "surface"
           }
          ],
          "table": [
           {
            "cells": {
             "fill": {
              "color": "#EBF0F8"
             },
             "line": {
              "color": "white"
             }
            },
            "header": {
             "fill": {
              "color": "#C8D4E3"
             },
             "line": {
              "color": "white"
             }
            },
            "type": "table"
           }
          ]
         },
         "layout": {
          "annotationdefaults": {
           "arrowcolor": "#2a3f5f",
           "arrowhead": 0,
           "arrowwidth": 1
          },
          "autotypenumbers": "strict",
          "coloraxis": {
           "colorbar": {
            "outlinewidth": 0,
            "ticks": ""
           }
          },
          "colorscale": {
           "diverging": [
            [
             0,
             "#8e0152"
            ],
            [
             0.1,
             "#c51b7d"
            ],
            [
             0.2,
             "#de77ae"
            ],
            [
             0.3,
             "#f1b6da"
            ],
            [
             0.4,
             "#fde0ef"
            ],
            [
             0.5,
             "#f7f7f7"
            ],
            [
             0.6,
             "#e6f5d0"
            ],
            [
             0.7,
             "#b8e186"
            ],
            [
             0.8,
             "#7fbc41"
            ],
            [
             0.9,
             "#4d9221"
            ],
            [
             1,
             "#276419"
            ]
           ],
           "sequential": [
            [
             0,
             "#0d0887"
            ],
            [
             0.1111111111111111,
             "#46039f"
            ],
            [
             0.2222222222222222,
             "#7201a8"
            ],
            [
             0.3333333333333333,
             "#9c179e"
            ],
            [
             0.4444444444444444,
             "#bd3786"
            ],
            [
             0.5555555555555556,
             "#d8576b"
            ],
            [
             0.6666666666666666,
             "#ed7953"
            ],
            [
             0.7777777777777778,
             "#fb9f3a"
            ],
            [
             0.8888888888888888,
             "#fdca26"
            ],
            [
             1,
             "#f0f921"
            ]
           ],
           "sequentialminus": [
            [
             0,
             "#0d0887"
            ],
            [
             0.1111111111111111,
             "#46039f"
            ],
            [
             0.2222222222222222,
             "#7201a8"
            ],
            [
             0.3333333333333333,
             "#9c179e"
            ],
            [
             0.4444444444444444,
             "#bd3786"
            ],
            [
             0.5555555555555556,
             "#d8576b"
            ],
            [
             0.6666666666666666,
             "#ed7953"
            ],
            [
             0.7777777777777778,
             "#fb9f3a"
            ],
            [
             0.8888888888888888,
             "#fdca26"
            ],
            [
             1,
             "#f0f921"
            ]
           ]
          },
          "colorway": [
           "#636efa",
           "#EF553B",
           "#00cc96",
           "#ab63fa",
           "#FFA15A",
           "#19d3f3",
           "#FF6692",
           "#B6E880",
           "#FF97FF",
           "#FECB52"
          ],
          "font": {
           "color": "rgb(99, 99, 99)",
           "family": "Helvetica, sans-serif"
          },
          "geo": {
           "bgcolor": "white",
           "lakecolor": "white",
           "landcolor": "white",
           "showlakes": true,
           "showland": true,
           "subunitcolor": "#C8D4E3"
          },
          "hoverlabel": {
           "align": "left"
          },
          "hovermode": "closest",
          "mapbox": {
           "style": "light"
          },
          "paper_bgcolor": "white",
          "plot_bgcolor": "white",
          "polar": {
           "angularaxis": {
            "gridcolor": "#EBF0F8",
            "linecolor": "#EBF0F8",
            "ticks": ""
           },
           "bgcolor": "white",
           "radialaxis": {
            "gridcolor": "#EBF0F8",
            "linecolor": "#EBF0F8",
            "ticks": ""
           }
          },
          "scene": {
           "xaxis": {
            "backgroundcolor": "white",
            "gridcolor": "#DFE8F3",
            "gridwidth": 2,
            "linecolor": "#EBF0F8",
            "showbackground": true,
            "ticks": "",
            "zerolinecolor": "#EBF0F8"
           },
           "yaxis": {
            "backgroundcolor": "white",
            "gridcolor": "#DFE8F3",
            "gridwidth": 2,
            "linecolor": "#EBF0F8",
            "showbackground": true,
            "ticks": "",
            "zerolinecolor": "#EBF0F8"
           },
           "zaxis": {
            "backgroundcolor": "white",
            "gridcolor": "#DFE8F3",
            "gridwidth": 2,
            "linecolor": "#EBF0F8",
            "showbackground": true,
            "ticks": "",
            "zerolinecolor": "#EBF0F8"
           }
          },
          "shapedefaults": {
           "line": {
            "color": "#2a3f5f"
           }
          },
          "ternary": {
           "aaxis": {
            "gridcolor": "#DFE8F3",
            "linecolor": "#A2B1C6",
            "ticks": ""
           },
           "baxis": {
            "gridcolor": "#DFE8F3",
            "linecolor": "#A2B1C6",
            "ticks": ""
           },
           "bgcolor": "white",
           "caxis": {
            "gridcolor": "#DFE8F3",
            "linecolor": "#A2B1C6",
            "ticks": ""
           }
          },
          "title": {
           "x": 0.05
          },
          "xaxis": {
           "automargin": true,
           "gridcolor": "#EBF0F8",
           "linecolor": "#EBF0F8",
           "ticks": "",
           "title": {
            "standoff": 15
           },
           "zerolinecolor": "#EBF0F8",
           "zerolinewidth": 2
          },
          "yaxis": {
           "automargin": true,
           "gridcolor": "#EBF0F8",
           "linecolor": "#EBF0F8",
           "ticks": "",
           "title": {
            "standoff": 15
           },
           "zerolinecolor": "#EBF0F8",
           "zerolinewidth": 2
          }
         }
        },
        "xaxis": {
         "anchor": "y",
         "domain": [
          0,
          0.2888888888888889
         ]
        },
        "xaxis2": {
         "anchor": "y2",
         "domain": [
          0.35555555555555557,
          0.6444444444444445
         ]
        },
        "xaxis3": {
         "anchor": "y3",
         "domain": [
          0.7111111111111111,
          1
         ]
        },
        "yaxis": {
         "anchor": "x",
         "domain": [
          0,
          1
         ],
         "range": [
          0,
          1
         ],
         "tickformat": ".0%",
         "title": {
          "text": "Proporção"
         }
        },
        "yaxis2": {
         "anchor": "x2",
         "domain": [
          0,
          1
         ],
         "matches": "y",
         "showticklabels": false
        },
        "yaxis3": {
         "anchor": "x3",
         "domain": [
          0,
          1
         ],
         "matches": "y",
         "showticklabels": false
        }
       }
      }
     },
     "metadata": {},
     "output_type": "display_data"
    }
   ],
   "source": [
    "fig_ufabc_grades_prop_comp_bar = make_subplots(rows=1, cols=3, shared_yaxes=True, x_title='Conceitos', \n",
    "                                         subplot_titles=SUBPLOT_TITLES)\n",
    "\n",
    "for col, (prop, name) in enumerate(zip([ufabc_grade_prop, next_prob_grade_prop, next_mode_grade_prop], SUBPLOT_TITLES)):\n",
    "    x_grades_prop_bar = prop.index\n",
    "    y_grades_prop_bar = prop.values\n",
    "    \n",
    "    grades_prop_bar_colors = [GRADES_COLOR_MAP[grade] for grade in x_grades_prop_bar]\n",
    "    fig_ufabc_grades_prop_comp_bar.add_trace(go.Bar(x=x_grades_prop_bar, y=y_grades_prop_bar, showlegend=False, name=name, hovertemplate='Conceito %{x}<br>%{y:.2%}',\n",
    "                                              yhoverformat='.2%', marker_color=grades_prop_bar_colors), row=1, col=col + 1)\n",
    "\n",
    "# Tirando título para ficar mais clean no HTML. Caso seja necessário add o título de novo: 'Comparativo da proporção de notas na graduação'\n",
    "fig_ufabc_grades_prop_comp_bar.update_layout({'yaxis_title': 'Proporção', 'yaxis_tickformat': '.0%', \n",
    "                                              'yaxis_range': [0, 1], 'height': 500, 'margin_t': 70, 'margin_b': 70})\n",
    "fig_ufabc_grades_prop_comp_bar.write_html('../assets/graphs/ufabc_grades_prop_comp_bar.html')\n",
    "fig_ufabc_grades_prop_comp_bar.show()"
   ]
  },
  {
   "cell_type": "code",
   "execution_count": 568,
   "metadata": {},
   "outputs": [
    {
     "data": {
      "application/vnd.plotly.v1+json": {
       "config": {
        "plotlyServerURL": "https://plot.ly"
       },
       "data": [
        {
         "domain": {
          "x": [
           0,
           0.2888888888888889
          ],
          "y": [
           0,
           1
          ]
         },
         "hoverinfo": "label+percent",
         "hovertemplate": "Conceito %{label}<br>%{percent:.2%}",
         "labels": [
          "A",
          "B",
          "C",
          "D",
          "F"
         ],
         "marker": {
          "colors": [
           "#60D394",
           "#AAF683",
           "#FFD97D",
           "#FF9B85",
           "#EE6055"
          ]
         },
         "name": "Meus conceitos<br>&nbsp;",
         "texttemplate": "%{percent:.1%}",
         "type": "pie",
         "values": [
          0.717948717948718,
          0.24358974358974358,
          0.038461538461538464,
          0,
          0
         ]
        },
        {
         "domain": {
          "x": [
           0.35555555555555557,
           0.6444444444444445
          ],
          "y": [
           0,
           1
          ]
         },
         "hoverinfo": "label+percent",
         "hovertemplate": "Conceito %{label}<br>%{percent:.2%}",
         "labels": [
          "A",
          "B",
          "C",
          "D",
          "F"
         ],
         "marker": {
          "colors": [
           "#60D394",
           "#AAF683",
           "#FFD97D",
           "#FF9B85",
           "#EE6055"
          ]
         },
         "name": "Projeção estimada<br>pela média",
         "texttemplate": "%{percent:.1%}",
         "type": "pie",
         "values": [
          0.1794871794871795,
          0.3717948717948718,
          0.34615384615384615,
          0.10256410256410256,
          0
         ]
        },
        {
         "domain": {
          "x": [
           0.7111111111111111,
           1
          ],
          "y": [
           0,
           1
          ]
         },
         "hoverinfo": "label+percent",
         "hovertemplate": "Conceito %{label}<br>%{percent:.2%}",
         "labels": [
          "A",
          "B",
          "C",
          "D",
          "F"
         ],
         "marker": {
          "colors": [
           "#60D394",
           "#AAF683",
           "#FFD97D",
           "#FF9B85",
           "#EE6055"
          ]
         },
         "name": "Projeção estimada<br>pela moda",
         "texttemplate": "%{percent:.1%}",
         "type": "pie",
         "values": [
          0.4230769230769231,
          0.1794871794871795,
          0.21794871794871795,
          0.01282051282051282,
          0.16666666666666666
         ]
        }
       ],
       "layout": {
        "annotations": [
         {
          "font": {
           "size": 16
          },
          "showarrow": false,
          "text": "Meus conceitos<br>&nbsp;",
          "x": 0.14444444444444446,
          "xanchor": "center",
          "xref": "paper",
          "y": 1,
          "yanchor": "bottom",
          "yref": "paper"
         },
         {
          "font": {
           "size": 16
          },
          "showarrow": false,
          "text": "Projeção estimada<br>pela média",
          "x": 0.5,
          "xanchor": "center",
          "xref": "paper",
          "y": 1,
          "yanchor": "bottom",
          "yref": "paper"
         },
         {
          "font": {
           "size": 16
          },
          "showarrow": false,
          "text": "Projeção estimada<br>pela moda",
          "x": 0.8555555555555556,
          "xanchor": "center",
          "xref": "paper",
          "y": 1,
          "yanchor": "bottom",
          "yref": "paper"
         }
        ],
        "height": 500,
        "margin": {
         "b": 40,
         "t": 80
        },
        "template": {
         "data": {
          "bar": [
           {
            "error_x": {
             "color": "#2a3f5f"
            },
            "error_y": {
             "color": "#2a3f5f"
            },
            "marker": {
             "line": {
              "color": "white",
              "width": 0.5
             },
             "pattern": {
              "fillmode": "overlay",
              "size": 10,
              "solidity": 0.2
             }
            },
            "type": "bar"
           }
          ],
          "barpolar": [
           {
            "marker": {
             "line": {
              "color": "white",
              "width": 0.5
             },
             "pattern": {
              "fillmode": "overlay",
              "size": 10,
              "solidity": 0.2
             }
            },
            "type": "barpolar"
           }
          ],
          "carpet": [
           {
            "aaxis": {
             "endlinecolor": "#2a3f5f",
             "gridcolor": "#C8D4E3",
             "linecolor": "#C8D4E3",
             "minorgridcolor": "#C8D4E3",
             "startlinecolor": "#2a3f5f"
            },
            "baxis": {
             "endlinecolor": "#2a3f5f",
             "gridcolor": "#C8D4E3",
             "linecolor": "#C8D4E3",
             "minorgridcolor": "#C8D4E3",
             "startlinecolor": "#2a3f5f"
            },
            "type": "carpet"
           }
          ],
          "choropleth": [
           {
            "colorbar": {
             "outlinewidth": 0,
             "ticks": ""
            },
            "type": "choropleth"
           }
          ],
          "contour": [
           {
            "colorbar": {
             "outlinewidth": 0,
             "ticks": ""
            },
            "colorscale": [
             [
              0,
              "#0d0887"
             ],
             [
              0.1111111111111111,
              "#46039f"
             ],
             [
              0.2222222222222222,
              "#7201a8"
             ],
             [
              0.3333333333333333,
              "#9c179e"
             ],
             [
              0.4444444444444444,
              "#bd3786"
             ],
             [
              0.5555555555555556,
              "#d8576b"
             ],
             [
              0.6666666666666666,
              "#ed7953"
             ],
             [
              0.7777777777777778,
              "#fb9f3a"
             ],
             [
              0.8888888888888888,
              "#fdca26"
             ],
             [
              1,
              "#f0f921"
             ]
            ],
            "type": "contour"
           }
          ],
          "contourcarpet": [
           {
            "colorbar": {
             "outlinewidth": 0,
             "ticks": ""
            },
            "type": "contourcarpet"
           }
          ],
          "heatmap": [
           {
            "colorbar": {
             "outlinewidth": 0,
             "ticks": ""
            },
            "colorscale": [
             [
              0,
              "#0d0887"
             ],
             [
              0.1111111111111111,
              "#46039f"
             ],
             [
              0.2222222222222222,
              "#7201a8"
             ],
             [
              0.3333333333333333,
              "#9c179e"
             ],
             [
              0.4444444444444444,
              "#bd3786"
             ],
             [
              0.5555555555555556,
              "#d8576b"
             ],
             [
              0.6666666666666666,
              "#ed7953"
             ],
             [
              0.7777777777777778,
              "#fb9f3a"
             ],
             [
              0.8888888888888888,
              "#fdca26"
             ],
             [
              1,
              "#f0f921"
             ]
            ],
            "type": "heatmap"
           }
          ],
          "heatmapgl": [
           {
            "colorbar": {
             "outlinewidth": 0,
             "ticks": ""
            },
            "colorscale": [
             [
              0,
              "#0d0887"
             ],
             [
              0.1111111111111111,
              "#46039f"
             ],
             [
              0.2222222222222222,
              "#7201a8"
             ],
             [
              0.3333333333333333,
              "#9c179e"
             ],
             [
              0.4444444444444444,
              "#bd3786"
             ],
             [
              0.5555555555555556,
              "#d8576b"
             ],
             [
              0.6666666666666666,
              "#ed7953"
             ],
             [
              0.7777777777777778,
              "#fb9f3a"
             ],
             [
              0.8888888888888888,
              "#fdca26"
             ],
             [
              1,
              "#f0f921"
             ]
            ],
            "type": "heatmapgl"
           }
          ],
          "histogram": [
           {
            "marker": {
             "pattern": {
              "fillmode": "overlay",
              "size": 10,
              "solidity": 0.2
             }
            },
            "type": "histogram"
           }
          ],
          "histogram2d": [
           {
            "colorbar": {
             "outlinewidth": 0,
             "ticks": ""
            },
            "colorscale": [
             [
              0,
              "#0d0887"
             ],
             [
              0.1111111111111111,
              "#46039f"
             ],
             [
              0.2222222222222222,
              "#7201a8"
             ],
             [
              0.3333333333333333,
              "#9c179e"
             ],
             [
              0.4444444444444444,
              "#bd3786"
             ],
             [
              0.5555555555555556,
              "#d8576b"
             ],
             [
              0.6666666666666666,
              "#ed7953"
             ],
             [
              0.7777777777777778,
              "#fb9f3a"
             ],
             [
              0.8888888888888888,
              "#fdca26"
             ],
             [
              1,
              "#f0f921"
             ]
            ],
            "type": "histogram2d"
           }
          ],
          "histogram2dcontour": [
           {
            "colorbar": {
             "outlinewidth": 0,
             "ticks": ""
            },
            "colorscale": [
             [
              0,
              "#0d0887"
             ],
             [
              0.1111111111111111,
              "#46039f"
             ],
             [
              0.2222222222222222,
              "#7201a8"
             ],
             [
              0.3333333333333333,
              "#9c179e"
             ],
             [
              0.4444444444444444,
              "#bd3786"
             ],
             [
              0.5555555555555556,
              "#d8576b"
             ],
             [
              0.6666666666666666,
              "#ed7953"
             ],
             [
              0.7777777777777778,
              "#fb9f3a"
             ],
             [
              0.8888888888888888,
              "#fdca26"
             ],
             [
              1,
              "#f0f921"
             ]
            ],
            "type": "histogram2dcontour"
           }
          ],
          "mesh3d": [
           {
            "colorbar": {
             "outlinewidth": 0,
             "ticks": ""
            },
            "type": "mesh3d"
           }
          ],
          "parcoords": [
           {
            "line": {
             "colorbar": {
              "outlinewidth": 0,
              "ticks": ""
             }
            },
            "type": "parcoords"
           }
          ],
          "pie": [
           {
            "automargin": true,
            "type": "pie"
           }
          ],
          "scatter": [
           {
            "fillpattern": {
             "fillmode": "overlay",
             "size": 10,
             "solidity": 0.2
            },
            "type": "scatter"
           }
          ],
          "scatter3d": [
           {
            "line": {
             "colorbar": {
              "outlinewidth": 0,
              "ticks": ""
             }
            },
            "marker": {
             "colorbar": {
              "outlinewidth": 0,
              "ticks": ""
             }
            },
            "type": "scatter3d"
           }
          ],
          "scattercarpet": [
           {
            "marker": {
             "colorbar": {
              "outlinewidth": 0,
              "ticks": ""
             }
            },
            "type": "scattercarpet"
           }
          ],
          "scattergeo": [
           {
            "marker": {
             "colorbar": {
              "outlinewidth": 0,
              "ticks": ""
             }
            },
            "type": "scattergeo"
           }
          ],
          "scattergl": [
           {
            "marker": {
             "colorbar": {
              "outlinewidth": 0,
              "ticks": ""
             }
            },
            "type": "scattergl"
           }
          ],
          "scattermapbox": [
           {
            "marker": {
             "colorbar": {
              "outlinewidth": 0,
              "ticks": ""
             }
            },
            "type": "scattermapbox"
           }
          ],
          "scatterpolar": [
           {
            "marker": {
             "colorbar": {
              "outlinewidth": 0,
              "ticks": ""
             }
            },
            "type": "scatterpolar"
           }
          ],
          "scatterpolargl": [
           {
            "marker": {
             "colorbar": {
              "outlinewidth": 0,
              "ticks": ""
             }
            },
            "type": "scatterpolargl"
           }
          ],
          "scatterternary": [
           {
            "marker": {
             "colorbar": {
              "outlinewidth": 0,
              "ticks": ""
             }
            },
            "type": "scatterternary"
           }
          ],
          "surface": [
           {
            "colorbar": {
             "outlinewidth": 0,
             "ticks": ""
            },
            "colorscale": [
             [
              0,
              "#0d0887"
             ],
             [
              0.1111111111111111,
              "#46039f"
             ],
             [
              0.2222222222222222,
              "#7201a8"
             ],
             [
              0.3333333333333333,
              "#9c179e"
             ],
             [
              0.4444444444444444,
              "#bd3786"
             ],
             [
              0.5555555555555556,
              "#d8576b"
             ],
             [
              0.6666666666666666,
              "#ed7953"
             ],
             [
              0.7777777777777778,
              "#fb9f3a"
             ],
             [
              0.8888888888888888,
              "#fdca26"
             ],
             [
              1,
              "#f0f921"
             ]
            ],
            "type": "surface"
           }
          ],
          "table": [
           {
            "cells": {
             "fill": {
              "color": "#EBF0F8"
             },
             "line": {
              "color": "white"
             }
            },
            "header": {
             "fill": {
              "color": "#C8D4E3"
             },
             "line": {
              "color": "white"
             }
            },
            "type": "table"
           }
          ]
         },
         "layout": {
          "annotationdefaults": {
           "arrowcolor": "#2a3f5f",
           "arrowhead": 0,
           "arrowwidth": 1
          },
          "autotypenumbers": "strict",
          "coloraxis": {
           "colorbar": {
            "outlinewidth": 0,
            "ticks": ""
           }
          },
          "colorscale": {
           "diverging": [
            [
             0,
             "#8e0152"
            ],
            [
             0.1,
             "#c51b7d"
            ],
            [
             0.2,
             "#de77ae"
            ],
            [
             0.3,
             "#f1b6da"
            ],
            [
             0.4,
             "#fde0ef"
            ],
            [
             0.5,
             "#f7f7f7"
            ],
            [
             0.6,
             "#e6f5d0"
            ],
            [
             0.7,
             "#b8e186"
            ],
            [
             0.8,
             "#7fbc41"
            ],
            [
             0.9,
             "#4d9221"
            ],
            [
             1,
             "#276419"
            ]
           ],
           "sequential": [
            [
             0,
             "#0d0887"
            ],
            [
             0.1111111111111111,
             "#46039f"
            ],
            [
             0.2222222222222222,
             "#7201a8"
            ],
            [
             0.3333333333333333,
             "#9c179e"
            ],
            [
             0.4444444444444444,
             "#bd3786"
            ],
            [
             0.5555555555555556,
             "#d8576b"
            ],
            [
             0.6666666666666666,
             "#ed7953"
            ],
            [
             0.7777777777777778,
             "#fb9f3a"
            ],
            [
             0.8888888888888888,
             "#fdca26"
            ],
            [
             1,
             "#f0f921"
            ]
           ],
           "sequentialminus": [
            [
             0,
             "#0d0887"
            ],
            [
             0.1111111111111111,
             "#46039f"
            ],
            [
             0.2222222222222222,
             "#7201a8"
            ],
            [
             0.3333333333333333,
             "#9c179e"
            ],
            [
             0.4444444444444444,
             "#bd3786"
            ],
            [
             0.5555555555555556,
             "#d8576b"
            ],
            [
             0.6666666666666666,
             "#ed7953"
            ],
            [
             0.7777777777777778,
             "#fb9f3a"
            ],
            [
             0.8888888888888888,
             "#fdca26"
            ],
            [
             1,
             "#f0f921"
            ]
           ]
          },
          "colorway": [
           "#636efa",
           "#EF553B",
           "#00cc96",
           "#ab63fa",
           "#FFA15A",
           "#19d3f3",
           "#FF6692",
           "#B6E880",
           "#FF97FF",
           "#FECB52"
          ],
          "font": {
           "color": "rgb(99, 99, 99)",
           "family": "Helvetica, sans-serif"
          },
          "geo": {
           "bgcolor": "white",
           "lakecolor": "white",
           "landcolor": "white",
           "showlakes": true,
           "showland": true,
           "subunitcolor": "#C8D4E3"
          },
          "hoverlabel": {
           "align": "left"
          },
          "hovermode": "closest",
          "mapbox": {
           "style": "light"
          },
          "paper_bgcolor": "white",
          "plot_bgcolor": "white",
          "polar": {
           "angularaxis": {
            "gridcolor": "#EBF0F8",
            "linecolor": "#EBF0F8",
            "ticks": ""
           },
           "bgcolor": "white",
           "radialaxis": {
            "gridcolor": "#EBF0F8",
            "linecolor": "#EBF0F8",
            "ticks": ""
           }
          },
          "scene": {
           "xaxis": {
            "backgroundcolor": "white",
            "gridcolor": "#DFE8F3",
            "gridwidth": 2,
            "linecolor": "#EBF0F8",
            "showbackground": true,
            "ticks": "",
            "zerolinecolor": "#EBF0F8"
           },
           "yaxis": {
            "backgroundcolor": "white",
            "gridcolor": "#DFE8F3",
            "gridwidth": 2,
            "linecolor": "#EBF0F8",
            "showbackground": true,
            "ticks": "",
            "zerolinecolor": "#EBF0F8"
           },
           "zaxis": {
            "backgroundcolor": "white",
            "gridcolor": "#DFE8F3",
            "gridwidth": 2,
            "linecolor": "#EBF0F8",
            "showbackground": true,
            "ticks": "",
            "zerolinecolor": "#EBF0F8"
           }
          },
          "shapedefaults": {
           "line": {
            "color": "#2a3f5f"
           }
          },
          "ternary": {
           "aaxis": {
            "gridcolor": "#DFE8F3",
            "linecolor": "#A2B1C6",
            "ticks": ""
           },
           "baxis": {
            "gridcolor": "#DFE8F3",
            "linecolor": "#A2B1C6",
            "ticks": ""
           },
           "bgcolor": "white",
           "caxis": {
            "gridcolor": "#DFE8F3",
            "linecolor": "#A2B1C6",
            "ticks": ""
           }
          },
          "title": {
           "x": 0.05
          },
          "xaxis": {
           "automargin": true,
           "gridcolor": "#EBF0F8",
           "linecolor": "#EBF0F8",
           "ticks": "",
           "title": {
            "standoff": 15
           },
           "zerolinecolor": "#EBF0F8",
           "zerolinewidth": 2
          },
          "yaxis": {
           "automargin": true,
           "gridcolor": "#EBF0F8",
           "linecolor": "#EBF0F8",
           "ticks": "",
           "title": {
            "standoff": 15
           },
           "zerolinecolor": "#EBF0F8",
           "zerolinewidth": 2
          }
         }
        }
       }
      }
     },
     "metadata": {},
     "output_type": "display_data"
    }
   ],
   "source": [
    "fig_ufabc_grades_prop_comp_pie = make_subplots(rows=1, cols=3, shared_yaxes=True, subplot_titles=SUBPLOT_TITLES, specs=[[{'type': 'pie'}, {'type': 'pie'}, {'type': 'pie'}]])\n",
    "\n",
    "for col, (prop, name) in enumerate(zip([ufabc_grade_prop, next_prob_grade_prop, next_mode_grade_prop], SUBPLOT_TITLES)):\n",
    "    x_grades_prop_bar = prop.index\n",
    "    y_grades_prop_bar = prop.values\n",
    "    \n",
    "    grades_prob_bar_colors = [GRADES_COLOR_MAP[grade] for grade in x_grades_prop_bar]\n",
    "    fig_ufabc_grades_prop_comp_pie.add_trace(go.Pie(labels=x_grades_prop_bar, values=y_grades_prop_bar, name=name, hovertemplate='Conceito %{label}<br>%{percent:.2%}', \n",
    "                                              texttemplate='%{percent:.1%}', marker_colors=grades_prob_bar_colors,hoverinfo='label+percent'), row=1, col=col + 1)\n",
    "\n",
    "\n",
    "\n",
    "# Tirando título para ficar mais clean no HTML. Caso seja necessário add o título de novo: 'Comparativo da proporção de notas na graduação'\n",
    "fig_ufabc_grades_prop_comp_pie.update_layout({'height': 500, 'margin_t': 80, 'margin_b': 40})\n",
    "fig_ufabc_grades_prop_comp_pie.write_html('../assets/graphs/ufabc_grades_prop_comp_pie.html')\n",
    "fig_ufabc_grades_prop_comp_pie.show()"
   ]
  },
  {
   "cell_type": "markdown",
   "metadata": {},
   "source": [
    "#### Análise da evolução da proporção de conceitos quadrimestre a quadrimestre"
   ]
  },
  {
   "cell_type": "markdown",
   "metadata": {},
   "source": [
    "Em seguida, vamos fazer uma comparação da evolução da proporção da minhas notas quadrimestre a quadrimestre. Para fazermos isso, uma das possibilidades é traçar um mapa de calor."
   ]
  },
  {
   "cell_type": "code",
   "execution_count": 523,
   "metadata": {},
   "outputs": [
    {
     "data": {
      "text/html": [
       "<div>\n",
       "<style scoped>\n",
       "    .dataframe tbody tr th:only-of-type {\n",
       "        vertical-align: middle;\n",
       "    }\n",
       "\n",
       "    .dataframe tbody tr th {\n",
       "        vertical-align: top;\n",
       "    }\n",
       "\n",
       "    .dataframe thead th {\n",
       "        text-align: right;\n",
       "    }\n",
       "</style>\n",
       "<table border=\"1\" class=\"dataframe\">\n",
       "  <thead>\n",
       "    <tr style=\"text-align: right;\">\n",
       "      <th></th>\n",
       "      <th>num_A</th>\n",
       "      <th>num_B</th>\n",
       "      <th>num_C</th>\n",
       "      <th>num_D</th>\n",
       "      <th>num_F</th>\n",
       "    </tr>\n",
       "    <tr>\n",
       "      <th>Ano</th>\n",
       "      <th></th>\n",
       "      <th></th>\n",
       "      <th></th>\n",
       "      <th></th>\n",
       "      <th></th>\n",
       "    </tr>\n",
       "  </thead>\n",
       "  <tbody>\n",
       "    <tr>\n",
       "      <th>2017.2</th>\n",
       "      <td>4</td>\n",
       "      <td>0</td>\n",
       "      <td>2</td>\n",
       "      <td>0</td>\n",
       "      <td>0</td>\n",
       "    </tr>\n",
       "    <tr>\n",
       "      <th>2017.3</th>\n",
       "      <td>4</td>\n",
       "      <td>0</td>\n",
       "      <td>0</td>\n",
       "      <td>0</td>\n",
       "      <td>0</td>\n",
       "    </tr>\n",
       "    <tr>\n",
       "      <th>2018.1</th>\n",
       "      <td>2</td>\n",
       "      <td>2</td>\n",
       "      <td>0</td>\n",
       "      <td>0</td>\n",
       "      <td>0</td>\n",
       "    </tr>\n",
       "    <tr>\n",
       "      <th>2018.2</th>\n",
       "      <td>2</td>\n",
       "      <td>2</td>\n",
       "      <td>0</td>\n",
       "      <td>0</td>\n",
       "      <td>0</td>\n",
       "    </tr>\n",
       "    <tr>\n",
       "      <th>2018.3</th>\n",
       "      <td>3</td>\n",
       "      <td>1</td>\n",
       "      <td>0</td>\n",
       "      <td>0</td>\n",
       "      <td>0</td>\n",
       "    </tr>\n",
       "    <tr>\n",
       "      <th>2019.1</th>\n",
       "      <td>2</td>\n",
       "      <td>3</td>\n",
       "      <td>0</td>\n",
       "      <td>0</td>\n",
       "      <td>0</td>\n",
       "    </tr>\n",
       "    <tr>\n",
       "      <th>2019.2</th>\n",
       "      <td>3</td>\n",
       "      <td>3</td>\n",
       "      <td>0</td>\n",
       "      <td>0</td>\n",
       "      <td>0</td>\n",
       "    </tr>\n",
       "    <tr>\n",
       "      <th>2019.3</th>\n",
       "      <td>2</td>\n",
       "      <td>2</td>\n",
       "      <td>1</td>\n",
       "      <td>0</td>\n",
       "      <td>0</td>\n",
       "    </tr>\n",
       "    <tr>\n",
       "      <th>2020.3</th>\n",
       "      <td>2</td>\n",
       "      <td>1</td>\n",
       "      <td>0</td>\n",
       "      <td>0</td>\n",
       "      <td>0</td>\n",
       "    </tr>\n",
       "    <tr>\n",
       "      <th>2021.1</th>\n",
       "      <td>3</td>\n",
       "      <td>1</td>\n",
       "      <td>0</td>\n",
       "      <td>0</td>\n",
       "      <td>0</td>\n",
       "    </tr>\n",
       "    <tr>\n",
       "      <th>2021.2</th>\n",
       "      <td>3</td>\n",
       "      <td>1</td>\n",
       "      <td>0</td>\n",
       "      <td>0</td>\n",
       "      <td>0</td>\n",
       "    </tr>\n",
       "    <tr>\n",
       "      <th>2021.3</th>\n",
       "      <td>3</td>\n",
       "      <td>1</td>\n",
       "      <td>0</td>\n",
       "      <td>0</td>\n",
       "      <td>0</td>\n",
       "    </tr>\n",
       "    <tr>\n",
       "      <th>2022.1</th>\n",
       "      <td>4</td>\n",
       "      <td>0</td>\n",
       "      <td>0</td>\n",
       "      <td>0</td>\n",
       "      <td>0</td>\n",
       "    </tr>\n",
       "    <tr>\n",
       "      <th>2022.2</th>\n",
       "      <td>6</td>\n",
       "      <td>0</td>\n",
       "      <td>0</td>\n",
       "      <td>0</td>\n",
       "      <td>0</td>\n",
       "    </tr>\n",
       "    <tr>\n",
       "      <th>2022.3</th>\n",
       "      <td>3</td>\n",
       "      <td>1</td>\n",
       "      <td>0</td>\n",
       "      <td>0</td>\n",
       "      <td>0</td>\n",
       "    </tr>\n",
       "    <tr>\n",
       "      <th>2023.1</th>\n",
       "      <td>4</td>\n",
       "      <td>0</td>\n",
       "      <td>0</td>\n",
       "      <td>0</td>\n",
       "      <td>0</td>\n",
       "    </tr>\n",
       "    <tr>\n",
       "      <th>2023.2</th>\n",
       "      <td>3</td>\n",
       "      <td>1</td>\n",
       "      <td>0</td>\n",
       "      <td>0</td>\n",
       "      <td>0</td>\n",
       "    </tr>\n",
       "    <tr>\n",
       "      <th>2023.3</th>\n",
       "      <td>3</td>\n",
       "      <td>0</td>\n",
       "      <td>0</td>\n",
       "      <td>0</td>\n",
       "      <td>0</td>\n",
       "    </tr>\n",
       "  </tbody>\n",
       "</table>\n",
       "</div>"
      ],
      "text/plain": [
       "        num_A  num_B  num_C  num_D  num_F\n",
       "Ano                                      \n",
       "2017.2      4      0      2      0      0\n",
       "2017.3      4      0      0      0      0\n",
       "2018.1      2      2      0      0      0\n",
       "2018.2      2      2      0      0      0\n",
       "2018.3      3      1      0      0      0\n",
       "2019.1      2      3      0      0      0\n",
       "2019.2      3      3      0      0      0\n",
       "2019.3      2      2      1      0      0\n",
       "2020.3      2      1      0      0      0\n",
       "2021.1      3      1      0      0      0\n",
       "2021.2      3      1      0      0      0\n",
       "2021.3      3      1      0      0      0\n",
       "2022.1      4      0      0      0      0\n",
       "2022.2      6      0      0      0      0\n",
       "2022.3      3      1      0      0      0\n",
       "2023.1      4      0      0      0      0\n",
       "2023.2      3      1      0      0      0\n",
       "2023.3      3      0      0      0      0"
      ]
     },
     "execution_count": 523,
     "metadata": {},
     "output_type": "execute_result"
    }
   ],
   "source": [
    "df_ufabc_grades_prop_quad = df_ufabc.groupby('Ano', as_index=False).agg(\n",
    "    num_A=('Resultado', lambda s: s.value_counts().get('A', default=0)),\n",
    "    num_B=('Resultado', lambda s: s.value_counts().get('B', default=0)),\n",
    "    num_C=('Resultado', lambda s: s.value_counts().get('C', default=0)),\n",
    "    num_D=('Resultado', lambda s: s.value_counts().get('D', default=0)),\n",
    "    num_F=('Resultado', lambda s: s.value_counts().get('F', default=0))\n",
    ")\n",
    "\n",
    "df_ufabc_grades_prop_quad = df_ufabc_grades_prop_quad.sort_values(by='Ano', ascending=True).set_index('Ano', drop=True)\n",
    "df_ufabc_grades_prop_quad"
   ]
  },
  {
   "cell_type": "markdown",
   "metadata": {},
   "source": [
    "Se quisermos ver a proporção:"
   ]
  },
  {
   "cell_type": "code",
   "execution_count": 524,
   "metadata": {},
   "outputs": [
    {
     "data": {
      "text/html": [
       "<div>\n",
       "<style scoped>\n",
       "    .dataframe tbody tr th:only-of-type {\n",
       "        vertical-align: middle;\n",
       "    }\n",
       "\n",
       "    .dataframe tbody tr th {\n",
       "        vertical-align: top;\n",
       "    }\n",
       "\n",
       "    .dataframe thead th {\n",
       "        text-align: right;\n",
       "    }\n",
       "</style>\n",
       "<table border=\"1\" class=\"dataframe\">\n",
       "  <thead>\n",
       "    <tr style=\"text-align: right;\">\n",
       "      <th></th>\n",
       "      <th>num_A</th>\n",
       "      <th>num_B</th>\n",
       "      <th>num_C</th>\n",
       "      <th>num_D</th>\n",
       "      <th>num_F</th>\n",
       "    </tr>\n",
       "    <tr>\n",
       "      <th>Ano</th>\n",
       "      <th></th>\n",
       "      <th></th>\n",
       "      <th></th>\n",
       "      <th></th>\n",
       "      <th></th>\n",
       "    </tr>\n",
       "  </thead>\n",
       "  <tbody>\n",
       "    <tr>\n",
       "      <th>2017.2</th>\n",
       "      <td>66.7</td>\n",
       "      <td>0.0</td>\n",
       "      <td>33.3</td>\n",
       "      <td>0.0</td>\n",
       "      <td>0.0</td>\n",
       "    </tr>\n",
       "    <tr>\n",
       "      <th>2017.3</th>\n",
       "      <td>100.0</td>\n",
       "      <td>0.0</td>\n",
       "      <td>0.0</td>\n",
       "      <td>0.0</td>\n",
       "      <td>0.0</td>\n",
       "    </tr>\n",
       "    <tr>\n",
       "      <th>2018.1</th>\n",
       "      <td>50.0</td>\n",
       "      <td>50.0</td>\n",
       "      <td>0.0</td>\n",
       "      <td>0.0</td>\n",
       "      <td>0.0</td>\n",
       "    </tr>\n",
       "    <tr>\n",
       "      <th>2018.2</th>\n",
       "      <td>50.0</td>\n",
       "      <td>50.0</td>\n",
       "      <td>0.0</td>\n",
       "      <td>0.0</td>\n",
       "      <td>0.0</td>\n",
       "    </tr>\n",
       "    <tr>\n",
       "      <th>2018.3</th>\n",
       "      <td>75.0</td>\n",
       "      <td>25.0</td>\n",
       "      <td>0.0</td>\n",
       "      <td>0.0</td>\n",
       "      <td>0.0</td>\n",
       "    </tr>\n",
       "    <tr>\n",
       "      <th>2019.1</th>\n",
       "      <td>40.0</td>\n",
       "      <td>60.0</td>\n",
       "      <td>0.0</td>\n",
       "      <td>0.0</td>\n",
       "      <td>0.0</td>\n",
       "    </tr>\n",
       "    <tr>\n",
       "      <th>2019.2</th>\n",
       "      <td>50.0</td>\n",
       "      <td>50.0</td>\n",
       "      <td>0.0</td>\n",
       "      <td>0.0</td>\n",
       "      <td>0.0</td>\n",
       "    </tr>\n",
       "    <tr>\n",
       "      <th>2019.3</th>\n",
       "      <td>40.0</td>\n",
       "      <td>40.0</td>\n",
       "      <td>20.0</td>\n",
       "      <td>0.0</td>\n",
       "      <td>0.0</td>\n",
       "    </tr>\n",
       "    <tr>\n",
       "      <th>2020.3</th>\n",
       "      <td>66.7</td>\n",
       "      <td>33.3</td>\n",
       "      <td>0.0</td>\n",
       "      <td>0.0</td>\n",
       "      <td>0.0</td>\n",
       "    </tr>\n",
       "    <tr>\n",
       "      <th>2021.1</th>\n",
       "      <td>75.0</td>\n",
       "      <td>25.0</td>\n",
       "      <td>0.0</td>\n",
       "      <td>0.0</td>\n",
       "      <td>0.0</td>\n",
       "    </tr>\n",
       "    <tr>\n",
       "      <th>2021.2</th>\n",
       "      <td>75.0</td>\n",
       "      <td>25.0</td>\n",
       "      <td>0.0</td>\n",
       "      <td>0.0</td>\n",
       "      <td>0.0</td>\n",
       "    </tr>\n",
       "    <tr>\n",
       "      <th>2021.3</th>\n",
       "      <td>75.0</td>\n",
       "      <td>25.0</td>\n",
       "      <td>0.0</td>\n",
       "      <td>0.0</td>\n",
       "      <td>0.0</td>\n",
       "    </tr>\n",
       "    <tr>\n",
       "      <th>2022.1</th>\n",
       "      <td>100.0</td>\n",
       "      <td>0.0</td>\n",
       "      <td>0.0</td>\n",
       "      <td>0.0</td>\n",
       "      <td>0.0</td>\n",
       "    </tr>\n",
       "    <tr>\n",
       "      <th>2022.2</th>\n",
       "      <td>100.0</td>\n",
       "      <td>0.0</td>\n",
       "      <td>0.0</td>\n",
       "      <td>0.0</td>\n",
       "      <td>0.0</td>\n",
       "    </tr>\n",
       "    <tr>\n",
       "      <th>2022.3</th>\n",
       "      <td>75.0</td>\n",
       "      <td>25.0</td>\n",
       "      <td>0.0</td>\n",
       "      <td>0.0</td>\n",
       "      <td>0.0</td>\n",
       "    </tr>\n",
       "    <tr>\n",
       "      <th>2023.1</th>\n",
       "      <td>100.0</td>\n",
       "      <td>0.0</td>\n",
       "      <td>0.0</td>\n",
       "      <td>0.0</td>\n",
       "      <td>0.0</td>\n",
       "    </tr>\n",
       "    <tr>\n",
       "      <th>2023.2</th>\n",
       "      <td>75.0</td>\n",
       "      <td>25.0</td>\n",
       "      <td>0.0</td>\n",
       "      <td>0.0</td>\n",
       "      <td>0.0</td>\n",
       "    </tr>\n",
       "    <tr>\n",
       "      <th>2023.3</th>\n",
       "      <td>100.0</td>\n",
       "      <td>0.0</td>\n",
       "      <td>0.0</td>\n",
       "      <td>0.0</td>\n",
       "      <td>0.0</td>\n",
       "    </tr>\n",
       "  </tbody>\n",
       "</table>\n",
       "</div>"
      ],
      "text/plain": [
       "        num_A  num_B  num_C  num_D  num_F\n",
       "Ano                                      \n",
       "2017.2   66.7    0.0   33.3    0.0    0.0\n",
       "2017.3  100.0    0.0    0.0    0.0    0.0\n",
       "2018.1   50.0   50.0    0.0    0.0    0.0\n",
       "2018.2   50.0   50.0    0.0    0.0    0.0\n",
       "2018.3   75.0   25.0    0.0    0.0    0.0\n",
       "2019.1   40.0   60.0    0.0    0.0    0.0\n",
       "2019.2   50.0   50.0    0.0    0.0    0.0\n",
       "2019.3   40.0   40.0   20.0    0.0    0.0\n",
       "2020.3   66.7   33.3    0.0    0.0    0.0\n",
       "2021.1   75.0   25.0    0.0    0.0    0.0\n",
       "2021.2   75.0   25.0    0.0    0.0    0.0\n",
       "2021.3   75.0   25.0    0.0    0.0    0.0\n",
       "2022.1  100.0    0.0    0.0    0.0    0.0\n",
       "2022.2  100.0    0.0    0.0    0.0    0.0\n",
       "2022.3   75.0   25.0    0.0    0.0    0.0\n",
       "2023.1  100.0    0.0    0.0    0.0    0.0\n",
       "2023.2   75.0   25.0    0.0    0.0    0.0\n",
       "2023.3  100.0    0.0    0.0    0.0    0.0"
      ]
     },
     "execution_count": 524,
     "metadata": {},
     "output_type": "execute_result"
    }
   ],
   "source": [
    "df_ufabc_grades_prop_quad.apply(lambda s: np.round(s/s.sum()*100,1), axis=1)"
   ]
  },
  {
   "cell_type": "markdown",
   "metadata": {},
   "source": [
    "Além disso, podemos trazer uma visão acumulada, vendo como a proporção acumulada e quantidade acumuladas de conceitos alteraram-se ano após ano."
   ]
  },
  {
   "cell_type": "code",
   "execution_count": 525,
   "metadata": {},
   "outputs": [
    {
     "data": {
      "text/html": [
       "<div>\n",
       "<style scoped>\n",
       "    .dataframe tbody tr th:only-of-type {\n",
       "        vertical-align: middle;\n",
       "    }\n",
       "\n",
       "    .dataframe tbody tr th {\n",
       "        vertical-align: top;\n",
       "    }\n",
       "\n",
       "    .dataframe thead th {\n",
       "        text-align: right;\n",
       "    }\n",
       "</style>\n",
       "<table border=\"1\" class=\"dataframe\">\n",
       "  <thead>\n",
       "    <tr style=\"text-align: right;\">\n",
       "      <th></th>\n",
       "      <th>cum_A</th>\n",
       "      <th>cum_B</th>\n",
       "      <th>cum_C</th>\n",
       "      <th>cum_D</th>\n",
       "      <th>cum_F</th>\n",
       "    </tr>\n",
       "    <tr>\n",
       "      <th>Ano</th>\n",
       "      <th></th>\n",
       "      <th></th>\n",
       "      <th></th>\n",
       "      <th></th>\n",
       "      <th></th>\n",
       "    </tr>\n",
       "  </thead>\n",
       "  <tbody>\n",
       "    <tr>\n",
       "      <th>2017.2</th>\n",
       "      <td>4</td>\n",
       "      <td>0</td>\n",
       "      <td>2</td>\n",
       "      <td>0</td>\n",
       "      <td>0</td>\n",
       "    </tr>\n",
       "    <tr>\n",
       "      <th>2017.3</th>\n",
       "      <td>8</td>\n",
       "      <td>0</td>\n",
       "      <td>2</td>\n",
       "      <td>0</td>\n",
       "      <td>0</td>\n",
       "    </tr>\n",
       "    <tr>\n",
       "      <th>2018.1</th>\n",
       "      <td>10</td>\n",
       "      <td>2</td>\n",
       "      <td>2</td>\n",
       "      <td>0</td>\n",
       "      <td>0</td>\n",
       "    </tr>\n",
       "    <tr>\n",
       "      <th>2018.2</th>\n",
       "      <td>12</td>\n",
       "      <td>4</td>\n",
       "      <td>2</td>\n",
       "      <td>0</td>\n",
       "      <td>0</td>\n",
       "    </tr>\n",
       "    <tr>\n",
       "      <th>2018.3</th>\n",
       "      <td>15</td>\n",
       "      <td>5</td>\n",
       "      <td>2</td>\n",
       "      <td>0</td>\n",
       "      <td>0</td>\n",
       "    </tr>\n",
       "    <tr>\n",
       "      <th>2019.1</th>\n",
       "      <td>17</td>\n",
       "      <td>8</td>\n",
       "      <td>2</td>\n",
       "      <td>0</td>\n",
       "      <td>0</td>\n",
       "    </tr>\n",
       "    <tr>\n",
       "      <th>2019.2</th>\n",
       "      <td>20</td>\n",
       "      <td>11</td>\n",
       "      <td>2</td>\n",
       "      <td>0</td>\n",
       "      <td>0</td>\n",
       "    </tr>\n",
       "    <tr>\n",
       "      <th>2019.3</th>\n",
       "      <td>22</td>\n",
       "      <td>13</td>\n",
       "      <td>3</td>\n",
       "      <td>0</td>\n",
       "      <td>0</td>\n",
       "    </tr>\n",
       "    <tr>\n",
       "      <th>2020.3</th>\n",
       "      <td>24</td>\n",
       "      <td>14</td>\n",
       "      <td>3</td>\n",
       "      <td>0</td>\n",
       "      <td>0</td>\n",
       "    </tr>\n",
       "    <tr>\n",
       "      <th>2021.1</th>\n",
       "      <td>27</td>\n",
       "      <td>15</td>\n",
       "      <td>3</td>\n",
       "      <td>0</td>\n",
       "      <td>0</td>\n",
       "    </tr>\n",
       "    <tr>\n",
       "      <th>2021.2</th>\n",
       "      <td>30</td>\n",
       "      <td>16</td>\n",
       "      <td>3</td>\n",
       "      <td>0</td>\n",
       "      <td>0</td>\n",
       "    </tr>\n",
       "    <tr>\n",
       "      <th>2021.3</th>\n",
       "      <td>33</td>\n",
       "      <td>17</td>\n",
       "      <td>3</td>\n",
       "      <td>0</td>\n",
       "      <td>0</td>\n",
       "    </tr>\n",
       "    <tr>\n",
       "      <th>2022.1</th>\n",
       "      <td>37</td>\n",
       "      <td>17</td>\n",
       "      <td>3</td>\n",
       "      <td>0</td>\n",
       "      <td>0</td>\n",
       "    </tr>\n",
       "    <tr>\n",
       "      <th>2022.2</th>\n",
       "      <td>43</td>\n",
       "      <td>17</td>\n",
       "      <td>3</td>\n",
       "      <td>0</td>\n",
       "      <td>0</td>\n",
       "    </tr>\n",
       "    <tr>\n",
       "      <th>2022.3</th>\n",
       "      <td>46</td>\n",
       "      <td>18</td>\n",
       "      <td>3</td>\n",
       "      <td>0</td>\n",
       "      <td>0</td>\n",
       "    </tr>\n",
       "    <tr>\n",
       "      <th>2023.1</th>\n",
       "      <td>50</td>\n",
       "      <td>18</td>\n",
       "      <td>3</td>\n",
       "      <td>0</td>\n",
       "      <td>0</td>\n",
       "    </tr>\n",
       "    <tr>\n",
       "      <th>2023.2</th>\n",
       "      <td>53</td>\n",
       "      <td>19</td>\n",
       "      <td>3</td>\n",
       "      <td>0</td>\n",
       "      <td>0</td>\n",
       "    </tr>\n",
       "    <tr>\n",
       "      <th>2023.3</th>\n",
       "      <td>56</td>\n",
       "      <td>19</td>\n",
       "      <td>3</td>\n",
       "      <td>0</td>\n",
       "      <td>0</td>\n",
       "    </tr>\n",
       "  </tbody>\n",
       "</table>\n",
       "</div>"
      ],
      "text/plain": [
       "        cum_A  cum_B  cum_C  cum_D  cum_F\n",
       "Ano                                      \n",
       "2017.2      4      0      2      0      0\n",
       "2017.3      8      0      2      0      0\n",
       "2018.1     10      2      2      0      0\n",
       "2018.2     12      4      2      0      0\n",
       "2018.3     15      5      2      0      0\n",
       "2019.1     17      8      2      0      0\n",
       "2019.2     20     11      2      0      0\n",
       "2019.3     22     13      3      0      0\n",
       "2020.3     24     14      3      0      0\n",
       "2021.1     27     15      3      0      0\n",
       "2021.2     30     16      3      0      0\n",
       "2021.3     33     17      3      0      0\n",
       "2022.1     37     17      3      0      0\n",
       "2022.2     43     17      3      0      0\n",
       "2022.3     46     18      3      0      0\n",
       "2023.1     50     18      3      0      0\n",
       "2023.2     53     19      3      0      0\n",
       "2023.3     56     19      3      0      0"
      ]
     },
     "execution_count": 525,
     "metadata": {},
     "output_type": "execute_result"
    }
   ],
   "source": [
    "df_ufabc_grades_cum_quad = df_ufabc.groupby('Ano', as_index=False).agg(\n",
    "    cum_A=('Resultado', lambda s: s.value_counts().get('A', default=0)),\n",
    "    cum_B=('Resultado', lambda s: s.value_counts().get('B', default=0)),\n",
    "    cum_C=('Resultado', lambda s: s.value_counts().get('C', default=0)),\n",
    "    cum_D=('Resultado', lambda s: s.value_counts().get('D', default=0)),\n",
    "    cum_F=('Resultado', lambda s: s.value_counts().get('F', default=0)),\n",
    ")\n",
    "\n",
    "df_ufabc_grades_cum_quad = df_ufabc_grades_cum_quad.sort_values(by='Ano', ascending=True).set_index('Ano', drop=True)\n",
    "df_ufabc_grades_cum_quad = df_ufabc_grades_cum_quad.cumsum()\n",
    "df_ufabc_grades_cum_quad"
   ]
  },
  {
   "cell_type": "markdown",
   "metadata": {},
   "source": [
    "Ou vendo a proporção:"
   ]
  },
  {
   "cell_type": "code",
   "execution_count": 526,
   "metadata": {},
   "outputs": [
    {
     "data": {
      "text/html": [
       "<div>\n",
       "<style scoped>\n",
       "    .dataframe tbody tr th:only-of-type {\n",
       "        vertical-align: middle;\n",
       "    }\n",
       "\n",
       "    .dataframe tbody tr th {\n",
       "        vertical-align: top;\n",
       "    }\n",
       "\n",
       "    .dataframe thead th {\n",
       "        text-align: right;\n",
       "    }\n",
       "</style>\n",
       "<table border=\"1\" class=\"dataframe\">\n",
       "  <thead>\n",
       "    <tr style=\"text-align: right;\">\n",
       "      <th></th>\n",
       "      <th>cum_A</th>\n",
       "      <th>cum_B</th>\n",
       "      <th>cum_C</th>\n",
       "      <th>cum_D</th>\n",
       "      <th>cum_F</th>\n",
       "    </tr>\n",
       "    <tr>\n",
       "      <th>Ano</th>\n",
       "      <th></th>\n",
       "      <th></th>\n",
       "      <th></th>\n",
       "      <th></th>\n",
       "      <th></th>\n",
       "    </tr>\n",
       "  </thead>\n",
       "  <tbody>\n",
       "    <tr>\n",
       "      <th>2017.2</th>\n",
       "      <td>66.7</td>\n",
       "      <td>0.0</td>\n",
       "      <td>33.3</td>\n",
       "      <td>0.0</td>\n",
       "      <td>0.0</td>\n",
       "    </tr>\n",
       "    <tr>\n",
       "      <th>2017.3</th>\n",
       "      <td>80.0</td>\n",
       "      <td>0.0</td>\n",
       "      <td>20.0</td>\n",
       "      <td>0.0</td>\n",
       "      <td>0.0</td>\n",
       "    </tr>\n",
       "    <tr>\n",
       "      <th>2018.1</th>\n",
       "      <td>71.4</td>\n",
       "      <td>14.3</td>\n",
       "      <td>14.3</td>\n",
       "      <td>0.0</td>\n",
       "      <td>0.0</td>\n",
       "    </tr>\n",
       "    <tr>\n",
       "      <th>2018.2</th>\n",
       "      <td>66.7</td>\n",
       "      <td>22.2</td>\n",
       "      <td>11.1</td>\n",
       "      <td>0.0</td>\n",
       "      <td>0.0</td>\n",
       "    </tr>\n",
       "    <tr>\n",
       "      <th>2018.3</th>\n",
       "      <td>68.2</td>\n",
       "      <td>22.7</td>\n",
       "      <td>9.1</td>\n",
       "      <td>0.0</td>\n",
       "      <td>0.0</td>\n",
       "    </tr>\n",
       "    <tr>\n",
       "      <th>2019.1</th>\n",
       "      <td>63.0</td>\n",
       "      <td>29.6</td>\n",
       "      <td>7.4</td>\n",
       "      <td>0.0</td>\n",
       "      <td>0.0</td>\n",
       "    </tr>\n",
       "    <tr>\n",
       "      <th>2019.2</th>\n",
       "      <td>60.6</td>\n",
       "      <td>33.3</td>\n",
       "      <td>6.1</td>\n",
       "      <td>0.0</td>\n",
       "      <td>0.0</td>\n",
       "    </tr>\n",
       "    <tr>\n",
       "      <th>2019.3</th>\n",
       "      <td>57.9</td>\n",
       "      <td>34.2</td>\n",
       "      <td>7.9</td>\n",
       "      <td>0.0</td>\n",
       "      <td>0.0</td>\n",
       "    </tr>\n",
       "    <tr>\n",
       "      <th>2020.3</th>\n",
       "      <td>58.5</td>\n",
       "      <td>34.1</td>\n",
       "      <td>7.3</td>\n",
       "      <td>0.0</td>\n",
       "      <td>0.0</td>\n",
       "    </tr>\n",
       "    <tr>\n",
       "      <th>2021.1</th>\n",
       "      <td>60.0</td>\n",
       "      <td>33.3</td>\n",
       "      <td>6.7</td>\n",
       "      <td>0.0</td>\n",
       "      <td>0.0</td>\n",
       "    </tr>\n",
       "    <tr>\n",
       "      <th>2021.2</th>\n",
       "      <td>61.2</td>\n",
       "      <td>32.7</td>\n",
       "      <td>6.1</td>\n",
       "      <td>0.0</td>\n",
       "      <td>0.0</td>\n",
       "    </tr>\n",
       "    <tr>\n",
       "      <th>2021.3</th>\n",
       "      <td>62.3</td>\n",
       "      <td>32.1</td>\n",
       "      <td>5.7</td>\n",
       "      <td>0.0</td>\n",
       "      <td>0.0</td>\n",
       "    </tr>\n",
       "    <tr>\n",
       "      <th>2022.1</th>\n",
       "      <td>64.9</td>\n",
       "      <td>29.8</td>\n",
       "      <td>5.3</td>\n",
       "      <td>0.0</td>\n",
       "      <td>0.0</td>\n",
       "    </tr>\n",
       "    <tr>\n",
       "      <th>2022.2</th>\n",
       "      <td>68.3</td>\n",
       "      <td>27.0</td>\n",
       "      <td>4.8</td>\n",
       "      <td>0.0</td>\n",
       "      <td>0.0</td>\n",
       "    </tr>\n",
       "    <tr>\n",
       "      <th>2022.3</th>\n",
       "      <td>68.7</td>\n",
       "      <td>26.9</td>\n",
       "      <td>4.5</td>\n",
       "      <td>0.0</td>\n",
       "      <td>0.0</td>\n",
       "    </tr>\n",
       "    <tr>\n",
       "      <th>2023.1</th>\n",
       "      <td>70.4</td>\n",
       "      <td>25.4</td>\n",
       "      <td>4.2</td>\n",
       "      <td>0.0</td>\n",
       "      <td>0.0</td>\n",
       "    </tr>\n",
       "    <tr>\n",
       "      <th>2023.2</th>\n",
       "      <td>70.7</td>\n",
       "      <td>25.3</td>\n",
       "      <td>4.0</td>\n",
       "      <td>0.0</td>\n",
       "      <td>0.0</td>\n",
       "    </tr>\n",
       "    <tr>\n",
       "      <th>2023.3</th>\n",
       "      <td>71.8</td>\n",
       "      <td>24.4</td>\n",
       "      <td>3.8</td>\n",
       "      <td>0.0</td>\n",
       "      <td>0.0</td>\n",
       "    </tr>\n",
       "  </tbody>\n",
       "</table>\n",
       "</div>"
      ],
      "text/plain": [
       "        cum_A  cum_B  cum_C  cum_D  cum_F\n",
       "Ano                                      \n",
       "2017.2   66.7    0.0   33.3    0.0    0.0\n",
       "2017.3   80.0    0.0   20.0    0.0    0.0\n",
       "2018.1   71.4   14.3   14.3    0.0    0.0\n",
       "2018.2   66.7   22.2   11.1    0.0    0.0\n",
       "2018.3   68.2   22.7    9.1    0.0    0.0\n",
       "2019.1   63.0   29.6    7.4    0.0    0.0\n",
       "2019.2   60.6   33.3    6.1    0.0    0.0\n",
       "2019.3   57.9   34.2    7.9    0.0    0.0\n",
       "2020.3   58.5   34.1    7.3    0.0    0.0\n",
       "2021.1   60.0   33.3    6.7    0.0    0.0\n",
       "2021.2   61.2   32.7    6.1    0.0    0.0\n",
       "2021.3   62.3   32.1    5.7    0.0    0.0\n",
       "2022.1   64.9   29.8    5.3    0.0    0.0\n",
       "2022.2   68.3   27.0    4.8    0.0    0.0\n",
       "2022.3   68.7   26.9    4.5    0.0    0.0\n",
       "2023.1   70.4   25.4    4.2    0.0    0.0\n",
       "2023.2   70.7   25.3    4.0    0.0    0.0\n",
       "2023.3   71.8   24.4    3.8    0.0    0.0"
      ]
     },
     "execution_count": 526,
     "metadata": {},
     "output_type": "execute_result"
    }
   ],
   "source": [
    "df_ufabc_grades_cum_quad.apply(lambda s: np.round(s/s.sum()*100, 1), axis=1)"
   ]
  },
  {
   "cell_type": "markdown",
   "metadata": {},
   "source": [
    "Assim, podemos combinar os resultados em um subplot com dois heatmaps e comparar com os demais alunos."
   ]
  },
  {
   "cell_type": "code",
   "execution_count": 574,
   "metadata": {},
   "outputs": [
    {
     "data": {
      "application/vnd.plotly.v1+json": {
       "config": {
        "plotlyServerURL": "https://plot.ly"
       },
       "data": [
        {
         "colorbar": {
          "tickformat": ".0%"
         },
         "colorscale": [
          [
           0,
           "rgb(247,251,255)"
          ],
          [
           0.125,
           "rgb(222,235,247)"
          ],
          [
           0.25,
           "rgb(198,219,239)"
          ],
          [
           0.375,
           "rgb(158,202,225)"
          ],
          [
           0.5,
           "rgb(107,174,214)"
          ],
          [
           0.625,
           "rgb(66,146,198)"
          ],
          [
           0.75,
           "rgb(33,113,181)"
          ],
          [
           0.875,
           "rgb(8,81,156)"
          ],
          [
           1,
           "rgb(8,48,107)"
          ]
         ],
         "hoverinfo": "x+y+z",
         "hovertemplate": "%{x} em %{y}<br>%{z:.2%}",
         "name": "Meus conceitos<br>&nbsp;",
         "text": [
          [
           "66.7% (4)",
           "0.0% (0)",
           "33.3% (2)",
           "0.0% (0)",
           "0.0% (0)"
          ],
          [
           "100.0% (4)",
           "0.0% (0)",
           "0.0% (0)",
           "0.0% (0)",
           "0.0% (0)"
          ],
          [
           "50.0% (2)",
           "50.0% (2)",
           "0.0% (0)",
           "0.0% (0)",
           "0.0% (0)"
          ],
          [
           "50.0% (2)",
           "50.0% (2)",
           "0.0% (0)",
           "0.0% (0)",
           "0.0% (0)"
          ],
          [
           "75.0% (3)",
           "25.0% (1)",
           "0.0% (0)",
           "0.0% (0)",
           "0.0% (0)"
          ],
          [
           "40.0% (2)",
           "60.0% (3)",
           "0.0% (0)",
           "0.0% (0)",
           "0.0% (0)"
          ],
          [
           "50.0% (3)",
           "50.0% (3)",
           "0.0% (0)",
           "0.0% (0)",
           "0.0% (0)"
          ],
          [
           "40.0% (2)",
           "40.0% (2)",
           "20.0% (1)",
           "0.0% (0)",
           "0.0% (0)"
          ],
          [
           "66.7% (2)",
           "33.3% (1)",
           "0.0% (0)",
           "0.0% (0)",
           "0.0% (0)"
          ],
          [
           "75.0% (3)",
           "25.0% (1)",
           "0.0% (0)",
           "0.0% (0)",
           "0.0% (0)"
          ],
          [
           "75.0% (3)",
           "25.0% (1)",
           "0.0% (0)",
           "0.0% (0)",
           "0.0% (0)"
          ],
          [
           "75.0% (3)",
           "25.0% (1)",
           "0.0% (0)",
           "0.0% (0)",
           "0.0% (0)"
          ],
          [
           "100.0% (4)",
           "0.0% (0)",
           "0.0% (0)",
           "0.0% (0)",
           "0.0% (0)"
          ],
          [
           "100.0% (6)",
           "0.0% (0)",
           "0.0% (0)",
           "0.0% (0)",
           "0.0% (0)"
          ],
          [
           "75.0% (3)",
           "25.0% (1)",
           "0.0% (0)",
           "0.0% (0)",
           "0.0% (0)"
          ],
          [
           "100.0% (4)",
           "0.0% (0)",
           "0.0% (0)",
           "0.0% (0)",
           "0.0% (0)"
          ],
          [
           "75.0% (3)",
           "25.0% (1)",
           "0.0% (0)",
           "0.0% (0)",
           "0.0% (0)"
          ],
          [
           "100.0% (3)",
           "0.0% (0)",
           "0.0% (0)",
           "0.0% (0)",
           "0.0% (0)"
          ]
         ],
         "texttemplate": "%{text}",
         "type": "heatmap",
         "x": [
          "Prop. A",
          "Prop. B",
          "Prop. C",
          "Prop. D",
          "Prop. F"
         ],
         "xaxis": "x",
         "y": [
          "2017.2",
          "2017.3",
          "2018.1",
          "2018.2",
          "2018.3",
          "2019.1",
          "2019.2",
          "2019.3",
          "2020.3",
          "2021.1",
          "2021.2",
          "2021.3",
          "2022.1",
          "2022.2",
          "2022.3",
          "2023.1",
          "2023.2",
          "2023.3"
         ],
         "yaxis": "y",
         "z": [
          [
           0.6666666666666666,
           0,
           0.3333333333333333,
           0,
           0
          ],
          [
           1,
           0,
           0,
           0,
           0
          ],
          [
           0.5,
           0.5,
           0,
           0,
           0
          ],
          [
           0.5,
           0.5,
           0,
           0,
           0
          ],
          [
           0.75,
           0.25,
           0,
           0,
           0
          ],
          [
           0.4,
           0.6,
           0,
           0,
           0
          ],
          [
           0.5,
           0.5,
           0,
           0,
           0
          ],
          [
           0.4,
           0.4,
           0.2,
           0,
           0
          ],
          [
           0.6666666666666666,
           0.3333333333333333,
           0,
           0,
           0
          ],
          [
           0.75,
           0.25,
           0,
           0,
           0
          ],
          [
           0.75,
           0.25,
           0,
           0,
           0
          ],
          [
           0.75,
           0.25,
           0,
           0,
           0
          ],
          [
           1,
           0,
           0,
           0,
           0
          ],
          [
           1,
           0,
           0,
           0,
           0
          ],
          [
           0.75,
           0.25,
           0,
           0,
           0
          ],
          [
           1,
           0,
           0,
           0,
           0
          ],
          [
           0.75,
           0.25,
           0,
           0,
           0
          ],
          [
           1,
           0,
           0,
           0,
           0
          ]
         ],
         "zhoverformat": ".1%",
         "zmax": 1,
         "zmin": 0
        },
        {
         "colorbar": {
          "tickformat": ".0%"
         },
         "colorscale": [
          [
           0,
           "rgb(247,251,255)"
          ],
          [
           0.125,
           "rgb(222,235,247)"
          ],
          [
           0.25,
           "rgb(198,219,239)"
          ],
          [
           0.375,
           "rgb(158,202,225)"
          ],
          [
           0.5,
           "rgb(107,174,214)"
          ],
          [
           0.625,
           "rgb(66,146,198)"
          ],
          [
           0.75,
           "rgb(33,113,181)"
          ],
          [
           0.875,
           "rgb(8,81,156)"
          ],
          [
           1,
           "rgb(8,48,107)"
          ]
         ],
         "hoverinfo": "x+y+z",
         "hovertemplate": "%{x} em %{y}<br>%{z:.2%}",
         "name": "Projeção estimada<br>pela média",
         "text": [
          [
           "16.7% (1)",
           "50.0% (3)",
           "16.7% (1)",
           "16.7% (1)",
           "0.0% (0)"
          ],
          [
           "25.0% (1)",
           "0.0% (0)",
           "25.0% (1)",
           "50.0% (2)",
           "0.0% (0)"
          ],
          [
           "0.0% (0)",
           "25.0% (1)",
           "50.0% (2)",
           "25.0% (1)",
           "0.0% (0)"
          ],
          [
           "0.0% (0)",
           "25.0% (1)",
           "50.0% (2)",
           "25.0% (1)",
           "0.0% (0)"
          ],
          [
           "0.0% (0)",
           "50.0% (2)",
           "25.0% (1)",
           "25.0% (1)",
           "0.0% (0)"
          ],
          [
           "0.0% (0)",
           "40.0% (2)",
           "40.0% (2)",
           "20.0% (1)",
           "0.0% (0)"
          ],
          [
           "16.7% (1)",
           "66.7% (4)",
           "16.7% (1)",
           "0.0% (0)",
           "0.0% (0)"
          ],
          [
           "20.0% (1)",
           "40.0% (2)",
           "40.0% (2)",
           "0.0% (0)",
           "0.0% (0)"
          ],
          [
           "33.3% (1)",
           "0.0% (0)",
           "33.3% (1)",
           "33.3% (1)",
           "0.0% (0)"
          ],
          [
           "50.0% (2)",
           "25.0% (1)",
           "25.0% (1)",
           "0.0% (0)",
           "0.0% (0)"
          ],
          [
           "0.0% (0)",
           "75.0% (3)",
           "25.0% (1)",
           "0.0% (0)",
           "0.0% (0)"
          ],
          [
           "25.0% (1)",
           "50.0% (2)",
           "25.0% (1)",
           "0.0% (0)",
           "0.0% (0)"
          ],
          [
           "0.0% (0)",
           "50.0% (2)",
           "50.0% (2)",
           "0.0% (0)",
           "0.0% (0)"
          ],
          [
           "33.3% (2)",
           "33.3% (2)",
           "33.3% (2)",
           "0.0% (0)",
           "0.0% (0)"
          ],
          [
           "0.0% (0)",
           "0.0% (0)",
           "100.0% (4)",
           "0.0% (0)",
           "0.0% (0)"
          ],
          [
           "50.0% (2)",
           "25.0% (1)",
           "25.0% (1)",
           "0.0% (0)",
           "0.0% (0)"
          ],
          [
           "25.0% (1)",
           "50.0% (2)",
           "25.0% (1)",
           "0.0% (0)",
           "0.0% (0)"
          ],
          [
           "33.3% (1)",
           "33.3% (1)",
           "33.3% (1)",
           "0.0% (0)",
           "0.0% (0)"
          ]
         ],
         "texttemplate": "%{text}",
         "type": "heatmap",
         "x": [
          "Prop. A",
          "Prop. B",
          "Prop. C",
          "Prop. D",
          "Prop. F"
         ],
         "xaxis": "x2",
         "y": [
          "2017.2",
          "2017.3",
          "2018.1",
          "2018.2",
          "2018.3",
          "2019.1",
          "2019.2",
          "2019.3",
          "2020.3",
          "2021.1",
          "2021.2",
          "2021.3",
          "2022.1",
          "2022.2",
          "2022.3",
          "2023.1",
          "2023.2",
          "2023.3"
         ],
         "yaxis": "y2",
         "z": [
          [
           0.16666666666666666,
           0.5,
           0.16666666666666666,
           0.16666666666666666,
           0
          ],
          [
           0.25,
           0,
           0.25,
           0.5,
           0
          ],
          [
           0,
           0.25,
           0.5,
           0.25,
           0
          ],
          [
           0,
           0.25,
           0.5,
           0.25,
           0
          ],
          [
           0,
           0.5,
           0.25,
           0.25,
           0
          ],
          [
           0,
           0.4,
           0.4,
           0.2,
           0
          ],
          [
           0.16666666666666666,
           0.6666666666666666,
           0.16666666666666666,
           0,
           0
          ],
          [
           0.2,
           0.4,
           0.4,
           0,
           0
          ],
          [
           0.3333333333333333,
           0,
           0.3333333333333333,
           0.3333333333333333,
           0
          ],
          [
           0.5,
           0.25,
           0.25,
           0,
           0
          ],
          [
           0,
           0.75,
           0.25,
           0,
           0
          ],
          [
           0.25,
           0.5,
           0.25,
           0,
           0
          ],
          [
           0,
           0.5,
           0.5,
           0,
           0
          ],
          [
           0.3333333333333333,
           0.3333333333333333,
           0.3333333333333333,
           0,
           0
          ],
          [
           0,
           0,
           1,
           0,
           0
          ],
          [
           0.5,
           0.25,
           0.25,
           0,
           0
          ],
          [
           0.25,
           0.5,
           0.25,
           0,
           0
          ],
          [
           0.3333333333333333,
           0.3333333333333333,
           0.3333333333333333,
           0,
           0
          ]
         ],
         "zhoverformat": ".1%",
         "zmax": 1,
         "zmin": 0
        },
        {
         "colorbar": {
          "tickformat": ".0%"
         },
         "colorscale": [
          [
           0,
           "rgb(247,251,255)"
          ],
          [
           0.125,
           "rgb(222,235,247)"
          ],
          [
           0.25,
           "rgb(198,219,239)"
          ],
          [
           0.375,
           "rgb(158,202,225)"
          ],
          [
           0.5,
           "rgb(107,174,214)"
          ],
          [
           0.625,
           "rgb(66,146,198)"
          ],
          [
           0.75,
           "rgb(33,113,181)"
          ],
          [
           0.875,
           "rgb(8,81,156)"
          ],
          [
           1,
           "rgb(8,48,107)"
          ]
         ],
         "hoverinfo": "x+y+z",
         "hovertemplate": "%{x} em %{y}<br>%{z:.2%}",
         "name": "Projeção estimada<br>pela moda",
         "text": [
          [
           "33.3% (2)",
           "33.3% (2)",
           "16.7% (1)",
           "0.0% (0)",
           "16.7% (1)"
          ],
          [
           "25.0% (1)",
           "0.0% (0)",
           "0.0% (0)",
           "0.0% (0)",
           "75.0% (3)"
          ],
          [
           "25.0% (1)",
           "0.0% (0)",
           "50.0% (2)",
           "0.0% (0)",
           "25.0% (1)"
          ],
          [
           "0.0% (0)",
           "50.0% (2)",
           "25.0% (1)",
           "0.0% (0)",
           "25.0% (1)"
          ],
          [
           "0.0% (0)",
           "25.0% (1)",
           "50.0% (2)",
           "0.0% (0)",
           "25.0% (1)"
          ],
          [
           "40.0% (2)",
           "20.0% (1)",
           "20.0% (1)",
           "0.0% (0)",
           "20.0% (1)"
          ],
          [
           "50.0% (3)",
           "50.0% (3)",
           "0.0% (0)",
           "0.0% (0)",
           "0.0% (0)"
          ],
          [
           "60.0% (3)",
           "0.0% (0)",
           "20.0% (1)",
           "0.0% (0)",
           "20.0% (1)"
          ],
          [
           "33.3% (1)",
           "0.0% (0)",
           "0.0% (0)",
           "33.3% (1)",
           "33.3% (1)"
          ],
          [
           "75.0% (3)",
           "0.0% (0)",
           "0.0% (0)",
           "0.0% (0)",
           "25.0% (1)"
          ],
          [
           "75.0% (3)",
           "0.0% (0)",
           "25.0% (1)",
           "0.0% (0)",
           "0.0% (0)"
          ],
          [
           "50.0% (2)",
           "0.0% (0)",
           "50.0% (2)",
           "0.0% (0)",
           "0.0% (0)"
          ],
          [
           "25.0% (1)",
           "25.0% (1)",
           "50.0% (2)",
           "0.0% (0)",
           "0.0% (0)"
          ],
          [
           "50.0% (3)",
           "33.3% (2)",
           "16.7% (1)",
           "0.0% (0)",
           "0.0% (0)"
          ],
          [
           "25.0% (1)",
           "0.0% (0)",
           "25.0% (1)",
           "0.0% (0)",
           "50.0% (2)"
          ],
          [
           "75.0% (3)",
           "25.0% (1)",
           "0.0% (0)",
           "0.0% (0)",
           "0.0% (0)"
          ],
          [
           "75.0% (3)",
           "0.0% (0)",
           "25.0% (1)",
           "0.0% (0)",
           "0.0% (0)"
          ],
          [
           "33.3% (1)",
           "33.3% (1)",
           "33.3% (1)",
           "0.0% (0)",
           "0.0% (0)"
          ]
         ],
         "texttemplate": "%{text}",
         "type": "heatmap",
         "x": [
          "Prop. A",
          "Prop. B",
          "Prop. C",
          "Prop. D",
          "Prop. F"
         ],
         "xaxis": "x3",
         "y": [
          "2017.2",
          "2017.3",
          "2018.1",
          "2018.2",
          "2018.3",
          "2019.1",
          "2019.2",
          "2019.3",
          "2020.3",
          "2021.1",
          "2021.2",
          "2021.3",
          "2022.1",
          "2022.2",
          "2022.3",
          "2023.1",
          "2023.2",
          "2023.3"
         ],
         "yaxis": "y3",
         "z": [
          [
           0.3333333333333333,
           0.3333333333333333,
           0.16666666666666666,
           0,
           0.16666666666666666
          ],
          [
           0.25,
           0,
           0,
           0,
           0.75
          ],
          [
           0.25,
           0,
           0.5,
           0,
           0.25
          ],
          [
           0,
           0.5,
           0.25,
           0,
           0.25
          ],
          [
           0,
           0.25,
           0.5,
           0,
           0.25
          ],
          [
           0.4,
           0.2,
           0.2,
           0,
           0.2
          ],
          [
           0.5,
           0.5,
           0,
           0,
           0
          ],
          [
           0.6,
           0,
           0.2,
           0,
           0.2
          ],
          [
           0.3333333333333333,
           0,
           0,
           0.3333333333333333,
           0.3333333333333333
          ],
          [
           0.75,
           0,
           0,
           0,
           0.25
          ],
          [
           0.75,
           0,
           0.25,
           0,
           0
          ],
          [
           0.5,
           0,
           0.5,
           0,
           0
          ],
          [
           0.25,
           0.25,
           0.5,
           0,
           0
          ],
          [
           0.5,
           0.3333333333333333,
           0.16666666666666666,
           0,
           0
          ],
          [
           0.25,
           0,
           0.25,
           0,
           0.5
          ],
          [
           0.75,
           0.25,
           0,
           0,
           0
          ],
          [
           0.75,
           0,
           0.25,
           0,
           0
          ],
          [
           0.3333333333333333,
           0.3333333333333333,
           0.3333333333333333,
           0,
           0
          ]
         ],
         "zhoverformat": ".1%",
         "zmax": 1,
         "zmin": 0
        }
       ],
       "layout": {
        "annotations": [
         {
          "font": {
           "size": 16
          },
          "showarrow": false,
          "text": "Meus conceitos<br>&nbsp;",
          "x": 0.15833333333333333,
          "xanchor": "center",
          "xref": "paper",
          "y": 1,
          "yanchor": "bottom",
          "yref": "paper"
         },
         {
          "font": {
           "size": 16
          },
          "showarrow": false,
          "text": "Projeção estimada<br>pela média",
          "x": 0.5,
          "xanchor": "center",
          "xref": "paper",
          "y": 1,
          "yanchor": "bottom",
          "yref": "paper"
         },
         {
          "font": {
           "size": 16
          },
          "showarrow": false,
          "text": "Projeção estimada<br>pela moda",
          "x": 0.8416666666666667,
          "xanchor": "center",
          "xref": "paper",
          "y": 1,
          "yanchor": "bottom",
          "yref": "paper"
         },
         {
          "font": {
           "size": 16
          },
          "showarrow": false,
          "text": "Proporção e quantidade de conceitos",
          "x": 0.5,
          "xanchor": "center",
          "xref": "paper",
          "y": 0,
          "yanchor": "top",
          "yref": "paper",
          "yshift": -30
         }
        ],
        "height": 600,
        "margin": {
         "t": 70
        },
        "template": {
         "data": {
          "bar": [
           {
            "error_x": {
             "color": "#2a3f5f"
            },
            "error_y": {
             "color": "#2a3f5f"
            },
            "marker": {
             "line": {
              "color": "white",
              "width": 0.5
             },
             "pattern": {
              "fillmode": "overlay",
              "size": 10,
              "solidity": 0.2
             }
            },
            "type": "bar"
           }
          ],
          "barpolar": [
           {
            "marker": {
             "line": {
              "color": "white",
              "width": 0.5
             },
             "pattern": {
              "fillmode": "overlay",
              "size": 10,
              "solidity": 0.2
             }
            },
            "type": "barpolar"
           }
          ],
          "carpet": [
           {
            "aaxis": {
             "endlinecolor": "#2a3f5f",
             "gridcolor": "#C8D4E3",
             "linecolor": "#C8D4E3",
             "minorgridcolor": "#C8D4E3",
             "startlinecolor": "#2a3f5f"
            },
            "baxis": {
             "endlinecolor": "#2a3f5f",
             "gridcolor": "#C8D4E3",
             "linecolor": "#C8D4E3",
             "minorgridcolor": "#C8D4E3",
             "startlinecolor": "#2a3f5f"
            },
            "type": "carpet"
           }
          ],
          "choropleth": [
           {
            "colorbar": {
             "outlinewidth": 0,
             "ticks": ""
            },
            "type": "choropleth"
           }
          ],
          "contour": [
           {
            "colorbar": {
             "outlinewidth": 0,
             "ticks": ""
            },
            "colorscale": [
             [
              0,
              "#0d0887"
             ],
             [
              0.1111111111111111,
              "#46039f"
             ],
             [
              0.2222222222222222,
              "#7201a8"
             ],
             [
              0.3333333333333333,
              "#9c179e"
             ],
             [
              0.4444444444444444,
              "#bd3786"
             ],
             [
              0.5555555555555556,
              "#d8576b"
             ],
             [
              0.6666666666666666,
              "#ed7953"
             ],
             [
              0.7777777777777778,
              "#fb9f3a"
             ],
             [
              0.8888888888888888,
              "#fdca26"
             ],
             [
              1,
              "#f0f921"
             ]
            ],
            "type": "contour"
           }
          ],
          "contourcarpet": [
           {
            "colorbar": {
             "outlinewidth": 0,
             "ticks": ""
            },
            "type": "contourcarpet"
           }
          ],
          "heatmap": [
           {
            "colorbar": {
             "outlinewidth": 0,
             "ticks": ""
            },
            "colorscale": [
             [
              0,
              "#0d0887"
             ],
             [
              0.1111111111111111,
              "#46039f"
             ],
             [
              0.2222222222222222,
              "#7201a8"
             ],
             [
              0.3333333333333333,
              "#9c179e"
             ],
             [
              0.4444444444444444,
              "#bd3786"
             ],
             [
              0.5555555555555556,
              "#d8576b"
             ],
             [
              0.6666666666666666,
              "#ed7953"
             ],
             [
              0.7777777777777778,
              "#fb9f3a"
             ],
             [
              0.8888888888888888,
              "#fdca26"
             ],
             [
              1,
              "#f0f921"
             ]
            ],
            "type": "heatmap"
           }
          ],
          "heatmapgl": [
           {
            "colorbar": {
             "outlinewidth": 0,
             "ticks": ""
            },
            "colorscale": [
             [
              0,
              "#0d0887"
             ],
             [
              0.1111111111111111,
              "#46039f"
             ],
             [
              0.2222222222222222,
              "#7201a8"
             ],
             [
              0.3333333333333333,
              "#9c179e"
             ],
             [
              0.4444444444444444,
              "#bd3786"
             ],
             [
              0.5555555555555556,
              "#d8576b"
             ],
             [
              0.6666666666666666,
              "#ed7953"
             ],
             [
              0.7777777777777778,
              "#fb9f3a"
             ],
             [
              0.8888888888888888,
              "#fdca26"
             ],
             [
              1,
              "#f0f921"
             ]
            ],
            "type": "heatmapgl"
           }
          ],
          "histogram": [
           {
            "marker": {
             "pattern": {
              "fillmode": "overlay",
              "size": 10,
              "solidity": 0.2
             }
            },
            "type": "histogram"
           }
          ],
          "histogram2d": [
           {
            "colorbar": {
             "outlinewidth": 0,
             "ticks": ""
            },
            "colorscale": [
             [
              0,
              "#0d0887"
             ],
             [
              0.1111111111111111,
              "#46039f"
             ],
             [
              0.2222222222222222,
              "#7201a8"
             ],
             [
              0.3333333333333333,
              "#9c179e"
             ],
             [
              0.4444444444444444,
              "#bd3786"
             ],
             [
              0.5555555555555556,
              "#d8576b"
             ],
             [
              0.6666666666666666,
              "#ed7953"
             ],
             [
              0.7777777777777778,
              "#fb9f3a"
             ],
             [
              0.8888888888888888,
              "#fdca26"
             ],
             [
              1,
              "#f0f921"
             ]
            ],
            "type": "histogram2d"
           }
          ],
          "histogram2dcontour": [
           {
            "colorbar": {
             "outlinewidth": 0,
             "ticks": ""
            },
            "colorscale": [
             [
              0,
              "#0d0887"
             ],
             [
              0.1111111111111111,
              "#46039f"
             ],
             [
              0.2222222222222222,
              "#7201a8"
             ],
             [
              0.3333333333333333,
              "#9c179e"
             ],
             [
              0.4444444444444444,
              "#bd3786"
             ],
             [
              0.5555555555555556,
              "#d8576b"
             ],
             [
              0.6666666666666666,
              "#ed7953"
             ],
             [
              0.7777777777777778,
              "#fb9f3a"
             ],
             [
              0.8888888888888888,
              "#fdca26"
             ],
             [
              1,
              "#f0f921"
             ]
            ],
            "type": "histogram2dcontour"
           }
          ],
          "mesh3d": [
           {
            "colorbar": {
             "outlinewidth": 0,
             "ticks": ""
            },
            "type": "mesh3d"
           }
          ],
          "parcoords": [
           {
            "line": {
             "colorbar": {
              "outlinewidth": 0,
              "ticks": ""
             }
            },
            "type": "parcoords"
           }
          ],
          "pie": [
           {
            "automargin": true,
            "type": "pie"
           }
          ],
          "scatter": [
           {
            "fillpattern": {
             "fillmode": "overlay",
             "size": 10,
             "solidity": 0.2
            },
            "type": "scatter"
           }
          ],
          "scatter3d": [
           {
            "line": {
             "colorbar": {
              "outlinewidth": 0,
              "ticks": ""
             }
            },
            "marker": {
             "colorbar": {
              "outlinewidth": 0,
              "ticks": ""
             }
            },
            "type": "scatter3d"
           }
          ],
          "scattercarpet": [
           {
            "marker": {
             "colorbar": {
              "outlinewidth": 0,
              "ticks": ""
             }
            },
            "type": "scattercarpet"
           }
          ],
          "scattergeo": [
           {
            "marker": {
             "colorbar": {
              "outlinewidth": 0,
              "ticks": ""
             }
            },
            "type": "scattergeo"
           }
          ],
          "scattergl": [
           {
            "marker": {
             "colorbar": {
              "outlinewidth": 0,
              "ticks": ""
             }
            },
            "type": "scattergl"
           }
          ],
          "scattermapbox": [
           {
            "marker": {
             "colorbar": {
              "outlinewidth": 0,
              "ticks": ""
             }
            },
            "type": "scattermapbox"
           }
          ],
          "scatterpolar": [
           {
            "marker": {
             "colorbar": {
              "outlinewidth": 0,
              "ticks": ""
             }
            },
            "type": "scatterpolar"
           }
          ],
          "scatterpolargl": [
           {
            "marker": {
             "colorbar": {
              "outlinewidth": 0,
              "ticks": ""
             }
            },
            "type": "scatterpolargl"
           }
          ],
          "scatterternary": [
           {
            "marker": {
             "colorbar": {
              "outlinewidth": 0,
              "ticks": ""
             }
            },
            "type": "scatterternary"
           }
          ],
          "surface": [
           {
            "colorbar": {
             "outlinewidth": 0,
             "ticks": ""
            },
            "colorscale": [
             [
              0,
              "#0d0887"
             ],
             [
              0.1111111111111111,
              "#46039f"
             ],
             [
              0.2222222222222222,
              "#7201a8"
             ],
             [
              0.3333333333333333,
              "#9c179e"
             ],
             [
              0.4444444444444444,
              "#bd3786"
             ],
             [
              0.5555555555555556,
              "#d8576b"
             ],
             [
              0.6666666666666666,
              "#ed7953"
             ],
             [
              0.7777777777777778,
              "#fb9f3a"
             ],
             [
              0.8888888888888888,
              "#fdca26"
             ],
             [
              1,
              "#f0f921"
             ]
            ],
            "type": "surface"
           }
          ],
          "table": [
           {
            "cells": {
             "fill": {
              "color": "#EBF0F8"
             },
             "line": {
              "color": "white"
             }
            },
            "header": {
             "fill": {
              "color": "#C8D4E3"
             },
             "line": {
              "color": "white"
             }
            },
            "type": "table"
           }
          ]
         },
         "layout": {
          "annotationdefaults": {
           "arrowcolor": "#2a3f5f",
           "arrowhead": 0,
           "arrowwidth": 1
          },
          "autotypenumbers": "strict",
          "coloraxis": {
           "colorbar": {
            "outlinewidth": 0,
            "ticks": ""
           }
          },
          "colorscale": {
           "diverging": [
            [
             0,
             "#8e0152"
            ],
            [
             0.1,
             "#c51b7d"
            ],
            [
             0.2,
             "#de77ae"
            ],
            [
             0.3,
             "#f1b6da"
            ],
            [
             0.4,
             "#fde0ef"
            ],
            [
             0.5,
             "#f7f7f7"
            ],
            [
             0.6,
             "#e6f5d0"
            ],
            [
             0.7,
             "#b8e186"
            ],
            [
             0.8,
             "#7fbc41"
            ],
            [
             0.9,
             "#4d9221"
            ],
            [
             1,
             "#276419"
            ]
           ],
           "sequential": [
            [
             0,
             "#0d0887"
            ],
            [
             0.1111111111111111,
             "#46039f"
            ],
            [
             0.2222222222222222,
             "#7201a8"
            ],
            [
             0.3333333333333333,
             "#9c179e"
            ],
            [
             0.4444444444444444,
             "#bd3786"
            ],
            [
             0.5555555555555556,
             "#d8576b"
            ],
            [
             0.6666666666666666,
             "#ed7953"
            ],
            [
             0.7777777777777778,
             "#fb9f3a"
            ],
            [
             0.8888888888888888,
             "#fdca26"
            ],
            [
             1,
             "#f0f921"
            ]
           ],
           "sequentialminus": [
            [
             0,
             "#0d0887"
            ],
            [
             0.1111111111111111,
             "#46039f"
            ],
            [
             0.2222222222222222,
             "#7201a8"
            ],
            [
             0.3333333333333333,
             "#9c179e"
            ],
            [
             0.4444444444444444,
             "#bd3786"
            ],
            [
             0.5555555555555556,
             "#d8576b"
            ],
            [
             0.6666666666666666,
             "#ed7953"
            ],
            [
             0.7777777777777778,
             "#fb9f3a"
            ],
            [
             0.8888888888888888,
             "#fdca26"
            ],
            [
             1,
             "#f0f921"
            ]
           ]
          },
          "colorway": [
           "#636efa",
           "#EF553B",
           "#00cc96",
           "#ab63fa",
           "#FFA15A",
           "#19d3f3",
           "#FF6692",
           "#B6E880",
           "#FF97FF",
           "#FECB52"
          ],
          "font": {
           "color": "rgb(99, 99, 99)",
           "family": "Helvetica, sans-serif"
          },
          "geo": {
           "bgcolor": "white",
           "lakecolor": "white",
           "landcolor": "white",
           "showlakes": true,
           "showland": true,
           "subunitcolor": "#C8D4E3"
          },
          "hoverlabel": {
           "align": "left"
          },
          "hovermode": "closest",
          "mapbox": {
           "style": "light"
          },
          "paper_bgcolor": "white",
          "plot_bgcolor": "white",
          "polar": {
           "angularaxis": {
            "gridcolor": "#EBF0F8",
            "linecolor": "#EBF0F8",
            "ticks": ""
           },
           "bgcolor": "white",
           "radialaxis": {
            "gridcolor": "#EBF0F8",
            "linecolor": "#EBF0F8",
            "ticks": ""
           }
          },
          "scene": {
           "xaxis": {
            "backgroundcolor": "white",
            "gridcolor": "#DFE8F3",
            "gridwidth": 2,
            "linecolor": "#EBF0F8",
            "showbackground": true,
            "ticks": "",
            "zerolinecolor": "#EBF0F8"
           },
           "yaxis": {
            "backgroundcolor": "white",
            "gridcolor": "#DFE8F3",
            "gridwidth": 2,
            "linecolor": "#EBF0F8",
            "showbackground": true,
            "ticks": "",
            "zerolinecolor": "#EBF0F8"
           },
           "zaxis": {
            "backgroundcolor": "white",
            "gridcolor": "#DFE8F3",
            "gridwidth": 2,
            "linecolor": "#EBF0F8",
            "showbackground": true,
            "ticks": "",
            "zerolinecolor": "#EBF0F8"
           }
          },
          "shapedefaults": {
           "line": {
            "color": "#2a3f5f"
           }
          },
          "ternary": {
           "aaxis": {
            "gridcolor": "#DFE8F3",
            "linecolor": "#A2B1C6",
            "ticks": ""
           },
           "baxis": {
            "gridcolor": "#DFE8F3",
            "linecolor": "#A2B1C6",
            "ticks": ""
           },
           "bgcolor": "white",
           "caxis": {
            "gridcolor": "#DFE8F3",
            "linecolor": "#A2B1C6",
            "ticks": ""
           }
          },
          "title": {
           "x": 0.05
          },
          "xaxis": {
           "automargin": true,
           "gridcolor": "#EBF0F8",
           "linecolor": "#EBF0F8",
           "ticks": "",
           "title": {
            "standoff": 15
           },
           "zerolinecolor": "#EBF0F8",
           "zerolinewidth": 2
          },
          "yaxis": {
           "automargin": true,
           "gridcolor": "#EBF0F8",
           "linecolor": "#EBF0F8",
           "ticks": "",
           "title": {
            "standoff": 15
           },
           "zerolinecolor": "#EBF0F8",
           "zerolinewidth": 2
          }
         }
        },
        "xaxis": {
         "anchor": "y",
         "domain": [
          0,
          0.31666666666666665
         ]
        },
        "xaxis2": {
         "anchor": "y2",
         "domain": [
          0.3416666666666667,
          0.6583333333333333
         ]
        },
        "xaxis3": {
         "anchor": "y3",
         "domain": [
          0.6833333333333333,
          1
         ]
        },
        "yaxis": {
         "anchor": "x",
         "domain": [
          0,
          1
         ],
         "title": {
          "text": "Quadrimestre"
         }
        },
        "yaxis2": {
         "anchor": "x2",
         "domain": [
          0,
          1
         ],
         "matches": "y",
         "showticklabels": false
        },
        "yaxis3": {
         "anchor": "x3",
         "domain": [
          0,
          1
         ],
         "matches": "y",
         "showticklabels": false
        }
       }
      }
     },
     "metadata": {},
     "output_type": "display_data"
    }
   ],
   "source": [
    "# Só com a proporção\n",
    "fig_ufabc_grades_prop_cum_quad = make_subplots(rows=1, cols=3, shared_yaxes=True, shared_xaxes=True, horizontal_spacing=0.025, vertical_spacing=0.025,\n",
    "                                               x_title='Proporção e quantidade de conceitos', subplot_titles=SUBPLOT_TITLES)\n",
    "\n",
    "# Com a proporção e proporção acumulada\n",
    "# fig_ufabc_grades_prop_cum_quad = make_subplots(rows=2, cols=3, shared_yaxes=True, shared_xaxes=True, horizontal_spacing=0.025, vertical_spacing=0.025,\n",
    "#                                                x_title='Proporção e quantidade de conceitos', subplot_titles=SUBPLOT_TITLES)\n",
    "\n",
    "for col, df_tmp in enumerate([df_ufabc, df_next.rename(columns={'Conceito provável': 'Resultado'}), df_next.rename(columns={'Conceito moda': 'Resultado'})]):\n",
    "    df_ufabc_grades_prop_quad = df_tmp.groupby('Ano', as_index=False).agg(\n",
    "        num_A=('Resultado', lambda s: s.value_counts().get('A', default=0)),\n",
    "        num_B=('Resultado', lambda s: s.value_counts().get('B', default=0)),\n",
    "        num_C=('Resultado', lambda s: s.value_counts().get('C', default=0)),\n",
    "        num_D=('Resultado', lambda s: s.value_counts().get('D', default=0)),\n",
    "        num_F=('Resultado', lambda s: s.value_counts().get('F', default=0))\n",
    "    )\n",
    "\n",
    "    df_ufabc_grades_prop_quad = df_ufabc_grades_prop_quad.sort_values(by='Ano', ascending=True).set_index('Ano', drop=True)\n",
    "    \n",
    "    df_ufabc_grades_cum_quad = df_tmp.groupby('Ano', as_index=False).agg(\n",
    "        cum_A=('Resultado', lambda s: s.value_counts().get('A', default=0)),\n",
    "        cum_B=('Resultado', lambda s: s.value_counts().get('B', default=0)),\n",
    "        cum_C=('Resultado', lambda s: s.value_counts().get('C', default=0)),\n",
    "        cum_D=('Resultado', lambda s: s.value_counts().get('D', default=0)),\n",
    "        cum_F=('Resultado', lambda s: s.value_counts().get('F', default=0)),\n",
    "    )\n",
    "\n",
    "    df_ufabc_grades_cum_quad = df_ufabc_grades_cum_quad.sort_values(by='Ano', ascending=True).set_index('Ano', drop=True)\n",
    "    df_ufabc_grades_cum_quad = df_ufabc_grades_cum_quad.cumsum()\n",
    "\n",
    "    x_grades_prop_quad = [f'Prop. {grade[-1]}' for grade in df_ufabc_grades_prop_quad.columns]\n",
    "    y_grades_prop_quad = df_ufabc_grades_prop_quad.index\n",
    "    z_grades_prop_quad = df_ufabc_grades_prop_quad.apply(lambda s: s/s.sum(), axis=1).values\n",
    "    text_1 = df_ufabc_grades_prop_quad.apply(lambda s: np.round(s/s.sum()*100,1), axis=1).astype(str) + '% (' + df_ufabc_grades_prop_quad.astype(str) + ')'\n",
    "\n",
    "    x_grades_prop_cum_quad = [f'Prop. {grade[-1]}' for grade in df_ufabc_grades_cum_quad.columns]\n",
    "    y_grades_prop_cum_quad = df_ufabc_grades_cum_quad.index\n",
    "    z_grades_prop_cum_quad = df_ufabc_grades_cum_quad.apply(lambda s: s/s.sum(), axis=1).values\n",
    "    text_2 = df_ufabc_grades_cum_quad.apply(lambda s: np.round(s/s.sum()*100, 1), axis=1).astype(str) + '% (' + df_ufabc_grades_cum_quad.astype(str) + ')'\n",
    "\n",
    "    fig_ufabc_grades_prop_cum_quad.add_trace(go.Heatmap(x=x_grades_prop_quad, y=y_grades_prop_quad, z=z_grades_prop_quad, text=text_1, name=SUBPLOT_TITLES[col],\n",
    "                                                        texttemplate='%{text}', zhoverformat='.1%', hovertemplate='%{x} em %{y}<br>%{z:.2%}', # textfont_size=8,\n",
    "                                                        colorscale=HEATMAP_PALETTE, hoverinfo='x+y+z', colorbar_tickformat='.0%', zmin=0, zmax=1), row=1, col=col + 1)\n",
    "\n",
    "    # fig_ufabc_grades_prop_cum_quad.add_trace(go.Heatmap(x=x_grades_prop_cum_quad, y=y_grades_prop_cum_quad, z=z_grades_prop_cum_quad, name=SUBPLOT_TITLES[col],\n",
    "    #                                                     text=text_2, texttemplate='%{text}', hovertemplate='%{x} em %{y}<br>%{z:.2%}', zhoverformat='.1%', # textfont_size=8,\n",
    "    #                                                     colorscale=HEATMAP_PALETTE, hoverinfo='x+y+z', zmin=0, zmax=1,colorbar_tickformat='.0%'), row=2, col=col + 1)\n",
    "\n",
    "\n",
    "# Tirando título para ficar mais clean no HTML. Caso seja necessário add o título de novo: 'Proporção e quantidade de conceitos quadrimestre a quadrimestre na graduação'\n",
    "fig_ufabc_grades_prop_cum_quad.update_layout({'yaxis_title': 'Quadrimestre', 'height': 600, 'margin_t': 70})\n",
    "fig_ufabc_grades_prop_cum_quad.write_html('../assets/graphs/ufabc_grades_prop_cum_quad.html')\n",
    "fig_ufabc_grades_prop_cum_quad.show()"
   ]
  },
  {
   "cell_type": "markdown",
   "metadata": {},
   "source": [
    "#### Análise comparativa da evolução temporal do CR"
   ]
  },
  {
   "cell_type": "markdown",
   "metadata": {},
   "source": [
    "Feito isso, agora podemos traçar a evolução temporal do CR (Coeficiente de Rendimento) ao longo dos quadrimestres. Este valor é calculado como uma média ponderada da equivalência numérica da nota pela quantidade de créditos:\n",
    "\n",
    "$$\n",
    "CR = \\frac{\\sum_i \\text{nota}_i \\cdot \\text{créditos}_i}{\\sum_i \\text{créditos}_i}\n",
    "$$"
   ]
  },
  {
   "cell_type": "code",
   "execution_count": 528,
   "metadata": {},
   "outputs": [
    {
     "data": {
      "text/html": [
       "<div>\n",
       "<style scoped>\n",
       "    .dataframe tbody tr th:only-of-type {\n",
       "        vertical-align: middle;\n",
       "    }\n",
       "\n",
       "    .dataframe tbody tr th {\n",
       "        vertical-align: top;\n",
       "    }\n",
       "\n",
       "    .dataframe thead th {\n",
       "        text-align: right;\n",
       "    }\n",
       "</style>\n",
       "<table border=\"1\" class=\"dataframe\">\n",
       "  <thead>\n",
       "    <tr style=\"text-align: right;\">\n",
       "      <th></th>\n",
       "      <th>Quadrimestre</th>\n",
       "      <th>CR</th>\n",
       "    </tr>\n",
       "  </thead>\n",
       "  <tbody>\n",
       "    <tr>\n",
       "      <th>0</th>\n",
       "      <td>2017-05-01</td>\n",
       "      <td>3.176471</td>\n",
       "    </tr>\n",
       "    <tr>\n",
       "      <th>1</th>\n",
       "      <td>2017-09-01</td>\n",
       "      <td>3.562500</td>\n",
       "    </tr>\n",
       "    <tr>\n",
       "      <th>2</th>\n",
       "      <td>2018-01-01</td>\n",
       "      <td>3.540000</td>\n",
       "    </tr>\n",
       "    <tr>\n",
       "      <th>3</th>\n",
       "      <td>2018-05-01</td>\n",
       "      <td>3.553846</td>\n",
       "    </tr>\n",
       "    <tr>\n",
       "      <th>4</th>\n",
       "      <td>2018-09-01</td>\n",
       "      <td>3.602410</td>\n",
       "    </tr>\n",
       "    <tr>\n",
       "      <th>5</th>\n",
       "      <td>2019-01-01</td>\n",
       "      <td>3.565657</td>\n",
       "    </tr>\n",
       "    <tr>\n",
       "      <th>6</th>\n",
       "      <td>2019-05-01</td>\n",
       "      <td>3.551724</td>\n",
       "    </tr>\n",
       "    <tr>\n",
       "      <th>7</th>\n",
       "      <td>2019-09-01</td>\n",
       "      <td>3.496241</td>\n",
       "    </tr>\n",
       "    <tr>\n",
       "      <th>8</th>\n",
       "      <td>2020-09-01</td>\n",
       "      <td>3.503497</td>\n",
       "    </tr>\n",
       "    <tr>\n",
       "      <th>9</th>\n",
       "      <td>2021-01-01</td>\n",
       "      <td>3.531250</td>\n",
       "    </tr>\n",
       "    <tr>\n",
       "      <th>10</th>\n",
       "      <td>2021-05-01</td>\n",
       "      <td>3.548023</td>\n",
       "    </tr>\n",
       "    <tr>\n",
       "      <th>11</th>\n",
       "      <td>2021-09-01</td>\n",
       "      <td>3.562500</td>\n",
       "    </tr>\n",
       "    <tr>\n",
       "      <th>12</th>\n",
       "      <td>2022-01-01</td>\n",
       "      <td>3.598086</td>\n",
       "    </tr>\n",
       "    <tr>\n",
       "      <th>13</th>\n",
       "      <td>2022-05-01</td>\n",
       "      <td>3.652893</td>\n",
       "    </tr>\n",
       "    <tr>\n",
       "      <th>14</th>\n",
       "      <td>2022-09-01</td>\n",
       "      <td>3.657588</td>\n",
       "    </tr>\n",
       "    <tr>\n",
       "      <th>15</th>\n",
       "      <td>2023-01-01</td>\n",
       "      <td>3.675277</td>\n",
       "    </tr>\n",
       "    <tr>\n",
       "      <th>16</th>\n",
       "      <td>2023-05-01</td>\n",
       "      <td>3.674912</td>\n",
       "    </tr>\n",
       "    <tr>\n",
       "      <th>17</th>\n",
       "      <td>2023-09-01</td>\n",
       "      <td>3.687075</td>\n",
       "    </tr>\n",
       "  </tbody>\n",
       "</table>\n",
       "</div>"
      ],
      "text/plain": [
       "   Quadrimestre        CR\n",
       "0    2017-05-01  3.176471\n",
       "1    2017-09-01  3.562500\n",
       "2    2018-01-01  3.540000\n",
       "3    2018-05-01  3.553846\n",
       "4    2018-09-01  3.602410\n",
       "5    2019-01-01  3.565657\n",
       "6    2019-05-01  3.551724\n",
       "7    2019-09-01  3.496241\n",
       "8    2020-09-01  3.503497\n",
       "9    2021-01-01  3.531250\n",
       "10   2021-05-01  3.548023\n",
       "11   2021-09-01  3.562500\n",
       "12   2022-01-01  3.598086\n",
       "13   2022-05-01  3.652893\n",
       "14   2022-09-01  3.657588\n",
       "15   2023-01-01  3.675277\n",
       "16   2023-05-01  3.674912\n",
       "17   2023-09-01  3.687075"
      ]
     },
     "execution_count": 528,
     "metadata": {},
     "output_type": "execute_result"
    }
   ],
   "source": [
    "grades_map = {  # Mapeamento numérico da nota para número\n",
    "    'A': 4,\n",
    "    'B': 3,\n",
    "    'C': 2,\n",
    "    'D': 1,\n",
    "    'F': 0\n",
    "}\n",
    "\n",
    "quad_map = {\n",
    "    '1': 1,  # Q1 -> 01 -> 04 (Janeiro até Abril)\n",
    "    '2': 5,  # Q2 -> 05 -> 08 (Maio -> Agosto)\n",
    "    '3': 9   # Q3 -> 09 -> 12 (Setembro -> Dezembro)\n",
    "}\n",
    "\n",
    "cr_series = df_ufabc.copy().dropna()\n",
    "cr_series['Nota ponderada'] = cr_series.apply(lambda s: s['Créditos'] * grades_map[s['Resultado']], axis=1)\n",
    "cr_series = cr_series.groupby('Ano', as_index=False)[['Créditos', 'Nota ponderada']].sum()\n",
    "cr_series[['Créditos acum', 'Nota ponderada acum']] = cr_series[['Créditos', 'Nota ponderada']].cumsum()\n",
    "cr_series['CR'] = cr_series.apply(lambda s: s['Nota ponderada acum']/s['Créditos acum'], axis=1)\n",
    "cr_series['Quadrimestre'] = cr_series['Ano'].apply(lambda s: pd.to_datetime(f'{quad_map[s.split('.')[1]]}/{s.split('.')[0]}')) \n",
    "cr_series = cr_series[['Quadrimestre', 'CR']]\n",
    "cr_series"
   ]
  },
  {
   "cell_type": "code",
   "execution_count": 529,
   "metadata": {},
   "outputs": [
    {
     "data": {
      "text/html": [
       "<div>\n",
       "<style scoped>\n",
       "    .dataframe tbody tr th:only-of-type {\n",
       "        vertical-align: middle;\n",
       "    }\n",
       "\n",
       "    .dataframe tbody tr th {\n",
       "        vertical-align: top;\n",
       "    }\n",
       "\n",
       "    .dataframe thead th {\n",
       "        text-align: right;\n",
       "    }\n",
       "</style>\n",
       "<table border=\"1\" class=\"dataframe\">\n",
       "  <thead>\n",
       "    <tr style=\"text-align: right;\">\n",
       "      <th></th>\n",
       "      <th>Quadrimestre</th>\n",
       "      <th>CR</th>\n",
       "    </tr>\n",
       "  </thead>\n",
       "  <tbody>\n",
       "    <tr>\n",
       "      <th>0</th>\n",
       "      <td>2017-05-01</td>\n",
       "      <td>2.529412</td>\n",
       "    </tr>\n",
       "    <tr>\n",
       "      <th>1</th>\n",
       "      <td>2017-09-01</td>\n",
       "      <td>2.218750</td>\n",
       "    </tr>\n",
       "    <tr>\n",
       "      <th>2</th>\n",
       "      <td>2018-01-01</td>\n",
       "      <td>2.160000</td>\n",
       "    </tr>\n",
       "    <tr>\n",
       "      <th>3</th>\n",
       "      <td>2018-05-01</td>\n",
       "      <td>2.092308</td>\n",
       "    </tr>\n",
       "    <tr>\n",
       "      <th>4</th>\n",
       "      <td>2018-09-01</td>\n",
       "      <td>2.096386</td>\n",
       "    </tr>\n",
       "    <tr>\n",
       "      <th>5</th>\n",
       "      <td>2019-01-01</td>\n",
       "      <td>2.101010</td>\n",
       "    </tr>\n",
       "    <tr>\n",
       "      <th>6</th>\n",
       "      <td>2019-05-01</td>\n",
       "      <td>2.215517</td>\n",
       "    </tr>\n",
       "    <tr>\n",
       "      <th>7</th>\n",
       "      <td>2019-09-01</td>\n",
       "      <td>2.270677</td>\n",
       "    </tr>\n",
       "    <tr>\n",
       "      <th>8</th>\n",
       "      <td>2020-09-01</td>\n",
       "      <td>2.251748</td>\n",
       "    </tr>\n",
       "    <tr>\n",
       "      <th>9</th>\n",
       "      <td>2021-01-01</td>\n",
       "      <td>2.362500</td>\n",
       "    </tr>\n",
       "    <tr>\n",
       "      <th>10</th>\n",
       "      <td>2021-05-01</td>\n",
       "      <td>2.401130</td>\n",
       "    </tr>\n",
       "    <tr>\n",
       "      <th>11</th>\n",
       "      <td>2021-09-01</td>\n",
       "      <td>2.432292</td>\n",
       "    </tr>\n",
       "    <tr>\n",
       "      <th>12</th>\n",
       "      <td>2022-01-01</td>\n",
       "      <td>2.435407</td>\n",
       "    </tr>\n",
       "    <tr>\n",
       "      <th>13</th>\n",
       "      <td>2022-05-01</td>\n",
       "      <td>2.541322</td>\n",
       "    </tr>\n",
       "    <tr>\n",
       "      <th>14</th>\n",
       "      <td>2022-09-01</td>\n",
       "      <td>2.509728</td>\n",
       "    </tr>\n",
       "    <tr>\n",
       "      <th>15</th>\n",
       "      <td>2023-01-01</td>\n",
       "      <td>2.549815</td>\n",
       "    </tr>\n",
       "    <tr>\n",
       "      <th>16</th>\n",
       "      <td>2023-05-01</td>\n",
       "      <td>2.561837</td>\n",
       "    </tr>\n",
       "    <tr>\n",
       "      <th>17</th>\n",
       "      <td>2023-09-01</td>\n",
       "      <td>2.568027</td>\n",
       "    </tr>\n",
       "  </tbody>\n",
       "</table>\n",
       "</div>"
      ],
      "text/plain": [
       "   Quadrimestre        CR\n",
       "0    2017-05-01  2.529412\n",
       "1    2017-09-01  2.218750\n",
       "2    2018-01-01  2.160000\n",
       "3    2018-05-01  2.092308\n",
       "4    2018-09-01  2.096386\n",
       "5    2019-01-01  2.101010\n",
       "6    2019-05-01  2.215517\n",
       "7    2019-09-01  2.270677\n",
       "8    2020-09-01  2.251748\n",
       "9    2021-01-01  2.362500\n",
       "10   2021-05-01  2.401130\n",
       "11   2021-09-01  2.432292\n",
       "12   2022-01-01  2.435407\n",
       "13   2022-05-01  2.541322\n",
       "14   2022-09-01  2.509728\n",
       "15   2023-01-01  2.549815\n",
       "16   2023-05-01  2.561837\n",
       "17   2023-09-01  2.568027"
      ]
     },
     "execution_count": 529,
     "metadata": {},
     "output_type": "execute_result"
    }
   ],
   "source": [
    "cr_prob_series = df_next.copy().dropna()\n",
    "cr_prob_series['Nota ponderada'] = cr_prob_series.apply(lambda s: s['Créditos'] * grades_map[s['Conceito provável']], axis=1)\n",
    "cr_prob_series = cr_prob_series.groupby('Ano', as_index=False)[['Créditos', 'Nota ponderada']].sum()\n",
    "cr_prob_series[['Créditos acum', 'Nota ponderada acum']] = cr_prob_series[['Créditos', 'Nota ponderada']].cumsum()\n",
    "cr_prob_series['CR'] = cr_prob_series.apply(lambda s: s['Nota ponderada acum']/s['Créditos acum'], axis=1)\n",
    "cr_prob_series['Quadrimestre'] = cr_prob_series['Ano'].apply(lambda s: pd.to_datetime(f'{quad_map[s.split('.')[1]]}/{s.split('.')[0]}')) \n",
    "cr_prob_series = cr_prob_series[['Quadrimestre', 'CR']]\n",
    "cr_prob_series"
   ]
  },
  {
   "cell_type": "code",
   "execution_count": 530,
   "metadata": {},
   "outputs": [
    {
     "data": {
      "text/html": [
       "<div>\n",
       "<style scoped>\n",
       "    .dataframe tbody tr th:only-of-type {\n",
       "        vertical-align: middle;\n",
       "    }\n",
       "\n",
       "    .dataframe tbody tr th {\n",
       "        vertical-align: top;\n",
       "    }\n",
       "\n",
       "    .dataframe thead th {\n",
       "        text-align: right;\n",
       "    }\n",
       "</style>\n",
       "<table border=\"1\" class=\"dataframe\">\n",
       "  <thead>\n",
       "    <tr style=\"text-align: right;\">\n",
       "      <th></th>\n",
       "      <th>Quadrimestre</th>\n",
       "      <th>CR</th>\n",
       "    </tr>\n",
       "  </thead>\n",
       "  <tbody>\n",
       "    <tr>\n",
       "      <th>0</th>\n",
       "      <td>2017-05-01</td>\n",
       "      <td>2.411765</td>\n",
       "    </tr>\n",
       "    <tr>\n",
       "      <th>1</th>\n",
       "      <td>2017-09-01</td>\n",
       "      <td>1.656250</td>\n",
       "    </tr>\n",
       "    <tr>\n",
       "      <th>2</th>\n",
       "      <td>2018-01-01</td>\n",
       "      <td>1.820000</td>\n",
       "    </tr>\n",
       "    <tr>\n",
       "      <th>3</th>\n",
       "      <td>2018-05-01</td>\n",
       "      <td>1.815385</td>\n",
       "    </tr>\n",
       "    <tr>\n",
       "      <th>4</th>\n",
       "      <td>2018-09-01</td>\n",
       "      <td>1.771084</td>\n",
       "    </tr>\n",
       "    <tr>\n",
       "      <th>5</th>\n",
       "      <td>2019-01-01</td>\n",
       "      <td>1.898990</td>\n",
       "    </tr>\n",
       "    <tr>\n",
       "      <th>6</th>\n",
       "      <td>2019-05-01</td>\n",
       "      <td>2.129310</td>\n",
       "    </tr>\n",
       "    <tr>\n",
       "      <th>7</th>\n",
       "      <td>2019-09-01</td>\n",
       "      <td>2.172932</td>\n",
       "    </tr>\n",
       "    <tr>\n",
       "      <th>8</th>\n",
       "      <td>2020-09-01</td>\n",
       "      <td>2.104895</td>\n",
       "    </tr>\n",
       "    <tr>\n",
       "      <th>9</th>\n",
       "      <td>2021-01-01</td>\n",
       "      <td>2.206250</td>\n",
       "    </tr>\n",
       "    <tr>\n",
       "      <th>10</th>\n",
       "      <td>2021-05-01</td>\n",
       "      <td>2.322034</td>\n",
       "    </tr>\n",
       "    <tr>\n",
       "      <th>11</th>\n",
       "      <td>2021-09-01</td>\n",
       "      <td>2.359375</td>\n",
       "    </tr>\n",
       "    <tr>\n",
       "      <th>12</th>\n",
       "      <td>2022-01-01</td>\n",
       "      <td>2.387560</td>\n",
       "    </tr>\n",
       "    <tr>\n",
       "      <th>13</th>\n",
       "      <td>2022-05-01</td>\n",
       "      <td>2.541322</td>\n",
       "    </tr>\n",
       "    <tr>\n",
       "      <th>14</th>\n",
       "      <td>2022-09-01</td>\n",
       "      <td>2.486381</td>\n",
       "    </tr>\n",
       "    <tr>\n",
       "      <th>15</th>\n",
       "      <td>2023-01-01</td>\n",
       "      <td>2.553506</td>\n",
       "    </tr>\n",
       "    <tr>\n",
       "      <th>16</th>\n",
       "      <td>2023-05-01</td>\n",
       "      <td>2.586572</td>\n",
       "    </tr>\n",
       "    <tr>\n",
       "      <th>17</th>\n",
       "      <td>2023-09-01</td>\n",
       "      <td>2.591837</td>\n",
       "    </tr>\n",
       "  </tbody>\n",
       "</table>\n",
       "</div>"
      ],
      "text/plain": [
       "   Quadrimestre        CR\n",
       "0    2017-05-01  2.411765\n",
       "1    2017-09-01  1.656250\n",
       "2    2018-01-01  1.820000\n",
       "3    2018-05-01  1.815385\n",
       "4    2018-09-01  1.771084\n",
       "5    2019-01-01  1.898990\n",
       "6    2019-05-01  2.129310\n",
       "7    2019-09-01  2.172932\n",
       "8    2020-09-01  2.104895\n",
       "9    2021-01-01  2.206250\n",
       "10   2021-05-01  2.322034\n",
       "11   2021-09-01  2.359375\n",
       "12   2022-01-01  2.387560\n",
       "13   2022-05-01  2.541322\n",
       "14   2022-09-01  2.486381\n",
       "15   2023-01-01  2.553506\n",
       "16   2023-05-01  2.586572\n",
       "17   2023-09-01  2.591837"
      ]
     },
     "execution_count": 530,
     "metadata": {},
     "output_type": "execute_result"
    }
   ],
   "source": [
    "cr_mode_series = df_next.copy().dropna()\n",
    "cr_mode_series['Nota ponderada'] = cr_mode_series.apply(lambda s: s['Créditos'] * grades_map[s['Conceito moda']], axis=1)\n",
    "cr_mode_series = cr_mode_series.groupby('Ano', as_index=False)[['Créditos', 'Nota ponderada']].sum()\n",
    "cr_mode_series[['Créditos acum', 'Nota ponderada acum']] = cr_mode_series[['Créditos', 'Nota ponderada']].cumsum()\n",
    "cr_mode_series['CR'] = cr_mode_series.apply(lambda s: s['Nota ponderada acum']/s['Créditos acum'], axis=1)\n",
    "cr_mode_series['Quadrimestre'] = cr_mode_series['Ano'].apply(lambda s: pd.to_datetime(f'{quad_map[s.split('.')[1]]}/{s.split('.')[0]}')) \n",
    "cr_mode_series = cr_mode_series[['Quadrimestre', 'CR']]\n",
    "cr_mode_series"
   ]
  },
  {
   "cell_type": "markdown",
   "metadata": {},
   "source": [
    "Plotando as curvas sobrepostas, podemos fazer uma comparação da evolução temporal do meu CR com relação as situações de conceitos mais prováveis e conceitos moda:"
   ]
  },
  {
   "cell_type": "code",
   "execution_count": 561,
   "metadata": {},
   "outputs": [
    {
     "data": {
      "application/vnd.plotly.v1+json": {
       "config": {
        "plotlyServerURL": "https://plot.ly"
       },
       "data": [
        {
         "legendgroup": "0",
         "line": {
          "shape": "spline"
         },
         "marker": {
          "color": "#73A1B2"
         },
         "name": "Meus conceitos",
         "type": "scatter",
         "x": [
          "2017-05-01T00:00:00",
          "2017-09-01T00:00:00",
          "2018-01-01T00:00:00",
          "2018-05-01T00:00:00",
          "2018-09-01T00:00:00",
          "2019-01-01T00:00:00",
          "2019-05-01T00:00:00",
          "2019-09-01T00:00:00",
          "2020-09-01T00:00:00",
          "2021-01-01T00:00:00",
          "2021-05-01T00:00:00",
          "2021-09-01T00:00:00",
          "2022-01-01T00:00:00",
          "2022-05-01T00:00:00",
          "2022-09-01T00:00:00",
          "2023-01-01T00:00:00",
          "2023-05-01T00:00:00",
          "2023-09-01T00:00:00"
         ],
         "y": [
          3.176470588235294,
          3.5625,
          3.54,
          3.5538461538461537,
          3.602409638554217,
          3.5656565656565657,
          3.5517241379310347,
          3.4962406015037595,
          3.5034965034965033,
          3.53125,
          3.5480225988700567,
          3.5625,
          3.598086124401914,
          3.652892561983471,
          3.657587548638132,
          3.6752767527675276,
          3.674911660777385,
          3.687074829931973
         ]
        },
        {
         "legendgroup": "1",
         "line": {
          "shape": "spline"
         },
         "marker": {
          "color": "#6E8658"
         },
         "name": "Projeção estimada<br>pela média",
         "type": "scatter",
         "x": [
          "2017-05-01T00:00:00",
          "2017-09-01T00:00:00",
          "2018-01-01T00:00:00",
          "2018-05-01T00:00:00",
          "2018-09-01T00:00:00",
          "2019-01-01T00:00:00",
          "2019-05-01T00:00:00",
          "2019-09-01T00:00:00",
          "2020-09-01T00:00:00",
          "2021-01-01T00:00:00",
          "2021-05-01T00:00:00",
          "2021-09-01T00:00:00",
          "2022-01-01T00:00:00",
          "2022-05-01T00:00:00",
          "2022-09-01T00:00:00",
          "2023-01-01T00:00:00",
          "2023-05-01T00:00:00",
          "2023-09-01T00:00:00"
         ],
         "y": [
          2.5294117647058822,
          2.21875,
          2.16,
          2.0923076923076924,
          2.0963855421686746,
          2.101010101010101,
          2.2155172413793105,
          2.2706766917293235,
          2.2517482517482517,
          2.3625,
          2.401129943502825,
          2.4322916666666665,
          2.4354066985645932,
          2.541322314049587,
          2.509727626459144,
          2.5498154981549814,
          2.5618374558303887,
          2.568027210884354
         ]
        },
        {
         "legendgroup": "2",
         "line": {
          "shape": "spline"
         },
         "marker": {
          "color": "#57473A"
         },
         "name": "Projeção estimada<br>pela moda",
         "type": "scatter",
         "x": [
          "2017-05-01T00:00:00",
          "2017-09-01T00:00:00",
          "2018-01-01T00:00:00",
          "2018-05-01T00:00:00",
          "2018-09-01T00:00:00",
          "2019-01-01T00:00:00",
          "2019-05-01T00:00:00",
          "2019-09-01T00:00:00",
          "2020-09-01T00:00:00",
          "2021-01-01T00:00:00",
          "2021-05-01T00:00:00",
          "2021-09-01T00:00:00",
          "2022-01-01T00:00:00",
          "2022-05-01T00:00:00",
          "2022-09-01T00:00:00",
          "2023-01-01T00:00:00",
          "2023-05-01T00:00:00",
          "2023-09-01T00:00:00"
         ],
         "y": [
          2.411764705882353,
          1.65625,
          1.82,
          1.8153846153846154,
          1.7710843373493976,
          1.898989898989899,
          2.1293103448275863,
          2.172932330827068,
          2.104895104895105,
          2.20625,
          2.3220338983050848,
          2.359375,
          2.38755980861244,
          2.541322314049587,
          2.4863813229571985,
          2.5535055350553506,
          2.5865724381625443,
          2.5918367346938775
         ]
        }
       ],
       "layout": {
        "annotations": [
         {
          "showarrow": false,
          "text": "Valor máximo",
          "x": 1,
          "xanchor": "right",
          "xref": "x domain",
          "y": 4,
          "yanchor": "bottom",
          "yref": "y"
         },
         {
          "showarrow": false,
          "text": "Valor mínimo",
          "x": 1,
          "xanchor": "right",
          "xref": "x domain",
          "y": 0,
          "yanchor": "bottom",
          "yref": "y"
         }
        ],
        "height": 500,
        "hovermode": "x unified",
        "legend": {
         "orientation": "v",
         "tracegroupgap": 10
        },
        "margin": {
         "b": 50,
         "t": 30
        },
        "shapes": [
         {
          "line": {
           "color": "green",
           "dash": "dash"
          },
          "type": "line",
          "x0": 0,
          "x1": 1,
          "xref": "x domain",
          "y0": 4,
          "y1": 4,
          "yref": "y"
         },
         {
          "line": {
           "color": "red",
           "dash": "dash"
          },
          "type": "line",
          "x0": 0,
          "x1": 1,
          "xref": "x domain",
          "y0": 0,
          "y1": 0,
          "yref": "y"
         }
        ],
        "template": {
         "data": {
          "bar": [
           {
            "error_x": {
             "color": "#2a3f5f"
            },
            "error_y": {
             "color": "#2a3f5f"
            },
            "marker": {
             "line": {
              "color": "white",
              "width": 0.5
             },
             "pattern": {
              "fillmode": "overlay",
              "size": 10,
              "solidity": 0.2
             }
            },
            "type": "bar"
           }
          ],
          "barpolar": [
           {
            "marker": {
             "line": {
              "color": "white",
              "width": 0.5
             },
             "pattern": {
              "fillmode": "overlay",
              "size": 10,
              "solidity": 0.2
             }
            },
            "type": "barpolar"
           }
          ],
          "carpet": [
           {
            "aaxis": {
             "endlinecolor": "#2a3f5f",
             "gridcolor": "#C8D4E3",
             "linecolor": "#C8D4E3",
             "minorgridcolor": "#C8D4E3",
             "startlinecolor": "#2a3f5f"
            },
            "baxis": {
             "endlinecolor": "#2a3f5f",
             "gridcolor": "#C8D4E3",
             "linecolor": "#C8D4E3",
             "minorgridcolor": "#C8D4E3",
             "startlinecolor": "#2a3f5f"
            },
            "type": "carpet"
           }
          ],
          "choropleth": [
           {
            "colorbar": {
             "outlinewidth": 0,
             "ticks": ""
            },
            "type": "choropleth"
           }
          ],
          "contour": [
           {
            "colorbar": {
             "outlinewidth": 0,
             "ticks": ""
            },
            "colorscale": [
             [
              0,
              "#0d0887"
             ],
             [
              0.1111111111111111,
              "#46039f"
             ],
             [
              0.2222222222222222,
              "#7201a8"
             ],
             [
              0.3333333333333333,
              "#9c179e"
             ],
             [
              0.4444444444444444,
              "#bd3786"
             ],
             [
              0.5555555555555556,
              "#d8576b"
             ],
             [
              0.6666666666666666,
              "#ed7953"
             ],
             [
              0.7777777777777778,
              "#fb9f3a"
             ],
             [
              0.8888888888888888,
              "#fdca26"
             ],
             [
              1,
              "#f0f921"
             ]
            ],
            "type": "contour"
           }
          ],
          "contourcarpet": [
           {
            "colorbar": {
             "outlinewidth": 0,
             "ticks": ""
            },
            "type": "contourcarpet"
           }
          ],
          "heatmap": [
           {
            "colorbar": {
             "outlinewidth": 0,
             "ticks": ""
            },
            "colorscale": [
             [
              0,
              "#0d0887"
             ],
             [
              0.1111111111111111,
              "#46039f"
             ],
             [
              0.2222222222222222,
              "#7201a8"
             ],
             [
              0.3333333333333333,
              "#9c179e"
             ],
             [
              0.4444444444444444,
              "#bd3786"
             ],
             [
              0.5555555555555556,
              "#d8576b"
             ],
             [
              0.6666666666666666,
              "#ed7953"
             ],
             [
              0.7777777777777778,
              "#fb9f3a"
             ],
             [
              0.8888888888888888,
              "#fdca26"
             ],
             [
              1,
              "#f0f921"
             ]
            ],
            "type": "heatmap"
           }
          ],
          "heatmapgl": [
           {
            "colorbar": {
             "outlinewidth": 0,
             "ticks": ""
            },
            "colorscale": [
             [
              0,
              "#0d0887"
             ],
             [
              0.1111111111111111,
              "#46039f"
             ],
             [
              0.2222222222222222,
              "#7201a8"
             ],
             [
              0.3333333333333333,
              "#9c179e"
             ],
             [
              0.4444444444444444,
              "#bd3786"
             ],
             [
              0.5555555555555556,
              "#d8576b"
             ],
             [
              0.6666666666666666,
              "#ed7953"
             ],
             [
              0.7777777777777778,
              "#fb9f3a"
             ],
             [
              0.8888888888888888,
              "#fdca26"
             ],
             [
              1,
              "#f0f921"
             ]
            ],
            "type": "heatmapgl"
           }
          ],
          "histogram": [
           {
            "marker": {
             "pattern": {
              "fillmode": "overlay",
              "size": 10,
              "solidity": 0.2
             }
            },
            "type": "histogram"
           }
          ],
          "histogram2d": [
           {
            "colorbar": {
             "outlinewidth": 0,
             "ticks": ""
            },
            "colorscale": [
             [
              0,
              "#0d0887"
             ],
             [
              0.1111111111111111,
              "#46039f"
             ],
             [
              0.2222222222222222,
              "#7201a8"
             ],
             [
              0.3333333333333333,
              "#9c179e"
             ],
             [
              0.4444444444444444,
              "#bd3786"
             ],
             [
              0.5555555555555556,
              "#d8576b"
             ],
             [
              0.6666666666666666,
              "#ed7953"
             ],
             [
              0.7777777777777778,
              "#fb9f3a"
             ],
             [
              0.8888888888888888,
              "#fdca26"
             ],
             [
              1,
              "#f0f921"
             ]
            ],
            "type": "histogram2d"
           }
          ],
          "histogram2dcontour": [
           {
            "colorbar": {
             "outlinewidth": 0,
             "ticks": ""
            },
            "colorscale": [
             [
              0,
              "#0d0887"
             ],
             [
              0.1111111111111111,
              "#46039f"
             ],
             [
              0.2222222222222222,
              "#7201a8"
             ],
             [
              0.3333333333333333,
              "#9c179e"
             ],
             [
              0.4444444444444444,
              "#bd3786"
             ],
             [
              0.5555555555555556,
              "#d8576b"
             ],
             [
              0.6666666666666666,
              "#ed7953"
             ],
             [
              0.7777777777777778,
              "#fb9f3a"
             ],
             [
              0.8888888888888888,
              "#fdca26"
             ],
             [
              1,
              "#f0f921"
             ]
            ],
            "type": "histogram2dcontour"
           }
          ],
          "mesh3d": [
           {
            "colorbar": {
             "outlinewidth": 0,
             "ticks": ""
            },
            "type": "mesh3d"
           }
          ],
          "parcoords": [
           {
            "line": {
             "colorbar": {
              "outlinewidth": 0,
              "ticks": ""
             }
            },
            "type": "parcoords"
           }
          ],
          "pie": [
           {
            "automargin": true,
            "type": "pie"
           }
          ],
          "scatter": [
           {
            "fillpattern": {
             "fillmode": "overlay",
             "size": 10,
             "solidity": 0.2
            },
            "type": "scatter"
           }
          ],
          "scatter3d": [
           {
            "line": {
             "colorbar": {
              "outlinewidth": 0,
              "ticks": ""
             }
            },
            "marker": {
             "colorbar": {
              "outlinewidth": 0,
              "ticks": ""
             }
            },
            "type": "scatter3d"
           }
          ],
          "scattercarpet": [
           {
            "marker": {
             "colorbar": {
              "outlinewidth": 0,
              "ticks": ""
             }
            },
            "type": "scattercarpet"
           }
          ],
          "scattergeo": [
           {
            "marker": {
             "colorbar": {
              "outlinewidth": 0,
              "ticks": ""
             }
            },
            "type": "scattergeo"
           }
          ],
          "scattergl": [
           {
            "marker": {
             "colorbar": {
              "outlinewidth": 0,
              "ticks": ""
             }
            },
            "type": "scattergl"
           }
          ],
          "scattermapbox": [
           {
            "marker": {
             "colorbar": {
              "outlinewidth": 0,
              "ticks": ""
             }
            },
            "type": "scattermapbox"
           }
          ],
          "scatterpolar": [
           {
            "marker": {
             "colorbar": {
              "outlinewidth": 0,
              "ticks": ""
             }
            },
            "type": "scatterpolar"
           }
          ],
          "scatterpolargl": [
           {
            "marker": {
             "colorbar": {
              "outlinewidth": 0,
              "ticks": ""
             }
            },
            "type": "scatterpolargl"
           }
          ],
          "scatterternary": [
           {
            "marker": {
             "colorbar": {
              "outlinewidth": 0,
              "ticks": ""
             }
            },
            "type": "scatterternary"
           }
          ],
          "surface": [
           {
            "colorbar": {
             "outlinewidth": 0,
             "ticks": ""
            },
            "colorscale": [
             [
              0,
              "#0d0887"
             ],
             [
              0.1111111111111111,
              "#46039f"
             ],
             [
              0.2222222222222222,
              "#7201a8"
             ],
             [
              0.3333333333333333,
              "#9c179e"
             ],
             [
              0.4444444444444444,
              "#bd3786"
             ],
             [
              0.5555555555555556,
              "#d8576b"
             ],
             [
              0.6666666666666666,
              "#ed7953"
             ],
             [
              0.7777777777777778,
              "#fb9f3a"
             ],
             [
              0.8888888888888888,
              "#fdca26"
             ],
             [
              1,
              "#f0f921"
             ]
            ],
            "type": "surface"
           }
          ],
          "table": [
           {
            "cells": {
             "fill": {
              "color": "#EBF0F8"
             },
             "line": {
              "color": "white"
             }
            },
            "header": {
             "fill": {
              "color": "#C8D4E3"
             },
             "line": {
              "color": "white"
             }
            },
            "type": "table"
           }
          ]
         },
         "layout": {
          "annotationdefaults": {
           "arrowcolor": "#2a3f5f",
           "arrowhead": 0,
           "arrowwidth": 1
          },
          "autotypenumbers": "strict",
          "coloraxis": {
           "colorbar": {
            "outlinewidth": 0,
            "ticks": ""
           }
          },
          "colorscale": {
           "diverging": [
            [
             0,
             "#8e0152"
            ],
            [
             0.1,
             "#c51b7d"
            ],
            [
             0.2,
             "#de77ae"
            ],
            [
             0.3,
             "#f1b6da"
            ],
            [
             0.4,
             "#fde0ef"
            ],
            [
             0.5,
             "#f7f7f7"
            ],
            [
             0.6,
             "#e6f5d0"
            ],
            [
             0.7,
             "#b8e186"
            ],
            [
             0.8,
             "#7fbc41"
            ],
            [
             0.9,
             "#4d9221"
            ],
            [
             1,
             "#276419"
            ]
           ],
           "sequential": [
            [
             0,
             "#0d0887"
            ],
            [
             0.1111111111111111,
             "#46039f"
            ],
            [
             0.2222222222222222,
             "#7201a8"
            ],
            [
             0.3333333333333333,
             "#9c179e"
            ],
            [
             0.4444444444444444,
             "#bd3786"
            ],
            [
             0.5555555555555556,
             "#d8576b"
            ],
            [
             0.6666666666666666,
             "#ed7953"
            ],
            [
             0.7777777777777778,
             "#fb9f3a"
            ],
            [
             0.8888888888888888,
             "#fdca26"
            ],
            [
             1,
             "#f0f921"
            ]
           ],
           "sequentialminus": [
            [
             0,
             "#0d0887"
            ],
            [
             0.1111111111111111,
             "#46039f"
            ],
            [
             0.2222222222222222,
             "#7201a8"
            ],
            [
             0.3333333333333333,
             "#9c179e"
            ],
            [
             0.4444444444444444,
             "#bd3786"
            ],
            [
             0.5555555555555556,
             "#d8576b"
            ],
            [
             0.6666666666666666,
             "#ed7953"
            ],
            [
             0.7777777777777778,
             "#fb9f3a"
            ],
            [
             0.8888888888888888,
             "#fdca26"
            ],
            [
             1,
             "#f0f921"
            ]
           ]
          },
          "colorway": [
           "#636efa",
           "#EF553B",
           "#00cc96",
           "#ab63fa",
           "#FFA15A",
           "#19d3f3",
           "#FF6692",
           "#B6E880",
           "#FF97FF",
           "#FECB52"
          ],
          "font": {
           "color": "rgb(99, 99, 99)",
           "family": "Helvetica, sans-serif"
          },
          "geo": {
           "bgcolor": "white",
           "lakecolor": "white",
           "landcolor": "white",
           "showlakes": true,
           "showland": true,
           "subunitcolor": "#C8D4E3"
          },
          "hoverlabel": {
           "align": "left"
          },
          "hovermode": "closest",
          "mapbox": {
           "style": "light"
          },
          "paper_bgcolor": "white",
          "plot_bgcolor": "white",
          "polar": {
           "angularaxis": {
            "gridcolor": "#EBF0F8",
            "linecolor": "#EBF0F8",
            "ticks": ""
           },
           "bgcolor": "white",
           "radialaxis": {
            "gridcolor": "#EBF0F8",
            "linecolor": "#EBF0F8",
            "ticks": ""
           }
          },
          "scene": {
           "xaxis": {
            "backgroundcolor": "white",
            "gridcolor": "#DFE8F3",
            "gridwidth": 2,
            "linecolor": "#EBF0F8",
            "showbackground": true,
            "ticks": "",
            "zerolinecolor": "#EBF0F8"
           },
           "yaxis": {
            "backgroundcolor": "white",
            "gridcolor": "#DFE8F3",
            "gridwidth": 2,
            "linecolor": "#EBF0F8",
            "showbackground": true,
            "ticks": "",
            "zerolinecolor": "#EBF0F8"
           },
           "zaxis": {
            "backgroundcolor": "white",
            "gridcolor": "#DFE8F3",
            "gridwidth": 2,
            "linecolor": "#EBF0F8",
            "showbackground": true,
            "ticks": "",
            "zerolinecolor": "#EBF0F8"
           }
          },
          "shapedefaults": {
           "line": {
            "color": "#2a3f5f"
           }
          },
          "ternary": {
           "aaxis": {
            "gridcolor": "#DFE8F3",
            "linecolor": "#A2B1C6",
            "ticks": ""
           },
           "baxis": {
            "gridcolor": "#DFE8F3",
            "linecolor": "#A2B1C6",
            "ticks": ""
           },
           "bgcolor": "white",
           "caxis": {
            "gridcolor": "#DFE8F3",
            "linecolor": "#A2B1C6",
            "ticks": ""
           }
          },
          "title": {
           "x": 0.05
          },
          "xaxis": {
           "automargin": true,
           "gridcolor": "#EBF0F8",
           "linecolor": "#EBF0F8",
           "ticks": "",
           "title": {
            "standoff": 15
           },
           "zerolinecolor": "#EBF0F8",
           "zerolinewidth": 2
          },
          "yaxis": {
           "automargin": true,
           "gridcolor": "#EBF0F8",
           "linecolor": "#EBF0F8",
           "ticks": "",
           "title": {
            "standoff": 15
           },
           "zerolinecolor": "#EBF0F8",
           "zerolinewidth": 2
          }
         }
        },
        "xaxis": {
         "range": [
          "2017-04-01",
          "2024-01-01"
         ],
         "title": {
          "text": "Data"
         }
        },
        "yaxis": {
         "range": [
          -0.25,
          4.25
         ],
         "title": {
          "text": "CR"
         }
        }
       }
      }
     },
     "metadata": {},
     "output_type": "display_data"
    }
   ],
   "source": [
    "fig_ufabc_cr_comp_series = go.Figure()\n",
    "\n",
    "fig_ufabc_cr_comp_series.add_trace(go.Scatter(x=cr_series['Quadrimestre'], y=cr_series['CR'], name=SUBPLOT_TITLES[0].replace('<br>&nbsp;', ''), \n",
    "                                        line_shape='spline', marker_color=BLUE, legendgroup=0))\n",
    "fig_ufabc_cr_comp_series.add_trace(go.Scatter(x=cr_prob_series['Quadrimestre'], y=cr_prob_series['CR'], name=SUBPLOT_TITLES[1], \n",
    "                                        line_shape='spline', marker_color=GREEN, legendgroup=1))\n",
    "fig_ufabc_cr_comp_series.add_trace(go.Scatter(x=cr_mode_series['Quadrimestre'], y=cr_mode_series['CR'], name=SUBPLOT_TITLES[2], \n",
    "                                        line_shape='spline', marker_color=BROWN, legendgroup=2))\n",
    "fig_ufabc_cr_comp_series.add_hline(y=4, line_color='green', line_dash='dash', annotation_text='Valor máximo')\n",
    "fig_ufabc_cr_comp_series.add_hline(y=0, line_color='red', line_dash='dash', annotation_text='Valor mínimo')\n",
    "\n",
    "# Tirando título para ficar mais clean no HTML. Caso seja necessário add o título de novo: 'Evolução temporal do CR'\n",
    "fig_ufabc_cr_comp_series.update_layout({'yaxis_title': 'CR', 'xaxis_title': 'Data', 'yaxis_range': [-0.25, 4.25], 'xaxis_range': ['2017-04-01', '2024-01-01'],\n",
    "                                        'hovermode': 'x unified',  'height': 500, 'legend_tracegroupgap': 10, 'legend_orientation': 'v', # 'legend_title': 'Curvas',\n",
    "                                        'margin_t': 30, 'margin_b': 50})\n",
    "fig_ufabc_cr_comp_series.write_html('../assets/graphs/ufabc_cr_comp_series.html')\n",
    "fig_ufabc_cr_comp_series.show()"
   ]
  },
  {
   "cell_type": "markdown",
   "metadata": {},
   "source": [
    "### Análise dos dados do CIn-UFPE"
   ]
  },
  {
   "cell_type": "markdown",
   "metadata": {},
   "source": [
    "#### Leitura dos dados"
   ]
  },
  {
   "cell_type": "markdown",
   "metadata": {},
   "source": [
    "Analogamente ao que fizemos antes, como primeiro passo vamos ler os dados das notas do CIn-UFPE."
   ]
  },
  {
   "cell_type": "code",
   "execution_count": 532,
   "metadata": {},
   "outputs": [
    {
     "data": {
      "text/html": [
       "<div>\n",
       "<style scoped>\n",
       "    .dataframe tbody tr th:only-of-type {\n",
       "        vertical-align: middle;\n",
       "    }\n",
       "\n",
       "    .dataframe tbody tr th {\n",
       "        vertical-align: top;\n",
       "    }\n",
       "\n",
       "    .dataframe thead th {\n",
       "        text-align: right;\n",
       "    }\n",
       "</style>\n",
       "<table border=\"1\" class=\"dataframe\">\n",
       "  <thead>\n",
       "    <tr style=\"text-align: right;\">\n",
       "      <th></th>\n",
       "      <th>Ano</th>\n",
       "      <th>Código</th>\n",
       "      <th>Disciplina</th>\n",
       "      <th>Resultado</th>\n",
       "      <th>Situação</th>\n",
       "    </tr>\n",
       "  </thead>\n",
       "  <tbody>\n",
       "    <tr>\n",
       "      <th>0</th>\n",
       "      <td>2024.1</td>\n",
       "      <td>CIN0068</td>\n",
       "      <td>APLICAÇÕES DE APRENDIZAGEM DE MÁQUINA</td>\n",
       "      <td>9.9</td>\n",
       "      <td>APROVADO</td>\n",
       "    </tr>\n",
       "    <tr>\n",
       "      <th>1</th>\n",
       "      <td>2024.1</td>\n",
       "      <td>CIN0066</td>\n",
       "      <td>APRENDIZAGEM DE MÁQUINA I</td>\n",
       "      <td>10.0</td>\n",
       "      <td>APROVADO</td>\n",
       "    </tr>\n",
       "    <tr>\n",
       "      <th>2</th>\n",
       "      <td>2024.1</td>\n",
       "      <td>CIN0067</td>\n",
       "      <td>APRENDIZAGEM DE MÁQUINA II</td>\n",
       "      <td>10.0</td>\n",
       "      <td>APROVADO</td>\n",
       "    </tr>\n",
       "    <tr>\n",
       "      <th>3</th>\n",
       "      <td>2024.1</td>\n",
       "      <td>CIN0069</td>\n",
       "      <td>ARQUITETURA BIG DATA E ANALYTICS</td>\n",
       "      <td>10.0</td>\n",
       "      <td>APROVADO</td>\n",
       "    </tr>\n",
       "    <tr>\n",
       "      <th>4</th>\n",
       "      <td>2024.1</td>\n",
       "      <td>CIN0061</td>\n",
       "      <td>ARQUITETURA DE SOFTWARE</td>\n",
       "      <td>10.0</td>\n",
       "      <td>APROVADO</td>\n",
       "    </tr>\n",
       "    <tr>\n",
       "      <th>5</th>\n",
       "      <td>2024.1</td>\n",
       "      <td>CIN0065</td>\n",
       "      <td>ESTATÍSTICA AVANÇADA</td>\n",
       "      <td>9.5</td>\n",
       "      <td>APROVADO</td>\n",
       "    </tr>\n",
       "    <tr>\n",
       "      <th>6</th>\n",
       "      <td>2024.1</td>\n",
       "      <td>CIN0071</td>\n",
       "      <td>FAMILIARIZAÇÃO AERONÁUTICA</td>\n",
       "      <td>10.0</td>\n",
       "      <td>APROVADO</td>\n",
       "    </tr>\n",
       "    <tr>\n",
       "      <th>7</th>\n",
       "      <td>2024.1</td>\n",
       "      <td>CIN0064</td>\n",
       "      <td>INTRODUÇÃO A CIÊNCIA DE DADOS</td>\n",
       "      <td>9.5</td>\n",
       "      <td>APROVADO</td>\n",
       "    </tr>\n",
       "    <tr>\n",
       "      <th>8</th>\n",
       "      <td>2024.1</td>\n",
       "      <td>CIN0070</td>\n",
       "      <td>PROJETO DE CIÊNCIA DE DADOS</td>\n",
       "      <td>10.0</td>\n",
       "      <td>APROVADO</td>\n",
       "    </tr>\n",
       "    <tr>\n",
       "      <th>9</th>\n",
       "      <td>2024.1</td>\n",
       "      <td>CIN0062</td>\n",
       "      <td>QUALIDADE DE SOFTWARE</td>\n",
       "      <td>10.0</td>\n",
       "      <td>APROVADO</td>\n",
       "    </tr>\n",
       "    <tr>\n",
       "      <th>10</th>\n",
       "      <td>2024.1</td>\n",
       "      <td>CIN0060</td>\n",
       "      <td>REQUISITOS DE SOFTWARE</td>\n",
       "      <td>9.5</td>\n",
       "      <td>APROVADO</td>\n",
       "    </tr>\n",
       "    <tr>\n",
       "      <th>11</th>\n",
       "      <td>2024.1</td>\n",
       "      <td>CIN0063</td>\n",
       "      <td>TÓPICOS AVANÇADOS</td>\n",
       "      <td>9.8</td>\n",
       "      <td>APROVADO</td>\n",
       "    </tr>\n",
       "    <tr>\n",
       "      <th>12</th>\n",
       "      <td>2024.1</td>\n",
       "      <td>LAT0001</td>\n",
       "      <td>TRABALHO FINAL DE CURSO</td>\n",
       "      <td>10.0</td>\n",
       "      <td>APROVADO</td>\n",
       "    </tr>\n",
       "  </tbody>\n",
       "</table>\n",
       "</div>"
      ],
      "text/plain": [
       "       Ano   Código                             Disciplina  Resultado  \\\n",
       "0   2024.1  CIN0068  APLICAÇÕES DE APRENDIZAGEM DE MÁQUINA        9.9   \n",
       "1   2024.1  CIN0066              APRENDIZAGEM DE MÁQUINA I       10.0   \n",
       "2   2024.1  CIN0067             APRENDIZAGEM DE MÁQUINA II       10.0   \n",
       "3   2024.1  CIN0069       ARQUITETURA BIG DATA E ANALYTICS       10.0   \n",
       "4   2024.1  CIN0061                ARQUITETURA DE SOFTWARE       10.0   \n",
       "5   2024.1  CIN0065                   ESTATÍSTICA AVANÇADA        9.5   \n",
       "6   2024.1  CIN0071             FAMILIARIZAÇÃO AERONÁUTICA       10.0   \n",
       "7   2024.1  CIN0064          INTRODUÇÃO A CIÊNCIA DE DADOS        9.5   \n",
       "8   2024.1  CIN0070            PROJETO DE CIÊNCIA DE DADOS       10.0   \n",
       "9   2024.1  CIN0062                  QUALIDADE DE SOFTWARE       10.0   \n",
       "10  2024.1  CIN0060                 REQUISITOS DE SOFTWARE        9.5   \n",
       "11  2024.1  CIN0063                      TÓPICOS AVANÇADOS        9.8   \n",
       "12  2024.1  LAT0001                TRABALHO FINAL DE CURSO       10.0   \n",
       "\n",
       "    Situação  \n",
       "0   APROVADO  \n",
       "1   APROVADO  \n",
       "2   APROVADO  \n",
       "3   APROVADO  \n",
       "4   APROVADO  \n",
       "5   APROVADO  \n",
       "6   APROVADO  \n",
       "7   APROVADO  \n",
       "8   APROVADO  \n",
       "9   APROVADO  \n",
       "10  APROVADO  \n",
       "11  APROVADO  \n",
       "12  APROVADO  "
      ]
     },
     "execution_count": 532,
     "metadata": {},
     "output_type": "execute_result"
    }
   ],
   "source": [
    "df_ufpe = pd.read_csv('./data/notas-ufpe.csv', dtype={'Ano': str}, sep=';', decimal=',')\n",
    "df_ufpe"
   ]
  },
  {
   "cell_type": "markdown",
   "metadata": {},
   "source": [
    "Com base nestes dados, verificamos que há redundância quanto as disciplinas \"Projeto de Ciência de Dados\" e \"Trabalho Final de Curso\", visto que estes referem-se a mesma coisa. Isto posto, vamos remover o registro com \"Projeto de Ciência de Dados\"."
   ]
  },
  {
   "cell_type": "code",
   "execution_count": 533,
   "metadata": {},
   "outputs": [
    {
     "data": {
      "text/html": [
       "<div>\n",
       "<style scoped>\n",
       "    .dataframe tbody tr th:only-of-type {\n",
       "        vertical-align: middle;\n",
       "    }\n",
       "\n",
       "    .dataframe tbody tr th {\n",
       "        vertical-align: top;\n",
       "    }\n",
       "\n",
       "    .dataframe thead th {\n",
       "        text-align: right;\n",
       "    }\n",
       "</style>\n",
       "<table border=\"1\" class=\"dataframe\">\n",
       "  <thead>\n",
       "    <tr style=\"text-align: right;\">\n",
       "      <th></th>\n",
       "      <th>Ano</th>\n",
       "      <th>Código</th>\n",
       "      <th>Disciplina</th>\n",
       "      <th>Resultado</th>\n",
       "      <th>Situação</th>\n",
       "    </tr>\n",
       "  </thead>\n",
       "  <tbody>\n",
       "    <tr>\n",
       "      <th>0</th>\n",
       "      <td>2024.1</td>\n",
       "      <td>CIN0068</td>\n",
       "      <td>APLICAÇÕES DE APRENDIZAGEM DE MÁQUINA</td>\n",
       "      <td>9.9</td>\n",
       "      <td>APROVADO</td>\n",
       "    </tr>\n",
       "    <tr>\n",
       "      <th>1</th>\n",
       "      <td>2024.1</td>\n",
       "      <td>CIN0066</td>\n",
       "      <td>APRENDIZAGEM DE MÁQUINA I</td>\n",
       "      <td>10.0</td>\n",
       "      <td>APROVADO</td>\n",
       "    </tr>\n",
       "    <tr>\n",
       "      <th>2</th>\n",
       "      <td>2024.1</td>\n",
       "      <td>CIN0067</td>\n",
       "      <td>APRENDIZAGEM DE MÁQUINA II</td>\n",
       "      <td>10.0</td>\n",
       "      <td>APROVADO</td>\n",
       "    </tr>\n",
       "    <tr>\n",
       "      <th>3</th>\n",
       "      <td>2024.1</td>\n",
       "      <td>CIN0069</td>\n",
       "      <td>ARQUITETURA BIG DATA E ANALYTICS</td>\n",
       "      <td>10.0</td>\n",
       "      <td>APROVADO</td>\n",
       "    </tr>\n",
       "    <tr>\n",
       "      <th>4</th>\n",
       "      <td>2024.1</td>\n",
       "      <td>CIN0061</td>\n",
       "      <td>ARQUITETURA DE SOFTWARE</td>\n",
       "      <td>10.0</td>\n",
       "      <td>APROVADO</td>\n",
       "    </tr>\n",
       "    <tr>\n",
       "      <th>5</th>\n",
       "      <td>2024.1</td>\n",
       "      <td>CIN0065</td>\n",
       "      <td>ESTATÍSTICA AVANÇADA</td>\n",
       "      <td>9.5</td>\n",
       "      <td>APROVADO</td>\n",
       "    </tr>\n",
       "    <tr>\n",
       "      <th>6</th>\n",
       "      <td>2024.1</td>\n",
       "      <td>CIN0071</td>\n",
       "      <td>FAMILIARIZAÇÃO AERONÁUTICA</td>\n",
       "      <td>10.0</td>\n",
       "      <td>APROVADO</td>\n",
       "    </tr>\n",
       "    <tr>\n",
       "      <th>7</th>\n",
       "      <td>2024.1</td>\n",
       "      <td>CIN0064</td>\n",
       "      <td>INTRODUÇÃO A CIÊNCIA DE DADOS</td>\n",
       "      <td>9.5</td>\n",
       "      <td>APROVADO</td>\n",
       "    </tr>\n",
       "    <tr>\n",
       "      <th>9</th>\n",
       "      <td>2024.1</td>\n",
       "      <td>CIN0062</td>\n",
       "      <td>QUALIDADE DE SOFTWARE</td>\n",
       "      <td>10.0</td>\n",
       "      <td>APROVADO</td>\n",
       "    </tr>\n",
       "    <tr>\n",
       "      <th>10</th>\n",
       "      <td>2024.1</td>\n",
       "      <td>CIN0060</td>\n",
       "      <td>REQUISITOS DE SOFTWARE</td>\n",
       "      <td>9.5</td>\n",
       "      <td>APROVADO</td>\n",
       "    </tr>\n",
       "    <tr>\n",
       "      <th>11</th>\n",
       "      <td>2024.1</td>\n",
       "      <td>CIN0063</td>\n",
       "      <td>TÓPICOS AVANÇADOS</td>\n",
       "      <td>9.8</td>\n",
       "      <td>APROVADO</td>\n",
       "    </tr>\n",
       "    <tr>\n",
       "      <th>12</th>\n",
       "      <td>2024.1</td>\n",
       "      <td>LAT0001</td>\n",
       "      <td>TRABALHO FINAL DE CURSO</td>\n",
       "      <td>10.0</td>\n",
       "      <td>APROVADO</td>\n",
       "    </tr>\n",
       "  </tbody>\n",
       "</table>\n",
       "</div>"
      ],
      "text/plain": [
       "       Ano   Código                             Disciplina  Resultado  \\\n",
       "0   2024.1  CIN0068  APLICAÇÕES DE APRENDIZAGEM DE MÁQUINA        9.9   \n",
       "1   2024.1  CIN0066              APRENDIZAGEM DE MÁQUINA I       10.0   \n",
       "2   2024.1  CIN0067             APRENDIZAGEM DE MÁQUINA II       10.0   \n",
       "3   2024.1  CIN0069       ARQUITETURA BIG DATA E ANALYTICS       10.0   \n",
       "4   2024.1  CIN0061                ARQUITETURA DE SOFTWARE       10.0   \n",
       "5   2024.1  CIN0065                   ESTATÍSTICA AVANÇADA        9.5   \n",
       "6   2024.1  CIN0071             FAMILIARIZAÇÃO AERONÁUTICA       10.0   \n",
       "7   2024.1  CIN0064          INTRODUÇÃO A CIÊNCIA DE DADOS        9.5   \n",
       "9   2024.1  CIN0062                  QUALIDADE DE SOFTWARE       10.0   \n",
       "10  2024.1  CIN0060                 REQUISITOS DE SOFTWARE        9.5   \n",
       "11  2024.1  CIN0063                      TÓPICOS AVANÇADOS        9.8   \n",
       "12  2024.1  LAT0001                TRABALHO FINAL DE CURSO       10.0   \n",
       "\n",
       "    Situação  \n",
       "0   APROVADO  \n",
       "1   APROVADO  \n",
       "2   APROVADO  \n",
       "3   APROVADO  \n",
       "4   APROVADO  \n",
       "5   APROVADO  \n",
       "6   APROVADO  \n",
       "7   APROVADO  \n",
       "9   APROVADO  \n",
       "10  APROVADO  \n",
       "11  APROVADO  \n",
       "12  APROVADO  "
      ]
     },
     "execution_count": 533,
     "metadata": {},
     "output_type": "execute_result"
    }
   ],
   "source": [
    "df_ufpe = df_ufpe[df_ufpe['Disciplina'] != 'PROJETO DE CIÊNCIA DE DADOS']\n",
    "df_ufpe"
   ]
  },
  {
   "cell_type": "markdown",
   "metadata": {},
   "source": [
    "Nesta especialização, as matérias foram cursadas uma por vez. Todavia, como não temos a informação da ordem no Sigaa, vamos adicionar isto manualmente."
   ]
  },
  {
   "cell_type": "code",
   "execution_count": 534,
   "metadata": {},
   "outputs": [
    {
     "name": "stderr",
     "output_type": "stream",
     "text": [
      "/var/folders/b1/0p0jycgj6llcx6cqndttv6180000gn/T/ipykernel_24212/194066905.py:16: SettingWithCopyWarning:\n",
      "\n",
      "\n",
      "A value is trying to be set on a copy of a slice from a DataFrame.\n",
      "Try using .loc[row_indexer,col_indexer] = value instead\n",
      "\n",
      "See the caveats in the documentation: https://pandas.pydata.org/pandas-docs/stable/user_guide/indexing.html#returning-a-view-versus-a-copy\n",
      "\n"
     ]
    },
    {
     "data": {
      "text/html": [
       "<div>\n",
       "<style scoped>\n",
       "    .dataframe tbody tr th:only-of-type {\n",
       "        vertical-align: middle;\n",
       "    }\n",
       "\n",
       "    .dataframe tbody tr th {\n",
       "        vertical-align: top;\n",
       "    }\n",
       "\n",
       "    .dataframe thead th {\n",
       "        text-align: right;\n",
       "    }\n",
       "</style>\n",
       "<table border=\"1\" class=\"dataframe\">\n",
       "  <thead>\n",
       "    <tr style=\"text-align: right;\">\n",
       "      <th></th>\n",
       "      <th>Ano</th>\n",
       "      <th>Código</th>\n",
       "      <th>Disciplina</th>\n",
       "      <th>Resultado</th>\n",
       "      <th>Situação</th>\n",
       "      <th>Ordem</th>\n",
       "    </tr>\n",
       "  </thead>\n",
       "  <tbody>\n",
       "    <tr>\n",
       "      <th>0</th>\n",
       "      <td>2024.1</td>\n",
       "      <td>CIN0060</td>\n",
       "      <td>REQUISITOS DE SOFTWARE</td>\n",
       "      <td>9.5</td>\n",
       "      <td>APROVADO</td>\n",
       "      <td>1</td>\n",
       "    </tr>\n",
       "    <tr>\n",
       "      <th>1</th>\n",
       "      <td>2024.1</td>\n",
       "      <td>CIN0071</td>\n",
       "      <td>FAMILIARIZAÇÃO AERONÁUTICA</td>\n",
       "      <td>10.0</td>\n",
       "      <td>APROVADO</td>\n",
       "      <td>2</td>\n",
       "    </tr>\n",
       "    <tr>\n",
       "      <th>2</th>\n",
       "      <td>2024.1</td>\n",
       "      <td>CIN0061</td>\n",
       "      <td>ARQUITETURA DE SOFTWARE</td>\n",
       "      <td>10.0</td>\n",
       "      <td>APROVADO</td>\n",
       "      <td>3</td>\n",
       "    </tr>\n",
       "    <tr>\n",
       "      <th>3</th>\n",
       "      <td>2024.1</td>\n",
       "      <td>CIN0062</td>\n",
       "      <td>QUALIDADE DE SOFTWARE</td>\n",
       "      <td>10.0</td>\n",
       "      <td>APROVADO</td>\n",
       "      <td>4</td>\n",
       "    </tr>\n",
       "    <tr>\n",
       "      <th>4</th>\n",
       "      <td>2024.1</td>\n",
       "      <td>CIN0063</td>\n",
       "      <td>TÓPICOS AVANÇADOS</td>\n",
       "      <td>9.8</td>\n",
       "      <td>APROVADO</td>\n",
       "      <td>5</td>\n",
       "    </tr>\n",
       "    <tr>\n",
       "      <th>5</th>\n",
       "      <td>2024.1</td>\n",
       "      <td>CIN0064</td>\n",
       "      <td>INTRODUÇÃO A CIÊNCIA DE DADOS</td>\n",
       "      <td>9.5</td>\n",
       "      <td>APROVADO</td>\n",
       "      <td>6</td>\n",
       "    </tr>\n",
       "    <tr>\n",
       "      <th>6</th>\n",
       "      <td>2024.1</td>\n",
       "      <td>CIN0065</td>\n",
       "      <td>ESTATÍSTICA AVANÇADA</td>\n",
       "      <td>9.5</td>\n",
       "      <td>APROVADO</td>\n",
       "      <td>7</td>\n",
       "    </tr>\n",
       "    <tr>\n",
       "      <th>7</th>\n",
       "      <td>2024.1</td>\n",
       "      <td>CIN0066</td>\n",
       "      <td>APRENDIZAGEM DE MÁQUINA I</td>\n",
       "      <td>10.0</td>\n",
       "      <td>APROVADO</td>\n",
       "      <td>8</td>\n",
       "    </tr>\n",
       "    <tr>\n",
       "      <th>8</th>\n",
       "      <td>2024.1</td>\n",
       "      <td>CIN0067</td>\n",
       "      <td>APRENDIZAGEM DE MÁQUINA II</td>\n",
       "      <td>10.0</td>\n",
       "      <td>APROVADO</td>\n",
       "      <td>9</td>\n",
       "    </tr>\n",
       "    <tr>\n",
       "      <th>9</th>\n",
       "      <td>2024.1</td>\n",
       "      <td>CIN0069</td>\n",
       "      <td>ARQUITETURA BIG DATA E ANALYTICS</td>\n",
       "      <td>10.0</td>\n",
       "      <td>APROVADO</td>\n",
       "      <td>10</td>\n",
       "    </tr>\n",
       "    <tr>\n",
       "      <th>10</th>\n",
       "      <td>2024.1</td>\n",
       "      <td>CIN0068</td>\n",
       "      <td>APLICAÇÕES DE APRENDIZAGEM DE MÁQUINA</td>\n",
       "      <td>9.9</td>\n",
       "      <td>APROVADO</td>\n",
       "      <td>11</td>\n",
       "    </tr>\n",
       "    <tr>\n",
       "      <th>11</th>\n",
       "      <td>2024.1</td>\n",
       "      <td>LAT0001</td>\n",
       "      <td>TRABALHO FINAL DE CURSO</td>\n",
       "      <td>10.0</td>\n",
       "      <td>APROVADO</td>\n",
       "      <td>12</td>\n",
       "    </tr>\n",
       "  </tbody>\n",
       "</table>\n",
       "</div>"
      ],
      "text/plain": [
       "       Ano   Código                             Disciplina  Resultado  \\\n",
       "0   2024.1  CIN0060                 REQUISITOS DE SOFTWARE        9.5   \n",
       "1   2024.1  CIN0071             FAMILIARIZAÇÃO AERONÁUTICA       10.0   \n",
       "2   2024.1  CIN0061                ARQUITETURA DE SOFTWARE       10.0   \n",
       "3   2024.1  CIN0062                  QUALIDADE DE SOFTWARE       10.0   \n",
       "4   2024.1  CIN0063                      TÓPICOS AVANÇADOS        9.8   \n",
       "5   2024.1  CIN0064          INTRODUÇÃO A CIÊNCIA DE DADOS        9.5   \n",
       "6   2024.1  CIN0065                   ESTATÍSTICA AVANÇADA        9.5   \n",
       "7   2024.1  CIN0066              APRENDIZAGEM DE MÁQUINA I       10.0   \n",
       "8   2024.1  CIN0067             APRENDIZAGEM DE MÁQUINA II       10.0   \n",
       "9   2024.1  CIN0069       ARQUITETURA BIG DATA E ANALYTICS       10.0   \n",
       "10  2024.1  CIN0068  APLICAÇÕES DE APRENDIZAGEM DE MÁQUINA        9.9   \n",
       "11  2024.1  LAT0001                TRABALHO FINAL DE CURSO       10.0   \n",
       "\n",
       "    Situação  Ordem  \n",
       "0   APROVADO      1  \n",
       "1   APROVADO      2  \n",
       "2   APROVADO      3  \n",
       "3   APROVADO      4  \n",
       "4   APROVADO      5  \n",
       "5   APROVADO      6  \n",
       "6   APROVADO      7  \n",
       "7   APROVADO      8  \n",
       "8   APROVADO      9  \n",
       "9   APROVADO     10  \n",
       "10  APROVADO     11  \n",
       "11  APROVADO     12  "
      ]
     },
     "execution_count": 534,
     "metadata": {},
     "output_type": "execute_result"
    }
   ],
   "source": [
    "subjects_order = {\n",
    "    'REQUISITOS DE SOFTWARE': 1,\n",
    "    'FAMILIARIZAÇÃO AERONÁUTICA': 2,\n",
    "    'ARQUITETURA DE SOFTWARE': 3,\n",
    "    'QUALIDADE DE SOFTWARE': 4, \n",
    "    'TÓPICOS AVANÇADOS': 5, \n",
    "    'INTRODUÇÃO A CIÊNCIA DE DADOS': 6, \n",
    "    'ESTATÍSTICA AVANÇADA': 7, \n",
    "    'APRENDIZAGEM DE MÁQUINA I': 8, \n",
    "    'APRENDIZAGEM DE MÁQUINA II': 9,\n",
    "    'ARQUITETURA BIG DATA E ANALYTICS': 10, \n",
    "    'APLICAÇÕES DE APRENDIZAGEM DE MÁQUINA': 11,\n",
    "    'TRABALHO FINAL DE CURSO': 12\n",
    "}\n",
    "\n",
    "df_ufpe['Ordem'] = df_ufpe['Disciplina'].apply(lambda s: subjects_order[s])\n",
    "df_ufpe = df_ufpe.sort_values('Ordem').reset_index(drop=True)\n",
    "df_ufpe"
   ]
  },
  {
   "cell_type": "markdown",
   "metadata": {},
   "source": [
    "Feito isto, como primeiro passo vamos ver a distribuição das notas de forma visual. Como, neste caso, não temos nenhuma outra base para compara, vamos trazer as representações apenas para as minhas notas."
   ]
  },
  {
   "cell_type": "markdown",
   "metadata": {},
   "source": [
    "#### Análise da distribuição das notas"
   ]
  },
  {
   "cell_type": "markdown",
   "metadata": {},
   "source": [
    "Como temos poucos dados, o histograma não mostra-se uma representação tão valiosa e informativa. Isto posto, para verificar a distribuiçõ das notas usaremos apenas um boxplot."
   ]
  },
  {
   "cell_type": "code",
   "execution_count": null,
   "metadata": {},
   "outputs": [
    {
     "data": {
      "application/vnd.plotly.v1+json": {
       "config": {
        "plotlyServerURL": "https://plot.ly"
       },
       "data": [
        {
         "boxmean": true,
         "boxpoints": "all",
         "jitter": 1,
         "marker": {
          "color": "#73A1B2"
         },
         "type": "box",
         "x0": "Distribuição das minhas notas",
         "y": [
          9.5,
          10,
          10,
          10,
          9.8,
          9.5,
          9.5,
          10,
          10,
          10,
          9.9,
          10
         ]
        }
       ],
       "layout": {
        "margin": {
         "b": 30,
         "t": 40
        },
        "template": {
         "data": {
          "bar": [
           {
            "error_x": {
             "color": "#2a3f5f"
            },
            "error_y": {
             "color": "#2a3f5f"
            },
            "marker": {
             "line": {
              "color": "white",
              "width": 0.5
             },
             "pattern": {
              "fillmode": "overlay",
              "size": 10,
              "solidity": 0.2
             }
            },
            "type": "bar"
           }
          ],
          "barpolar": [
           {
            "marker": {
             "line": {
              "color": "white",
              "width": 0.5
             },
             "pattern": {
              "fillmode": "overlay",
              "size": 10,
              "solidity": 0.2
             }
            },
            "type": "barpolar"
           }
          ],
          "carpet": [
           {
            "aaxis": {
             "endlinecolor": "#2a3f5f",
             "gridcolor": "#C8D4E3",
             "linecolor": "#C8D4E3",
             "minorgridcolor": "#C8D4E3",
             "startlinecolor": "#2a3f5f"
            },
            "baxis": {
             "endlinecolor": "#2a3f5f",
             "gridcolor": "#C8D4E3",
             "linecolor": "#C8D4E3",
             "minorgridcolor": "#C8D4E3",
             "startlinecolor": "#2a3f5f"
            },
            "type": "carpet"
           }
          ],
          "choropleth": [
           {
            "colorbar": {
             "outlinewidth": 0,
             "ticks": ""
            },
            "type": "choropleth"
           }
          ],
          "contour": [
           {
            "colorbar": {
             "outlinewidth": 0,
             "ticks": ""
            },
            "colorscale": [
             [
              0,
              "#0d0887"
             ],
             [
              0.1111111111111111,
              "#46039f"
             ],
             [
              0.2222222222222222,
              "#7201a8"
             ],
             [
              0.3333333333333333,
              "#9c179e"
             ],
             [
              0.4444444444444444,
              "#bd3786"
             ],
             [
              0.5555555555555556,
              "#d8576b"
             ],
             [
              0.6666666666666666,
              "#ed7953"
             ],
             [
              0.7777777777777778,
              "#fb9f3a"
             ],
             [
              0.8888888888888888,
              "#fdca26"
             ],
             [
              1,
              "#f0f921"
             ]
            ],
            "type": "contour"
           }
          ],
          "contourcarpet": [
           {
            "colorbar": {
             "outlinewidth": 0,
             "ticks": ""
            },
            "type": "contourcarpet"
           }
          ],
          "heatmap": [
           {
            "colorbar": {
             "outlinewidth": 0,
             "ticks": ""
            },
            "colorscale": [
             [
              0,
              "#0d0887"
             ],
             [
              0.1111111111111111,
              "#46039f"
             ],
             [
              0.2222222222222222,
              "#7201a8"
             ],
             [
              0.3333333333333333,
              "#9c179e"
             ],
             [
              0.4444444444444444,
              "#bd3786"
             ],
             [
              0.5555555555555556,
              "#d8576b"
             ],
             [
              0.6666666666666666,
              "#ed7953"
             ],
             [
              0.7777777777777778,
              "#fb9f3a"
             ],
             [
              0.8888888888888888,
              "#fdca26"
             ],
             [
              1,
              "#f0f921"
             ]
            ],
            "type": "heatmap"
           }
          ],
          "heatmapgl": [
           {
            "colorbar": {
             "outlinewidth": 0,
             "ticks": ""
            },
            "colorscale": [
             [
              0,
              "#0d0887"
             ],
             [
              0.1111111111111111,
              "#46039f"
             ],
             [
              0.2222222222222222,
              "#7201a8"
             ],
             [
              0.3333333333333333,
              "#9c179e"
             ],
             [
              0.4444444444444444,
              "#bd3786"
             ],
             [
              0.5555555555555556,
              "#d8576b"
             ],
             [
              0.6666666666666666,
              "#ed7953"
             ],
             [
              0.7777777777777778,
              "#fb9f3a"
             ],
             [
              0.8888888888888888,
              "#fdca26"
             ],
             [
              1,
              "#f0f921"
             ]
            ],
            "type": "heatmapgl"
           }
          ],
          "histogram": [
           {
            "marker": {
             "pattern": {
              "fillmode": "overlay",
              "size": 10,
              "solidity": 0.2
             }
            },
            "type": "histogram"
           }
          ],
          "histogram2d": [
           {
            "colorbar": {
             "outlinewidth": 0,
             "ticks": ""
            },
            "colorscale": [
             [
              0,
              "#0d0887"
             ],
             [
              0.1111111111111111,
              "#46039f"
             ],
             [
              0.2222222222222222,
              "#7201a8"
             ],
             [
              0.3333333333333333,
              "#9c179e"
             ],
             [
              0.4444444444444444,
              "#bd3786"
             ],
             [
              0.5555555555555556,
              "#d8576b"
             ],
             [
              0.6666666666666666,
              "#ed7953"
             ],
             [
              0.7777777777777778,
              "#fb9f3a"
             ],
             [
              0.8888888888888888,
              "#fdca26"
             ],
             [
              1,
              "#f0f921"
             ]
            ],
            "type": "histogram2d"
           }
          ],
          "histogram2dcontour": [
           {
            "colorbar": {
             "outlinewidth": 0,
             "ticks": ""
            },
            "colorscale": [
             [
              0,
              "#0d0887"
             ],
             [
              0.1111111111111111,
              "#46039f"
             ],
             [
              0.2222222222222222,
              "#7201a8"
             ],
             [
              0.3333333333333333,
              "#9c179e"
             ],
             [
              0.4444444444444444,
              "#bd3786"
             ],
             [
              0.5555555555555556,
              "#d8576b"
             ],
             [
              0.6666666666666666,
              "#ed7953"
             ],
             [
              0.7777777777777778,
              "#fb9f3a"
             ],
             [
              0.8888888888888888,
              "#fdca26"
             ],
             [
              1,
              "#f0f921"
             ]
            ],
            "type": "histogram2dcontour"
           }
          ],
          "mesh3d": [
           {
            "colorbar": {
             "outlinewidth": 0,
             "ticks": ""
            },
            "type": "mesh3d"
           }
          ],
          "parcoords": [
           {
            "line": {
             "colorbar": {
              "outlinewidth": 0,
              "ticks": ""
             }
            },
            "type": "parcoords"
           }
          ],
          "pie": [
           {
            "automargin": true,
            "type": "pie"
           }
          ],
          "scatter": [
           {
            "fillpattern": {
             "fillmode": "overlay",
             "size": 10,
             "solidity": 0.2
            },
            "type": "scatter"
           }
          ],
          "scatter3d": [
           {
            "line": {
             "colorbar": {
              "outlinewidth": 0,
              "ticks": ""
             }
            },
            "marker": {
             "colorbar": {
              "outlinewidth": 0,
              "ticks": ""
             }
            },
            "type": "scatter3d"
           }
          ],
          "scattercarpet": [
           {
            "marker": {
             "colorbar": {
              "outlinewidth": 0,
              "ticks": ""
             }
            },
            "type": "scattercarpet"
           }
          ],
          "scattergeo": [
           {
            "marker": {
             "colorbar": {
              "outlinewidth": 0,
              "ticks": ""
             }
            },
            "type": "scattergeo"
           }
          ],
          "scattergl": [
           {
            "marker": {
             "colorbar": {
              "outlinewidth": 0,
              "ticks": ""
             }
            },
            "type": "scattergl"
           }
          ],
          "scattermapbox": [
           {
            "marker": {
             "colorbar": {
              "outlinewidth": 0,
              "ticks": ""
             }
            },
            "type": "scattermapbox"
           }
          ],
          "scatterpolar": [
           {
            "marker": {
             "colorbar": {
              "outlinewidth": 0,
              "ticks": ""
             }
            },
            "type": "scatterpolar"
           }
          ],
          "scatterpolargl": [
           {
            "marker": {
             "colorbar": {
              "outlinewidth": 0,
              "ticks": ""
             }
            },
            "type": "scatterpolargl"
           }
          ],
          "scatterternary": [
           {
            "marker": {
             "colorbar": {
              "outlinewidth": 0,
              "ticks": ""
             }
            },
            "type": "scatterternary"
           }
          ],
          "surface": [
           {
            "colorbar": {
             "outlinewidth": 0,
             "ticks": ""
            },
            "colorscale": [
             [
              0,
              "#0d0887"
             ],
             [
              0.1111111111111111,
              "#46039f"
             ],
             [
              0.2222222222222222,
              "#7201a8"
             ],
             [
              0.3333333333333333,
              "#9c179e"
             ],
             [
              0.4444444444444444,
              "#bd3786"
             ],
             [
              0.5555555555555556,
              "#d8576b"
             ],
             [
              0.6666666666666666,
              "#ed7953"
             ],
             [
              0.7777777777777778,
              "#fb9f3a"
             ],
             [
              0.8888888888888888,
              "#fdca26"
             ],
             [
              1,
              "#f0f921"
             ]
            ],
            "type": "surface"
           }
          ],
          "table": [
           {
            "cells": {
             "fill": {
              "color": "#EBF0F8"
             },
             "line": {
              "color": "white"
             }
            },
            "header": {
             "fill": {
              "color": "#C8D4E3"
             },
             "line": {
              "color": "white"
             }
            },
            "type": "table"
           }
          ]
         },
         "layout": {
          "annotationdefaults": {
           "arrowcolor": "#2a3f5f",
           "arrowhead": 0,
           "arrowwidth": 1
          },
          "autotypenumbers": "strict",
          "coloraxis": {
           "colorbar": {
            "outlinewidth": 0,
            "ticks": ""
           }
          },
          "colorscale": {
           "diverging": [
            [
             0,
             "#8e0152"
            ],
            [
             0.1,
             "#c51b7d"
            ],
            [
             0.2,
             "#de77ae"
            ],
            [
             0.3,
             "#f1b6da"
            ],
            [
             0.4,
             "#fde0ef"
            ],
            [
             0.5,
             "#f7f7f7"
            ],
            [
             0.6,
             "#e6f5d0"
            ],
            [
             0.7,
             "#b8e186"
            ],
            [
             0.8,
             "#7fbc41"
            ],
            [
             0.9,
             "#4d9221"
            ],
            [
             1,
             "#276419"
            ]
           ],
           "sequential": [
            [
             0,
             "#0d0887"
            ],
            [
             0.1111111111111111,
             "#46039f"
            ],
            [
             0.2222222222222222,
             "#7201a8"
            ],
            [
             0.3333333333333333,
             "#9c179e"
            ],
            [
             0.4444444444444444,
             "#bd3786"
            ],
            [
             0.5555555555555556,
             "#d8576b"
            ],
            [
             0.6666666666666666,
             "#ed7953"
            ],
            [
             0.7777777777777778,
             "#fb9f3a"
            ],
            [
             0.8888888888888888,
             "#fdca26"
            ],
            [
             1,
             "#f0f921"
            ]
           ],
           "sequentialminus": [
            [
             0,
             "#0d0887"
            ],
            [
             0.1111111111111111,
             "#46039f"
            ],
            [
             0.2222222222222222,
             "#7201a8"
            ],
            [
             0.3333333333333333,
             "#9c179e"
            ],
            [
             0.4444444444444444,
             "#bd3786"
            ],
            [
             0.5555555555555556,
             "#d8576b"
            ],
            [
             0.6666666666666666,
             "#ed7953"
            ],
            [
             0.7777777777777778,
             "#fb9f3a"
            ],
            [
             0.8888888888888888,
             "#fdca26"
            ],
            [
             1,
             "#f0f921"
            ]
           ]
          },
          "colorway": [
           "#636efa",
           "#EF553B",
           "#00cc96",
           "#ab63fa",
           "#FFA15A",
           "#19d3f3",
           "#FF6692",
           "#B6E880",
           "#FF97FF",
           "#FECB52"
          ],
          "font": {
           "color": "rgb(99, 99, 99)",
           "family": "Helvetica, sans-serif"
          },
          "geo": {
           "bgcolor": "white",
           "lakecolor": "white",
           "landcolor": "white",
           "showlakes": true,
           "showland": true,
           "subunitcolor": "#C8D4E3"
          },
          "hoverlabel": {
           "align": "left"
          },
          "hovermode": "closest",
          "mapbox": {
           "style": "light"
          },
          "paper_bgcolor": "white",
          "plot_bgcolor": "white",
          "polar": {
           "angularaxis": {
            "gridcolor": "#EBF0F8",
            "linecolor": "#EBF0F8",
            "ticks": ""
           },
           "bgcolor": "white",
           "radialaxis": {
            "gridcolor": "#EBF0F8",
            "linecolor": "#EBF0F8",
            "ticks": ""
           }
          },
          "scene": {
           "xaxis": {
            "backgroundcolor": "white",
            "gridcolor": "#DFE8F3",
            "gridwidth": 2,
            "linecolor": "#EBF0F8",
            "showbackground": true,
            "ticks": "",
            "zerolinecolor": "#EBF0F8"
           },
           "yaxis": {
            "backgroundcolor": "white",
            "gridcolor": "#DFE8F3",
            "gridwidth": 2,
            "linecolor": "#EBF0F8",
            "showbackground": true,
            "ticks": "",
            "zerolinecolor": "#EBF0F8"
           },
           "zaxis": {
            "backgroundcolor": "white",
            "gridcolor": "#DFE8F3",
            "gridwidth": 2,
            "linecolor": "#EBF0F8",
            "showbackground": true,
            "ticks": "",
            "zerolinecolor": "#EBF0F8"
           }
          },
          "shapedefaults": {
           "line": {
            "color": "#2a3f5f"
           }
          },
          "ternary": {
           "aaxis": {
            "gridcolor": "#DFE8F3",
            "linecolor": "#A2B1C6",
            "ticks": ""
           },
           "baxis": {
            "gridcolor": "#DFE8F3",
            "linecolor": "#A2B1C6",
            "ticks": ""
           },
           "bgcolor": "white",
           "caxis": {
            "gridcolor": "#DFE8F3",
            "linecolor": "#A2B1C6",
            "ticks": ""
           }
          },
          "title": {
           "x": 0.05
          },
          "xaxis": {
           "automargin": true,
           "gridcolor": "#EBF0F8",
           "linecolor": "#EBF0F8",
           "ticks": "",
           "title": {
            "standoff": 15
           },
           "zerolinecolor": "#EBF0F8",
           "zerolinewidth": 2
          },
          "yaxis": {
           "automargin": true,
           "gridcolor": "#EBF0F8",
           "linecolor": "#EBF0F8",
           "ticks": "",
           "title": {
            "standoff": 15
           },
           "zerolinecolor": "#EBF0F8",
           "zerolinewidth": 2
          }
         }
        },
        "yaxis": {
         "title": {
          "text": "Nota"
         }
        }
       }
      }
     },
     "metadata": {},
     "output_type": "display_data"
    }
   ],
   "source": [
    "fig_ufpe_grades_dist = go.Figure()\n",
    "fig_ufpe_grades_dist.add_trace(go.Box(y=df_ufpe['Resultado'], x0='Distribuição das minhas notas', boxmean=True,\n",
    "                                      boxpoints='all', jitter=1, marker_color=BLUE))\n",
    "# fig_ufpe_grades_dist.update_layout({'title': 'Distribuição das notas na pós-graduação', 'yaxis_title': 'Nota'})\n",
    "fig_ufpe_grades_dist.update_layout({'yaxis_title': 'Nota', 'height': 450,'margin_t': 40, 'margin_b': 30})\n",
    "fig_ufpe_grades_dist.write_html('../assets/graphs/ufpe_grades_dist.html')\n",
    "fig_ufpe_grades_dist.show()"
   ]
  },
  {
   "cell_type": "markdown",
   "metadata": {},
   "source": [
    "#### Nota matéria a matéria"
   ]
  },
  {
   "cell_type": "markdown",
   "metadata": {},
   "source": [
    "Como, neste caso, são poucas matérias (12), conseguimos sumarizar os resultados um gráfico de barras que mostra cada nota individualmente. Para facilitar na legibilidade, vamos criar um mapeamento com o novo nome das matérias."
   ]
  },
  {
   "cell_type": "code",
   "execution_count": 536,
   "metadata": {},
   "outputs": [
    {
     "data": {
      "text/plain": [
       "Disciplina\n",
       "REQUISITOS DE SOFTWARE                   1\n",
       "FAMILIARIZAÇÃO AERONÁUTICA               1\n",
       "ARQUITETURA DE SOFTWARE                  1\n",
       "QUALIDADE DE SOFTWARE                    1\n",
       "TÓPICOS AVANÇADOS                        1\n",
       "INTRODUÇÃO A CIÊNCIA DE DADOS            1\n",
       "ESTATÍSTICA AVANÇADA                     1\n",
       "APRENDIZAGEM DE MÁQUINA I                1\n",
       "APRENDIZAGEM DE MÁQUINA II               1\n",
       "ARQUITETURA BIG DATA E ANALYTICS         1\n",
       "APLICAÇÕES DE APRENDIZAGEM DE MÁQUINA    1\n",
       "TRABALHO FINAL DE CURSO                  1\n",
       "Name: count, dtype: int64"
      ]
     },
     "execution_count": 536,
     "metadata": {},
     "output_type": "execute_result"
    }
   ],
   "source": [
    "df_ufpe['Disciplina'].value_counts()"
   ]
  },
  {
   "cell_type": "code",
   "execution_count": 537,
   "metadata": {},
   "outputs": [
    {
     "data": {
      "application/vnd.plotly.v1+json": {
       "config": {
        "plotlyServerURL": "https://plot.ly"
       },
       "data": [
        {
         "hovertemplate": "%{x}: %{y:.1f}",
         "marker": {
          "color": "#73A1B2"
         },
         "type": "bar",
         "x": [
          "REQUISITOS DE<br>SOFTWARE",
          "FAMILIARIZAÇÃO<br>AERONÁUTICA",
          "ARQUITETURA DE<br>SOFTWARE",
          "QUALIDADE DE<br>SOFTWARE",
          "TÓPICOS<br>AVANÇADOS",
          "INTRODUÇÃO<br>A CIÊNCIA DE<br>DADOS",
          "ESTATÍSTICA<br>AVANÇADA",
          "APRENDIZAGEM<br>DE MÁQUINA I",
          "APRENDIZAGEM<br>DE MÁQUINA II",
          "ARQUITETURA BIG<br>DATA E ANALYTICS",
          "APLICAÇÕES DE<br>APRENDIZAGEM DE<br>MÁQUINA",
          "TRABALHO FINAL<br>DE CURSO"
         ],
         "y": [
          9.5,
          10,
          10,
          10,
          9.8,
          9.5,
          9.5,
          10,
          10,
          10,
          9.9,
          10
         ]
        }
       ],
       "layout": {
        "annotations": [
         {
          "showarrow": false,
          "text": "Média: 9.85",
          "x": 1,
          "xanchor": "right",
          "xref": "x domain",
          "y": 10.049999999999999,
          "yanchor": "bottom",
          "yref": "y"
         }
        ],
        "bargap": 0.3,
        "margin": {
         "t": 40
        },
        "shapes": [
         {
          "line": {
           "dash": "dash"
          },
          "type": "line",
          "x0": 0,
          "x1": 1,
          "xref": "x domain",
          "y0": 9.85,
          "y1": 9.85,
          "yref": "y"
         }
        ],
        "template": {
         "data": {
          "bar": [
           {
            "error_x": {
             "color": "#2a3f5f"
            },
            "error_y": {
             "color": "#2a3f5f"
            },
            "marker": {
             "line": {
              "color": "white",
              "width": 0.5
             },
             "pattern": {
              "fillmode": "overlay",
              "size": 10,
              "solidity": 0.2
             }
            },
            "type": "bar"
           }
          ],
          "barpolar": [
           {
            "marker": {
             "line": {
              "color": "white",
              "width": 0.5
             },
             "pattern": {
              "fillmode": "overlay",
              "size": 10,
              "solidity": 0.2
             }
            },
            "type": "barpolar"
           }
          ],
          "carpet": [
           {
            "aaxis": {
             "endlinecolor": "#2a3f5f",
             "gridcolor": "#C8D4E3",
             "linecolor": "#C8D4E3",
             "minorgridcolor": "#C8D4E3",
             "startlinecolor": "#2a3f5f"
            },
            "baxis": {
             "endlinecolor": "#2a3f5f",
             "gridcolor": "#C8D4E3",
             "linecolor": "#C8D4E3",
             "minorgridcolor": "#C8D4E3",
             "startlinecolor": "#2a3f5f"
            },
            "type": "carpet"
           }
          ],
          "choropleth": [
           {
            "colorbar": {
             "outlinewidth": 0,
             "ticks": ""
            },
            "type": "choropleth"
           }
          ],
          "contour": [
           {
            "colorbar": {
             "outlinewidth": 0,
             "ticks": ""
            },
            "colorscale": [
             [
              0,
              "#0d0887"
             ],
             [
              0.1111111111111111,
              "#46039f"
             ],
             [
              0.2222222222222222,
              "#7201a8"
             ],
             [
              0.3333333333333333,
              "#9c179e"
             ],
             [
              0.4444444444444444,
              "#bd3786"
             ],
             [
              0.5555555555555556,
              "#d8576b"
             ],
             [
              0.6666666666666666,
              "#ed7953"
             ],
             [
              0.7777777777777778,
              "#fb9f3a"
             ],
             [
              0.8888888888888888,
              "#fdca26"
             ],
             [
              1,
              "#f0f921"
             ]
            ],
            "type": "contour"
           }
          ],
          "contourcarpet": [
           {
            "colorbar": {
             "outlinewidth": 0,
             "ticks": ""
            },
            "type": "contourcarpet"
           }
          ],
          "heatmap": [
           {
            "colorbar": {
             "outlinewidth": 0,
             "ticks": ""
            },
            "colorscale": [
             [
              0,
              "#0d0887"
             ],
             [
              0.1111111111111111,
              "#46039f"
             ],
             [
              0.2222222222222222,
              "#7201a8"
             ],
             [
              0.3333333333333333,
              "#9c179e"
             ],
             [
              0.4444444444444444,
              "#bd3786"
             ],
             [
              0.5555555555555556,
              "#d8576b"
             ],
             [
              0.6666666666666666,
              "#ed7953"
             ],
             [
              0.7777777777777778,
              "#fb9f3a"
             ],
             [
              0.8888888888888888,
              "#fdca26"
             ],
             [
              1,
              "#f0f921"
             ]
            ],
            "type": "heatmap"
           }
          ],
          "heatmapgl": [
           {
            "colorbar": {
             "outlinewidth": 0,
             "ticks": ""
            },
            "colorscale": [
             [
              0,
              "#0d0887"
             ],
             [
              0.1111111111111111,
              "#46039f"
             ],
             [
              0.2222222222222222,
              "#7201a8"
             ],
             [
              0.3333333333333333,
              "#9c179e"
             ],
             [
              0.4444444444444444,
              "#bd3786"
             ],
             [
              0.5555555555555556,
              "#d8576b"
             ],
             [
              0.6666666666666666,
              "#ed7953"
             ],
             [
              0.7777777777777778,
              "#fb9f3a"
             ],
             [
              0.8888888888888888,
              "#fdca26"
             ],
             [
              1,
              "#f0f921"
             ]
            ],
            "type": "heatmapgl"
           }
          ],
          "histogram": [
           {
            "marker": {
             "pattern": {
              "fillmode": "overlay",
              "size": 10,
              "solidity": 0.2
             }
            },
            "type": "histogram"
           }
          ],
          "histogram2d": [
           {
            "colorbar": {
             "outlinewidth": 0,
             "ticks": ""
            },
            "colorscale": [
             [
              0,
              "#0d0887"
             ],
             [
              0.1111111111111111,
              "#46039f"
             ],
             [
              0.2222222222222222,
              "#7201a8"
             ],
             [
              0.3333333333333333,
              "#9c179e"
             ],
             [
              0.4444444444444444,
              "#bd3786"
             ],
             [
              0.5555555555555556,
              "#d8576b"
             ],
             [
              0.6666666666666666,
              "#ed7953"
             ],
             [
              0.7777777777777778,
              "#fb9f3a"
             ],
             [
              0.8888888888888888,
              "#fdca26"
             ],
             [
              1,
              "#f0f921"
             ]
            ],
            "type": "histogram2d"
           }
          ],
          "histogram2dcontour": [
           {
            "colorbar": {
             "outlinewidth": 0,
             "ticks": ""
            },
            "colorscale": [
             [
              0,
              "#0d0887"
             ],
             [
              0.1111111111111111,
              "#46039f"
             ],
             [
              0.2222222222222222,
              "#7201a8"
             ],
             [
              0.3333333333333333,
              "#9c179e"
             ],
             [
              0.4444444444444444,
              "#bd3786"
             ],
             [
              0.5555555555555556,
              "#d8576b"
             ],
             [
              0.6666666666666666,
              "#ed7953"
             ],
             [
              0.7777777777777778,
              "#fb9f3a"
             ],
             [
              0.8888888888888888,
              "#fdca26"
             ],
             [
              1,
              "#f0f921"
             ]
            ],
            "type": "histogram2dcontour"
           }
          ],
          "mesh3d": [
           {
            "colorbar": {
             "outlinewidth": 0,
             "ticks": ""
            },
            "type": "mesh3d"
           }
          ],
          "parcoords": [
           {
            "line": {
             "colorbar": {
              "outlinewidth": 0,
              "ticks": ""
             }
            },
            "type": "parcoords"
           }
          ],
          "pie": [
           {
            "automargin": true,
            "type": "pie"
           }
          ],
          "scatter": [
           {
            "fillpattern": {
             "fillmode": "overlay",
             "size": 10,
             "solidity": 0.2
            },
            "type": "scatter"
           }
          ],
          "scatter3d": [
           {
            "line": {
             "colorbar": {
              "outlinewidth": 0,
              "ticks": ""
             }
            },
            "marker": {
             "colorbar": {
              "outlinewidth": 0,
              "ticks": ""
             }
            },
            "type": "scatter3d"
           }
          ],
          "scattercarpet": [
           {
            "marker": {
             "colorbar": {
              "outlinewidth": 0,
              "ticks": ""
             }
            },
            "type": "scattercarpet"
           }
          ],
          "scattergeo": [
           {
            "marker": {
             "colorbar": {
              "outlinewidth": 0,
              "ticks": ""
             }
            },
            "type": "scattergeo"
           }
          ],
          "scattergl": [
           {
            "marker": {
             "colorbar": {
              "outlinewidth": 0,
              "ticks": ""
             }
            },
            "type": "scattergl"
           }
          ],
          "scattermapbox": [
           {
            "marker": {
             "colorbar": {
              "outlinewidth": 0,
              "ticks": ""
             }
            },
            "type": "scattermapbox"
           }
          ],
          "scatterpolar": [
           {
            "marker": {
             "colorbar": {
              "outlinewidth": 0,
              "ticks": ""
             }
            },
            "type": "scatterpolar"
           }
          ],
          "scatterpolargl": [
           {
            "marker": {
             "colorbar": {
              "outlinewidth": 0,
              "ticks": ""
             }
            },
            "type": "scatterpolargl"
           }
          ],
          "scatterternary": [
           {
            "marker": {
             "colorbar": {
              "outlinewidth": 0,
              "ticks": ""
             }
            },
            "type": "scatterternary"
           }
          ],
          "surface": [
           {
            "colorbar": {
             "outlinewidth": 0,
             "ticks": ""
            },
            "colorscale": [
             [
              0,
              "#0d0887"
             ],
             [
              0.1111111111111111,
              "#46039f"
             ],
             [
              0.2222222222222222,
              "#7201a8"
             ],
             [
              0.3333333333333333,
              "#9c179e"
             ],
             [
              0.4444444444444444,
              "#bd3786"
             ],
             [
              0.5555555555555556,
              "#d8576b"
             ],
             [
              0.6666666666666666,
              "#ed7953"
             ],
             [
              0.7777777777777778,
              "#fb9f3a"
             ],
             [
              0.8888888888888888,
              "#fdca26"
             ],
             [
              1,
              "#f0f921"
             ]
            ],
            "type": "surface"
           }
          ],
          "table": [
           {
            "cells": {
             "fill": {
              "color": "#EBF0F8"
             },
             "line": {
              "color": "white"
             }
            },
            "header": {
             "fill": {
              "color": "#C8D4E3"
             },
             "line": {
              "color": "white"
             }
            },
            "type": "table"
           }
          ]
         },
         "layout": {
          "annotationdefaults": {
           "arrowcolor": "#2a3f5f",
           "arrowhead": 0,
           "arrowwidth": 1
          },
          "autotypenumbers": "strict",
          "coloraxis": {
           "colorbar": {
            "outlinewidth": 0,
            "ticks": ""
           }
          },
          "colorscale": {
           "diverging": [
            [
             0,
             "#8e0152"
            ],
            [
             0.1,
             "#c51b7d"
            ],
            [
             0.2,
             "#de77ae"
            ],
            [
             0.3,
             "#f1b6da"
            ],
            [
             0.4,
             "#fde0ef"
            ],
            [
             0.5,
             "#f7f7f7"
            ],
            [
             0.6,
             "#e6f5d0"
            ],
            [
             0.7,
             "#b8e186"
            ],
            [
             0.8,
             "#7fbc41"
            ],
            [
             0.9,
             "#4d9221"
            ],
            [
             1,
             "#276419"
            ]
           ],
           "sequential": [
            [
             0,
             "#0d0887"
            ],
            [
             0.1111111111111111,
             "#46039f"
            ],
            [
             0.2222222222222222,
             "#7201a8"
            ],
            [
             0.3333333333333333,
             "#9c179e"
            ],
            [
             0.4444444444444444,
             "#bd3786"
            ],
            [
             0.5555555555555556,
             "#d8576b"
            ],
            [
             0.6666666666666666,
             "#ed7953"
            ],
            [
             0.7777777777777778,
             "#fb9f3a"
            ],
            [
             0.8888888888888888,
             "#fdca26"
            ],
            [
             1,
             "#f0f921"
            ]
           ],
           "sequentialminus": [
            [
             0,
             "#0d0887"
            ],
            [
             0.1111111111111111,
             "#46039f"
            ],
            [
             0.2222222222222222,
             "#7201a8"
            ],
            [
             0.3333333333333333,
             "#9c179e"
            ],
            [
             0.4444444444444444,
             "#bd3786"
            ],
            [
             0.5555555555555556,
             "#d8576b"
            ],
            [
             0.6666666666666666,
             "#ed7953"
            ],
            [
             0.7777777777777778,
             "#fb9f3a"
            ],
            [
             0.8888888888888888,
             "#fdca26"
            ],
            [
             1,
             "#f0f921"
            ]
           ]
          },
          "colorway": [
           "#636efa",
           "#EF553B",
           "#00cc96",
           "#ab63fa",
           "#FFA15A",
           "#19d3f3",
           "#FF6692",
           "#B6E880",
           "#FF97FF",
           "#FECB52"
          ],
          "font": {
           "color": "rgb(99, 99, 99)",
           "family": "Helvetica, sans-serif"
          },
          "geo": {
           "bgcolor": "white",
           "lakecolor": "white",
           "landcolor": "white",
           "showlakes": true,
           "showland": true,
           "subunitcolor": "#C8D4E3"
          },
          "hoverlabel": {
           "align": "left"
          },
          "hovermode": "closest",
          "mapbox": {
           "style": "light"
          },
          "paper_bgcolor": "white",
          "plot_bgcolor": "white",
          "polar": {
           "angularaxis": {
            "gridcolor": "#EBF0F8",
            "linecolor": "#EBF0F8",
            "ticks": ""
           },
           "bgcolor": "white",
           "radialaxis": {
            "gridcolor": "#EBF0F8",
            "linecolor": "#EBF0F8",
            "ticks": ""
           }
          },
          "scene": {
           "xaxis": {
            "backgroundcolor": "white",
            "gridcolor": "#DFE8F3",
            "gridwidth": 2,
            "linecolor": "#EBF0F8",
            "showbackground": true,
            "ticks": "",
            "zerolinecolor": "#EBF0F8"
           },
           "yaxis": {
            "backgroundcolor": "white",
            "gridcolor": "#DFE8F3",
            "gridwidth": 2,
            "linecolor": "#EBF0F8",
            "showbackground": true,
            "ticks": "",
            "zerolinecolor": "#EBF0F8"
           },
           "zaxis": {
            "backgroundcolor": "white",
            "gridcolor": "#DFE8F3",
            "gridwidth": 2,
            "linecolor": "#EBF0F8",
            "showbackground": true,
            "ticks": "",
            "zerolinecolor": "#EBF0F8"
           }
          },
          "shapedefaults": {
           "line": {
            "color": "#2a3f5f"
           }
          },
          "ternary": {
           "aaxis": {
            "gridcolor": "#DFE8F3",
            "linecolor": "#A2B1C6",
            "ticks": ""
           },
           "baxis": {
            "gridcolor": "#DFE8F3",
            "linecolor": "#A2B1C6",
            "ticks": ""
           },
           "bgcolor": "white",
           "caxis": {
            "gridcolor": "#DFE8F3",
            "linecolor": "#A2B1C6",
            "ticks": ""
           }
          },
          "title": {
           "x": 0.05
          },
          "xaxis": {
           "automargin": true,
           "gridcolor": "#EBF0F8",
           "linecolor": "#EBF0F8",
           "ticks": "",
           "title": {
            "standoff": 15
           },
           "zerolinecolor": "#EBF0F8",
           "zerolinewidth": 2
          },
          "yaxis": {
           "automargin": true,
           "gridcolor": "#EBF0F8",
           "linecolor": "#EBF0F8",
           "ticks": "",
           "title": {
            "standoff": 15
           },
           "zerolinecolor": "#EBF0F8",
           "zerolinewidth": 2
          }
         }
        },
        "xaxis": {
         "tickangle": 45,
         "tickfont": {
          "size": 11
         },
         "title": {
          "text": "Matéria"
         }
        },
        "yaxis": {
         "dtick": 1,
         "range": [
          0,
          10.5
         ],
         "title": {
          "text": "Nota"
         }
        }
       }
      }
     },
     "metadata": {},
     "output_type": "display_data"
    }
   ],
   "source": [
    "subjects_split_map = {\n",
    "    'REQUISITOS DE SOFTWARE': 'REQUISITOS DE<br>SOFTWARE',\n",
    "    'FAMILIARIZAÇÃO AERONÁUTICA': 'FAMILIARIZAÇÃO<br>AERONÁUTICA',\n",
    "    'ARQUITETURA DE SOFTWARE': 'ARQUITETURA DE<br>SOFTWARE',\n",
    "    'QUALIDADE DE SOFTWARE': 'QUALIDADE DE<br>SOFTWARE', \n",
    "    'TÓPICOS AVANÇADOS': 'TÓPICOS<br>AVANÇADOS',\n",
    "    'INTRODUÇÃO A CIÊNCIA DE DADOS': 'INTRODUÇÃO<br>A CIÊNCIA DE<br>DADOS',  \n",
    "    'ESTATÍSTICA AVANÇADA': 'ESTATÍSTICA<br>AVANÇADA',  \n",
    "    'APRENDIZAGEM DE MÁQUINA I': 'APRENDIZAGEM<br>DE MÁQUINA I',\n",
    "    'APRENDIZAGEM DE MÁQUINA II': 'APRENDIZAGEM<br>DE MÁQUINA II',\n",
    "    'ARQUITETURA BIG DATA E ANALYTICS': 'ARQUITETURA BIG<br>DATA E ANALYTICS',\n",
    "    'APLICAÇÕES DE APRENDIZAGEM DE MÁQUINA': 'APLICAÇÕES DE<br>APRENDIZAGEM DE<br>MÁQUINA',\n",
    "    'TRABALHO FINAL DE CURSO': 'TRABALHO FINAL<br>DE CURSO'\n",
    "}\n",
    "\n",
    "fig_ufpe_grades_values = go.Figure()\n",
    "fig_ufpe_grades_values.add_trace(go.Bar(x=df_ufpe['Disciplina'].map(subjects_split_map), y=df_ufpe['Resultado'],\n",
    "                                        marker_color=BLUE, hovertemplate='%{x}: %{y:.1f}'))\n",
    "fig_ufpe_grades_values.add_hline(y=df_ufpe['Resultado'].mean(), annotation_text=f'Média: {df_ufpe['Resultado'].mean():.2f}',\n",
    "                                 annotation_position='top right', annotation_y=df_ufpe['Resultado'].mean() + 0.2, line_dash='dash')\n",
    "# fig_ufpe_grades_values.update_layout({'title': 'Notas por matéria', 'xaxis_tickangle': 45, 'xaxis_tickfont_size': 11, \n",
    "#                                       'yaxis_range': [0, 10.5], 'yaxis_title': 'Nota', 'xaxis_title': 'Matéria', \n",
    "#                                       'bargap': 0.3, 'yaxis_dtick': 1})\n",
    "fig_ufpe_grades_values.update_layout({'margin_t': 40, 'xaxis_tickangle': 45, 'xaxis_tickfont_size': 11, 'yaxis_range': [0, 10.5], \n",
    "                                      'yaxis_title': 'Nota', 'xaxis_title': 'Matéria', 'bargap': 0.3, 'yaxis_dtick': 1})\n",
    "fig_ufpe_grades_values.write_html('../assets/graphs/ufpe_grades_values.html')\n",
    "fig_ufpe_grades_values"
   ]
  },
  {
   "cell_type": "markdown",
   "metadata": {},
   "source": [
    "#### Evolução temporal da nota média"
   ]
  },
  {
   "cell_type": "markdown",
   "metadata": {},
   "source": [
    "Para verificarmos a evolução temporal da nota média, podemos aplicar o método expanding com a média:"
   ]
  },
  {
   "cell_type": "code",
   "execution_count": 538,
   "metadata": {},
   "outputs": [
    {
     "name": "stderr",
     "output_type": "stream",
     "text": [
      "/var/folders/b1/0p0jycgj6llcx6cqndttv6180000gn/T/ipykernel_24212/2874547205.py:2: SettingWithCopyWarning:\n",
      "\n",
      "\n",
      "A value is trying to be set on a copy of a slice from a DataFrame.\n",
      "Try using .loc[row_indexer,col_indexer] = value instead\n",
      "\n",
      "See the caveats in the documentation: https://pandas.pydata.org/pandas-docs/stable/user_guide/indexing.html#returning-a-view-versus-a-copy\n",
      "\n"
     ]
    },
    {
     "data": {
      "text/html": [
       "<div>\n",
       "<style scoped>\n",
       "    .dataframe tbody tr th:only-of-type {\n",
       "        vertical-align: middle;\n",
       "    }\n",
       "\n",
       "    .dataframe tbody tr th {\n",
       "        vertical-align: top;\n",
       "    }\n",
       "\n",
       "    .dataframe thead th {\n",
       "        text-align: right;\n",
       "    }\n",
       "</style>\n",
       "<table border=\"1\" class=\"dataframe\">\n",
       "  <thead>\n",
       "    <tr style=\"text-align: right;\">\n",
       "      <th></th>\n",
       "      <th>Ordem</th>\n",
       "      <th>Resultado</th>\n",
       "    </tr>\n",
       "  </thead>\n",
       "  <tbody>\n",
       "    <tr>\n",
       "      <th>0</th>\n",
       "      <td>1</td>\n",
       "      <td>9.500000</td>\n",
       "    </tr>\n",
       "    <tr>\n",
       "      <th>1</th>\n",
       "      <td>2</td>\n",
       "      <td>9.750000</td>\n",
       "    </tr>\n",
       "    <tr>\n",
       "      <th>2</th>\n",
       "      <td>3</td>\n",
       "      <td>9.833333</td>\n",
       "    </tr>\n",
       "    <tr>\n",
       "      <th>3</th>\n",
       "      <td>4</td>\n",
       "      <td>9.875000</td>\n",
       "    </tr>\n",
       "    <tr>\n",
       "      <th>4</th>\n",
       "      <td>5</td>\n",
       "      <td>9.860000</td>\n",
       "    </tr>\n",
       "    <tr>\n",
       "      <th>5</th>\n",
       "      <td>6</td>\n",
       "      <td>9.800000</td>\n",
       "    </tr>\n",
       "    <tr>\n",
       "      <th>6</th>\n",
       "      <td>7</td>\n",
       "      <td>9.757143</td>\n",
       "    </tr>\n",
       "    <tr>\n",
       "      <th>7</th>\n",
       "      <td>8</td>\n",
       "      <td>9.787500</td>\n",
       "    </tr>\n",
       "    <tr>\n",
       "      <th>8</th>\n",
       "      <td>9</td>\n",
       "      <td>9.811111</td>\n",
       "    </tr>\n",
       "    <tr>\n",
       "      <th>9</th>\n",
       "      <td>10</td>\n",
       "      <td>9.830000</td>\n",
       "    </tr>\n",
       "    <tr>\n",
       "      <th>10</th>\n",
       "      <td>11</td>\n",
       "      <td>9.836364</td>\n",
       "    </tr>\n",
       "    <tr>\n",
       "      <th>11</th>\n",
       "      <td>12</td>\n",
       "      <td>9.850000</td>\n",
       "    </tr>\n",
       "  </tbody>\n",
       "</table>\n",
       "</div>"
      ],
      "text/plain": [
       "    Ordem  Resultado\n",
       "0       1   9.500000\n",
       "1       2   9.750000\n",
       "2       3   9.833333\n",
       "3       4   9.875000\n",
       "4       5   9.860000\n",
       "5       6   9.800000\n",
       "6       7   9.757143\n",
       "7       8   9.787500\n",
       "8       9   9.811111\n",
       "9      10   9.830000\n",
       "10     11   9.836364\n",
       "11     12   9.850000"
      ]
     },
     "execution_count": 538,
     "metadata": {},
     "output_type": "execute_result"
    }
   ],
   "source": [
    "mean_grade_evo = df_ufpe[['Ordem', 'Resultado']]\n",
    "mean_grade_evo['Resultado'] = mean_grade_evo['Resultado'].expanding().mean()\n",
    "mean_grade_evo"
   ]
  },
  {
   "cell_type": "markdown",
   "metadata": {},
   "source": [
    "Para este caso, podemos usar uma representação semelhante aquela utilizada para a evolução temporal do CR da graduação:"
   ]
  },
  {
   "cell_type": "code",
   "execution_count": 539,
   "metadata": {},
   "outputs": [
    {
     "data": {
      "application/vnd.plotly.v1+json": {
       "config": {
        "plotlyServerURL": "https://plot.ly"
       },
       "data": [
        {
         "line": {
          "shape": "spline"
         },
         "marker": {
          "color": "#73A1B2"
         },
         "name": "Meus conceitos",
         "type": "scatter",
         "x": [
          1,
          2,
          3,
          4,
          5,
          6,
          7,
          8,
          9,
          10,
          11,
          12
         ],
         "y": [
          9.5,
          9.75,
          9.833333333333334,
          9.875,
          9.86,
          9.799999999999999,
          9.757142857142856,
          9.7875,
          9.81111111111111,
          9.83,
          9.836363636363636,
          9.85
         ]
        }
       ],
       "layout": {
        "annotations": [
         {
          "showarrow": false,
          "text": "Valor máximo",
          "x": 1,
          "xanchor": "right",
          "xref": "x domain",
          "y": 10,
          "yanchor": "bottom",
          "yref": "y"
         },
         {
          "showarrow": false,
          "text": "Valor mínimo",
          "x": 1,
          "xanchor": "right",
          "xref": "x domain",
          "y": 0,
          "yanchor": "bottom",
          "yref": "y"
         }
        ],
        "margin": {
         "t": 40
        },
        "shapes": [
         {
          "line": {
           "color": "green",
           "dash": "dash"
          },
          "type": "line",
          "x0": 0,
          "x1": 1,
          "xref": "x domain",
          "y0": 10,
          "y1": 10,
          "yref": "y"
         },
         {
          "line": {
           "color": "red",
           "dash": "dash"
          },
          "type": "line",
          "x0": 0,
          "x1": 1,
          "xref": "x domain",
          "y0": 0,
          "y1": 0,
          "yref": "y"
         }
        ],
        "template": {
         "data": {
          "bar": [
           {
            "error_x": {
             "color": "#2a3f5f"
            },
            "error_y": {
             "color": "#2a3f5f"
            },
            "marker": {
             "line": {
              "color": "white",
              "width": 0.5
             },
             "pattern": {
              "fillmode": "overlay",
              "size": 10,
              "solidity": 0.2
             }
            },
            "type": "bar"
           }
          ],
          "barpolar": [
           {
            "marker": {
             "line": {
              "color": "white",
              "width": 0.5
             },
             "pattern": {
              "fillmode": "overlay",
              "size": 10,
              "solidity": 0.2
             }
            },
            "type": "barpolar"
           }
          ],
          "carpet": [
           {
            "aaxis": {
             "endlinecolor": "#2a3f5f",
             "gridcolor": "#C8D4E3",
             "linecolor": "#C8D4E3",
             "minorgridcolor": "#C8D4E3",
             "startlinecolor": "#2a3f5f"
            },
            "baxis": {
             "endlinecolor": "#2a3f5f",
             "gridcolor": "#C8D4E3",
             "linecolor": "#C8D4E3",
             "minorgridcolor": "#C8D4E3",
             "startlinecolor": "#2a3f5f"
            },
            "type": "carpet"
           }
          ],
          "choropleth": [
           {
            "colorbar": {
             "outlinewidth": 0,
             "ticks": ""
            },
            "type": "choropleth"
           }
          ],
          "contour": [
           {
            "colorbar": {
             "outlinewidth": 0,
             "ticks": ""
            },
            "colorscale": [
             [
              0,
              "#0d0887"
             ],
             [
              0.1111111111111111,
              "#46039f"
             ],
             [
              0.2222222222222222,
              "#7201a8"
             ],
             [
              0.3333333333333333,
              "#9c179e"
             ],
             [
              0.4444444444444444,
              "#bd3786"
             ],
             [
              0.5555555555555556,
              "#d8576b"
             ],
             [
              0.6666666666666666,
              "#ed7953"
             ],
             [
              0.7777777777777778,
              "#fb9f3a"
             ],
             [
              0.8888888888888888,
              "#fdca26"
             ],
             [
              1,
              "#f0f921"
             ]
            ],
            "type": "contour"
           }
          ],
          "contourcarpet": [
           {
            "colorbar": {
             "outlinewidth": 0,
             "ticks": ""
            },
            "type": "contourcarpet"
           }
          ],
          "heatmap": [
           {
            "colorbar": {
             "outlinewidth": 0,
             "ticks": ""
            },
            "colorscale": [
             [
              0,
              "#0d0887"
             ],
             [
              0.1111111111111111,
              "#46039f"
             ],
             [
              0.2222222222222222,
              "#7201a8"
             ],
             [
              0.3333333333333333,
              "#9c179e"
             ],
             [
              0.4444444444444444,
              "#bd3786"
             ],
             [
              0.5555555555555556,
              "#d8576b"
             ],
             [
              0.6666666666666666,
              "#ed7953"
             ],
             [
              0.7777777777777778,
              "#fb9f3a"
             ],
             [
              0.8888888888888888,
              "#fdca26"
             ],
             [
              1,
              "#f0f921"
             ]
            ],
            "type": "heatmap"
           }
          ],
          "heatmapgl": [
           {
            "colorbar": {
             "outlinewidth": 0,
             "ticks": ""
            },
            "colorscale": [
             [
              0,
              "#0d0887"
             ],
             [
              0.1111111111111111,
              "#46039f"
             ],
             [
              0.2222222222222222,
              "#7201a8"
             ],
             [
              0.3333333333333333,
              "#9c179e"
             ],
             [
              0.4444444444444444,
              "#bd3786"
             ],
             [
              0.5555555555555556,
              "#d8576b"
             ],
             [
              0.6666666666666666,
              "#ed7953"
             ],
             [
              0.7777777777777778,
              "#fb9f3a"
             ],
             [
              0.8888888888888888,
              "#fdca26"
             ],
             [
              1,
              "#f0f921"
             ]
            ],
            "type": "heatmapgl"
           }
          ],
          "histogram": [
           {
            "marker": {
             "pattern": {
              "fillmode": "overlay",
              "size": 10,
              "solidity": 0.2
             }
            },
            "type": "histogram"
           }
          ],
          "histogram2d": [
           {
            "colorbar": {
             "outlinewidth": 0,
             "ticks": ""
            },
            "colorscale": [
             [
              0,
              "#0d0887"
             ],
             [
              0.1111111111111111,
              "#46039f"
             ],
             [
              0.2222222222222222,
              "#7201a8"
             ],
             [
              0.3333333333333333,
              "#9c179e"
             ],
             [
              0.4444444444444444,
              "#bd3786"
             ],
             [
              0.5555555555555556,
              "#d8576b"
             ],
             [
              0.6666666666666666,
              "#ed7953"
             ],
             [
              0.7777777777777778,
              "#fb9f3a"
             ],
             [
              0.8888888888888888,
              "#fdca26"
             ],
             [
              1,
              "#f0f921"
             ]
            ],
            "type": "histogram2d"
           }
          ],
          "histogram2dcontour": [
           {
            "colorbar": {
             "outlinewidth": 0,
             "ticks": ""
            },
            "colorscale": [
             [
              0,
              "#0d0887"
             ],
             [
              0.1111111111111111,
              "#46039f"
             ],
             [
              0.2222222222222222,
              "#7201a8"
             ],
             [
              0.3333333333333333,
              "#9c179e"
             ],
             [
              0.4444444444444444,
              "#bd3786"
             ],
             [
              0.5555555555555556,
              "#d8576b"
             ],
             [
              0.6666666666666666,
              "#ed7953"
             ],
             [
              0.7777777777777778,
              "#fb9f3a"
             ],
             [
              0.8888888888888888,
              "#fdca26"
             ],
             [
              1,
              "#f0f921"
             ]
            ],
            "type": "histogram2dcontour"
           }
          ],
          "mesh3d": [
           {
            "colorbar": {
             "outlinewidth": 0,
             "ticks": ""
            },
            "type": "mesh3d"
           }
          ],
          "parcoords": [
           {
            "line": {
             "colorbar": {
              "outlinewidth": 0,
              "ticks": ""
             }
            },
            "type": "parcoords"
           }
          ],
          "pie": [
           {
            "automargin": true,
            "type": "pie"
           }
          ],
          "scatter": [
           {
            "fillpattern": {
             "fillmode": "overlay",
             "size": 10,
             "solidity": 0.2
            },
            "type": "scatter"
           }
          ],
          "scatter3d": [
           {
            "line": {
             "colorbar": {
              "outlinewidth": 0,
              "ticks": ""
             }
            },
            "marker": {
             "colorbar": {
              "outlinewidth": 0,
              "ticks": ""
             }
            },
            "type": "scatter3d"
           }
          ],
          "scattercarpet": [
           {
            "marker": {
             "colorbar": {
              "outlinewidth": 0,
              "ticks": ""
             }
            },
            "type": "scattercarpet"
           }
          ],
          "scattergeo": [
           {
            "marker": {
             "colorbar": {
              "outlinewidth": 0,
              "ticks": ""
             }
            },
            "type": "scattergeo"
           }
          ],
          "scattergl": [
           {
            "marker": {
             "colorbar": {
              "outlinewidth": 0,
              "ticks": ""
             }
            },
            "type": "scattergl"
           }
          ],
          "scattermapbox": [
           {
            "marker": {
             "colorbar": {
              "outlinewidth": 0,
              "ticks": ""
             }
            },
            "type": "scattermapbox"
           }
          ],
          "scatterpolar": [
           {
            "marker": {
             "colorbar": {
              "outlinewidth": 0,
              "ticks": ""
             }
            },
            "type": "scatterpolar"
           }
          ],
          "scatterpolargl": [
           {
            "marker": {
             "colorbar": {
              "outlinewidth": 0,
              "ticks": ""
             }
            },
            "type": "scatterpolargl"
           }
          ],
          "scatterternary": [
           {
            "marker": {
             "colorbar": {
              "outlinewidth": 0,
              "ticks": ""
             }
            },
            "type": "scatterternary"
           }
          ],
          "surface": [
           {
            "colorbar": {
             "outlinewidth": 0,
             "ticks": ""
            },
            "colorscale": [
             [
              0,
              "#0d0887"
             ],
             [
              0.1111111111111111,
              "#46039f"
             ],
             [
              0.2222222222222222,
              "#7201a8"
             ],
             [
              0.3333333333333333,
              "#9c179e"
             ],
             [
              0.4444444444444444,
              "#bd3786"
             ],
             [
              0.5555555555555556,
              "#d8576b"
             ],
             [
              0.6666666666666666,
              "#ed7953"
             ],
             [
              0.7777777777777778,
              "#fb9f3a"
             ],
             [
              0.8888888888888888,
              "#fdca26"
             ],
             [
              1,
              "#f0f921"
             ]
            ],
            "type": "surface"
           }
          ],
          "table": [
           {
            "cells": {
             "fill": {
              "color": "#EBF0F8"
             },
             "line": {
              "color": "white"
             }
            },
            "header": {
             "fill": {
              "color": "#C8D4E3"
             },
             "line": {
              "color": "white"
             }
            },
            "type": "table"
           }
          ]
         },
         "layout": {
          "annotationdefaults": {
           "arrowcolor": "#2a3f5f",
           "arrowhead": 0,
           "arrowwidth": 1
          },
          "autotypenumbers": "strict",
          "coloraxis": {
           "colorbar": {
            "outlinewidth": 0,
            "ticks": ""
           }
          },
          "colorscale": {
           "diverging": [
            [
             0,
             "#8e0152"
            ],
            [
             0.1,
             "#c51b7d"
            ],
            [
             0.2,
             "#de77ae"
            ],
            [
             0.3,
             "#f1b6da"
            ],
            [
             0.4,
             "#fde0ef"
            ],
            [
             0.5,
             "#f7f7f7"
            ],
            [
             0.6,
             "#e6f5d0"
            ],
            [
             0.7,
             "#b8e186"
            ],
            [
             0.8,
             "#7fbc41"
            ],
            [
             0.9,
             "#4d9221"
            ],
            [
             1,
             "#276419"
            ]
           ],
           "sequential": [
            [
             0,
             "#0d0887"
            ],
            [
             0.1111111111111111,
             "#46039f"
            ],
            [
             0.2222222222222222,
             "#7201a8"
            ],
            [
             0.3333333333333333,
             "#9c179e"
            ],
            [
             0.4444444444444444,
             "#bd3786"
            ],
            [
             0.5555555555555556,
             "#d8576b"
            ],
            [
             0.6666666666666666,
             "#ed7953"
            ],
            [
             0.7777777777777778,
             "#fb9f3a"
            ],
            [
             0.8888888888888888,
             "#fdca26"
            ],
            [
             1,
             "#f0f921"
            ]
           ],
           "sequentialminus": [
            [
             0,
             "#0d0887"
            ],
            [
             0.1111111111111111,
             "#46039f"
            ],
            [
             0.2222222222222222,
             "#7201a8"
            ],
            [
             0.3333333333333333,
             "#9c179e"
            ],
            [
             0.4444444444444444,
             "#bd3786"
            ],
            [
             0.5555555555555556,
             "#d8576b"
            ],
            [
             0.6666666666666666,
             "#ed7953"
            ],
            [
             0.7777777777777778,
             "#fb9f3a"
            ],
            [
             0.8888888888888888,
             "#fdca26"
            ],
            [
             1,
             "#f0f921"
            ]
           ]
          },
          "colorway": [
           "#636efa",
           "#EF553B",
           "#00cc96",
           "#ab63fa",
           "#FFA15A",
           "#19d3f3",
           "#FF6692",
           "#B6E880",
           "#FF97FF",
           "#FECB52"
          ],
          "font": {
           "color": "rgb(99, 99, 99)",
           "family": "Helvetica, sans-serif"
          },
          "geo": {
           "bgcolor": "white",
           "lakecolor": "white",
           "landcolor": "white",
           "showlakes": true,
           "showland": true,
           "subunitcolor": "#C8D4E3"
          },
          "hoverlabel": {
           "align": "left"
          },
          "hovermode": "closest",
          "mapbox": {
           "style": "light"
          },
          "paper_bgcolor": "white",
          "plot_bgcolor": "white",
          "polar": {
           "angularaxis": {
            "gridcolor": "#EBF0F8",
            "linecolor": "#EBF0F8",
            "ticks": ""
           },
           "bgcolor": "white",
           "radialaxis": {
            "gridcolor": "#EBF0F8",
            "linecolor": "#EBF0F8",
            "ticks": ""
           }
          },
          "scene": {
           "xaxis": {
            "backgroundcolor": "white",
            "gridcolor": "#DFE8F3",
            "gridwidth": 2,
            "linecolor": "#EBF0F8",
            "showbackground": true,
            "ticks": "",
            "zerolinecolor": "#EBF0F8"
           },
           "yaxis": {
            "backgroundcolor": "white",
            "gridcolor": "#DFE8F3",
            "gridwidth": 2,
            "linecolor": "#EBF0F8",
            "showbackground": true,
            "ticks": "",
            "zerolinecolor": "#EBF0F8"
           },
           "zaxis": {
            "backgroundcolor": "white",
            "gridcolor": "#DFE8F3",
            "gridwidth": 2,
            "linecolor": "#EBF0F8",
            "showbackground": true,
            "ticks": "",
            "zerolinecolor": "#EBF0F8"
           }
          },
          "shapedefaults": {
           "line": {
            "color": "#2a3f5f"
           }
          },
          "ternary": {
           "aaxis": {
            "gridcolor": "#DFE8F3",
            "linecolor": "#A2B1C6",
            "ticks": ""
           },
           "baxis": {
            "gridcolor": "#DFE8F3",
            "linecolor": "#A2B1C6",
            "ticks": ""
           },
           "bgcolor": "white",
           "caxis": {
            "gridcolor": "#DFE8F3",
            "linecolor": "#A2B1C6",
            "ticks": ""
           }
          },
          "title": {
           "x": 0.05
          },
          "xaxis": {
           "automargin": true,
           "gridcolor": "#EBF0F8",
           "linecolor": "#EBF0F8",
           "ticks": "",
           "title": {
            "standoff": 15
           },
           "zerolinecolor": "#EBF0F8",
           "zerolinewidth": 2
          },
          "yaxis": {
           "automargin": true,
           "gridcolor": "#EBF0F8",
           "linecolor": "#EBF0F8",
           "ticks": "",
           "title": {
            "standoff": 15
           },
           "zerolinecolor": "#EBF0F8",
           "zerolinewidth": 2
          }
         }
        },
        "xaxis": {
         "dtick": 1,
         "range": [
          0.5,
          12.5
         ],
         "title": {
          "text": "Ordem da matéria"
         }
        },
        "yaxis": {
         "range": [
          9.4,
          10.05
         ],
         "title": {
          "text": "Nota média"
         }
        }
       }
      }
     },
     "metadata": {},
     "output_type": "display_data"
    }
   ],
   "source": [
    "fig_ufpe_mean_grade_evo = go.Figure()\n",
    "fig_ufpe_mean_grade_evo.add_trace(go.Scatter(x=mean_grade_evo['Ordem'], y=mean_grade_evo['Resultado'], name='Meus conceitos', \n",
    "                                        line_shape='spline', marker_color=BLUE))\n",
    "fig_ufpe_mean_grade_evo.add_hline(y=10, line_color='green', line_dash='dash', annotation_text='Valor máximo')\n",
    "fig_ufpe_mean_grade_evo.add_hline(y=0, line_color='red', line_dash='dash', annotation_text='Valor mínimo')\n",
    "# fig_ufpe_mean_grade_evo.update_layout({'title': 'Evolução temporal da nota média', 'yaxis_range': [9.4, 10.05], # 'yaxis_range': [-0.25, 10.25], \n",
    "#                                        'xaxis_range': [0.5, 12.5], 'xaxis_dtick': 1,\n",
    "#                                        'yaxis_title': 'Nota média', 'xaxis_title': 'Ordem da matéria'})\n",
    "fig_ufpe_mean_grade_evo.update_layout({'margin_t': 40, 'yaxis_range': [9.4, 10.05], # 'yaxis_range': [-0.25, 10.25], \n",
    "                                       'xaxis_range': [0.5, 12.5], 'xaxis_dtick': 1,\n",
    "                                       'yaxis_title': 'Nota média', 'xaxis_title': 'Ordem da matéria'})\n",
    "fig_ufpe_mean_grade_evo.write_html('../assets/graphs/ufpe_mean_grade_evos.html')\n",
    "fig_ufpe_mean_grade_evo.show()"
   ]
  }
 ],
 "metadata": {
  "kernelspec": {
   "display_name": "githubpages-env",
   "language": "python",
   "name": "python3"
  },
  "language_info": {
   "codemirror_mode": {
    "name": "ipython",
    "version": 3
   },
   "file_extension": ".py",
   "mimetype": "text/x-python",
   "name": "python",
   "nbconvert_exporter": "python",
   "pygments_lexer": "ipython3",
   "version": "3.12.0"
  }
 },
 "nbformat": 4,
 "nbformat_minor": 2
}
